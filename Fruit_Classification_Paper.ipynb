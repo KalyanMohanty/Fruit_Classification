{
  "nbformat": 4,
  "nbformat_minor": 0,
  "metadata": {
    "colab": {
      "name": "Fruit_Classification_Paper.ipynb",
      "provenance": [],
      "collapsed_sections": [],
      "toc_visible": true,
      "mount_file_id": "1ycCIkwE-wLeCvK4mKsHN-7w6pgBPFodQ",
      "authorship_tag": "ABX9TyMMFi8DaSq1TvjgqC9NA7lx",
      "include_colab_link": true
    },
    "kernelspec": {
      "name": "python3",
      "display_name": "Python 3"
    },
    "language_info": {
      "name": "python"
    },
    "accelerator": "GPU"
  },
  "cells": [
    {
      "cell_type": "markdown",
      "metadata": {
        "id": "view-in-github",
        "colab_type": "text"
      },
      "source": [
        "<a href=\"https://colab.research.google.com/github/KalyanMohanty/Fruit_Classification/blob/main/Fruit_Classification_Paper.ipynb\" target=\"_parent\"><img src=\"https://colab.research.google.com/assets/colab-badge.svg\" alt=\"Open In Colab\"/></a>"
      ]
    },
    {
      "cell_type": "code",
      "metadata": {
        "id": "cqnEjMXZ__af"
      },
      "source": [
        "import os\n",
        "import numpy as np\n",
        "import matplotlib.pyplot as plt\n",
        "from tensorflow.keras.utils import to_categorical, plot_model\n",
        "from tensorflow.keras.preprocessing import image\n",
        "from tensorflow.keras import models,layers"
      ],
      "execution_count": 104,
      "outputs": []
    },
    {
      "cell_type": "code",
      "metadata": {
        "colab": {
          "base_uri": "https://localhost:8080/"
        },
        "id": "PPGCVNptAKzB",
        "outputId": "2f4b4c2b-78a0-4491-9b84-184e6c6450c7"
      },
      "source": [
        "names = os.listdir(\"/content/drive/MyDrive/fruit dataset\")\n",
        "names"
      ],
      "execution_count": 105,
      "outputs": [
        {
          "output_type": "execute_result",
          "data": {
            "text/plain": [
              "['fresh bananas',\n",
              " 'fresh oranges',\n",
              " 'rotten apples',\n",
              " 'fresh apples',\n",
              " 'rotten bananas',\n",
              " 'rotten oranges',\n",
              " '.ipynb_checkpoints']"
            ]
          },
          "metadata": {
            "tags": []
          },
          "execution_count": 105
        }
      ]
    },
    {
      "cell_type": "code",
      "metadata": {
        "colab": {
          "base_uri": "https://localhost:8080/"
        },
        "id": "FGRCX0-SANFq",
        "outputId": "bc0ea783-5193-41da-ed2f-e44f00f31e3d"
      },
      "source": [
        "x = []\n",
        "y = []\n",
        "\n",
        "for folder in names:\n",
        "  files = os.listdir(\"/content/drive/MyDrive/fruit dataset/\"+folder)\n",
        "  for file in files:\n",
        "    img = image.load_img(\"/content/drive/MyDrive/fruit dataset/\"+folder+\"/\"+file,target_size=(200,200))\n",
        "    img = image.img_to_array(img)\n",
        "    x.append(img)\n",
        "    y.append(names.index(folder))\n",
        "\n",
        "\n",
        "x = np.array(x)\n",
        "y = np.array(y)\n",
        "print(x.shape)\n",
        "print(y.shape)"
      ],
      "execution_count": 106,
      "outputs": [
        {
          "output_type": "stream",
          "text": [
            "(849, 200, 200, 3)\n",
            "(849,)\n"
          ],
          "name": "stdout"
        }
      ]
    },
    {
      "cell_type": "code",
      "metadata": {
        "colab": {
          "base_uri": "https://localhost:8080/"
        },
        "id": "uQq1mOxfANIq",
        "outputId": "73a65c38-f133-4cd3-915d-c1deb3746d07"
      },
      "source": [
        "x = np.array(x)\n",
        "y = np.array(y)\n",
        "print(x.shape)\n",
        "print(y.shape)\n"
      ],
      "execution_count": 107,
      "outputs": [
        {
          "output_type": "stream",
          "text": [
            "(849, 200, 200, 3)\n",
            "(849,)\n"
          ],
          "name": "stdout"
        }
      ]
    },
    {
      "cell_type": "code",
      "metadata": {
        "colab": {
          "base_uri": "https://localhost:8080/"
        },
        "id": "kZeVf_PQANKG",
        "outputId": "a3a320b5-159c-4f70-9873-f968a5d4902f"
      },
      "source": [
        "y = to_categorical(y)\n",
        "print(y.shape)"
      ],
      "execution_count": 108,
      "outputs": [
        {
          "output_type": "stream",
          "text": [
            "(849, 6)\n"
          ],
          "name": "stdout"
        }
      ]
    },
    {
      "cell_type": "code",
      "metadata": {
        "id": "nwYUMnYYANMY"
      },
      "source": [
        "x = x/255"
      ],
      "execution_count": 109,
      "outputs": []
    },
    {
      "cell_type": "markdown",
      "metadata": {
        "id": "QKCI6nctApAM"
      },
      "source": [
        "# CNN"
      ]
    },
    {
      "cell_type": "code",
      "metadata": {
        "id": "v471GCHtANOF"
      },
      "source": [
        "from sklearn.model_selection import train_test_split\n",
        "xtrain,xtest,ytrain,ytest = train_test_split(x,y,test_size=0.2,random_state=5)"
      ],
      "execution_count": 110,
      "outputs": []
    },
    {
      "cell_type": "code",
      "metadata": {
        "id": "bxW6qcFwANRV"
      },
      "source": [
        "model = models.Sequential()\n",
        "model.add(layers.Conv2D(filters=20,kernel_size=(5,5),input_shape=(200,200,3),activation = 'relu'))\n",
        "model.add(layers.Conv2D(30,(5,5),activation='relu'))\n",
        "model.add(layers.MaxPooling2D(pool_size=(2,2)))\n",
        "model.add(layers.Dropout(0.5))\n",
        "model.add(layers.Conv2D(40,(3,3),activation='relu'))\n",
        "model.add(layers.Conv2D(80,(3,3),activation='relu'))\n",
        "model.add(layers.Conv2D(100,(3,3),activation='relu'))\n",
        "model.add(layers.Conv2D(120,(3,3),activation='relu'))\n",
        "model.add(layers.Conv2D(140,(3,3),activation='relu'))\n",
        "model.add(layers.Conv2D(160,(3,3),activation='relu'))\n",
        "model.add(layers.MaxPooling2D(pool_size=(2,2)))\n",
        "model.add(layers.Flatten())\n",
        "model.add(layers.Dense(180,activation='relu'))\n",
        "model.add(layers.Dropout(0.5))\n",
        "model.add(layers.Dense(100,activation='relu'))\n",
        "model.add(layers.Dense(6,activation='softmax'))\n"
      ],
      "execution_count": 111,
      "outputs": []
    },
    {
      "cell_type": "code",
      "metadata": {
        "id": "6lcaXjvrANUF"
      },
      "source": [
        "model.compile(loss='categorical_crossentropy',optimizer='adam',metrics=['accuracy'])"
      ],
      "execution_count": 112,
      "outputs": []
    },
    {
      "cell_type": "code",
      "metadata": {
        "id": "K0hPUdOEANV3"
      },
      "source": [
        "from tensorflow.keras.preprocessing.image import ImageDataGenerator\n",
        "train_datagen = ImageDataGenerator(rescale=1./255, #Scale the image between 0 and 1\n",
        " rotation_range=40,\n",
        " width_shift_range=0.2,\n",
        " height_shift_range=0.2,\n",
        " shear_range=0.2,\n",
        " zoom_range=0.2,\n",
        " horizontal_flip=True,)\n"
      ],
      "execution_count": 178,
      "outputs": []
    },
    {
      "cell_type": "code",
      "metadata": {
        "id": "pgym4MmWANXT"
      },
      "source": [
        "train_datagen = ImageDataGenerator(rescale=1./255 )\n",
        "val_datagen = ImageDataGenerator(rescale=1./255)"
      ],
      "execution_count": 179,
      "outputs": []
    },
    {
      "cell_type": "code",
      "metadata": {
        "id": "gXNislqbA_Z7"
      },
      "source": [
        "#Create the image generators\n",
        "batch_size = 32\n",
        "train_generator = train_datagen.flow(xtrain, ytrain, batch_size=batch_size)\n",
        "val_generator = val_datagen.flow(xtest, ytest, batch_size=batch_size)\n"
      ],
      "execution_count": 185,
      "outputs": []
    },
    {
      "cell_type": "code",
      "metadata": {
        "colab": {
          "base_uri": "https://localhost:8080/"
        },
        "id": "2kt6UWNbBErM",
        "outputId": "ec0f7693-14a5-478e-c705-c832a6f7b730"
      },
      "source": [
        "ntrain = len(xtrain)\n",
        "nval = len(xtest)\n",
        "print(ntrain)\n",
        "print(nval)\n"
      ],
      "execution_count": 181,
      "outputs": [
        {
          "output_type": "stream",
          "text": [
            "679\n",
            "170\n"
          ],
          "name": "stdout"
        }
      ]
    },
    {
      "cell_type": "code",
      "metadata": {
        "id": "6VvvzWVOQafX"
      },
      "source": [
        "# Function for plots images with labels within jupyter notebook\n",
        "def plots(ims, figsize=(12,12), rows=1, interp=False, titles=None):\n",
        "    if type(ims[0]) is np.ndarray:\n",
        "        ims = np.array(ims).astype(np.uint8)\n",
        "        if (ims.shape[-1] != 3):\n",
        "            ims = ims.transpose((0,2,3,1))\n",
        "    f = plt.figure(figsize=figsize)\n",
        "    cols = len(ims)//rows if len(ims) % 2 == 0 else len(ims)//rows + 1\n",
        "    for i in range(len(ims)):\n",
        "        sp = f.add_subplot(cols, rows, i+1)\n",
        "        sp.axis('Off')\n",
        "        if titles is not None:\n",
        "            sp.set_title(titles[i], fontsize=12)\n",
        "        plt.imshow(ims[i], interpolation=None if interp else 'none')\n",
        "#Check the training set (with batch of 10 as defined above\n",
        "# imgs, labels = next(train_generator)\n",
        "# #Images are shown in the output\n",
        "# plots(imgs, titles=labels)\n",
        "# #Images Classes with index\n",
        "\n",
        "# print(train_generator.index_generator)"
      ],
      "execution_count": 186,
      "outputs": []
    },
    {
      "cell_type": "code",
      "metadata": {
        "colab": {
          "base_uri": "https://localhost:8080/"
        },
        "id": "lvKCdpTdBINw",
        "outputId": "d6fd75a9-94d8-4f1b-9e0c-74fa546d8803"
      },
      "source": [
        "history = model.fit_generator(train_generator,\n",
        " steps_per_epoch=ntrain // batch_size,\n",
        " epochs=20,\n",
        " validation_data=val_generator,\n",
        " validation_steps=nval // batch_size)\n"
      ],
      "execution_count": 118,
      "outputs": [
        {
          "output_type": "stream",
          "text": [
            "Epoch 1/20\n"
          ],
          "name": "stdout"
        },
        {
          "output_type": "stream",
          "text": [
            "/usr/local/lib/python3.7/dist-packages/tensorflow/python/keras/engine/training.py:1844: UserWarning: `Model.fit_generator` is deprecated and will be removed in a future version. Please use `Model.fit`, which supports generators.\n",
            "  warnings.warn('`Model.fit_generator` is deprecated and '\n"
          ],
          "name": "stderr"
        },
        {
          "output_type": "stream",
          "text": [
            "21/21 [==============================] - 6s 250ms/step - loss: 1.9327 - accuracy: 0.1743 - val_loss: 1.7894 - val_accuracy: 0.2188\n",
            "Epoch 2/20\n",
            "21/21 [==============================] - 5s 237ms/step - loss: 1.7922 - accuracy: 0.1631 - val_loss: 1.7900 - val_accuracy: 0.1813\n",
            "Epoch 3/20\n",
            "21/21 [==============================] - 5s 236ms/step - loss: 1.7923 - accuracy: 0.1705 - val_loss: 1.7897 - val_accuracy: 0.1625\n",
            "Epoch 4/20\n",
            "21/21 [==============================] - 5s 238ms/step - loss: 1.7919 - accuracy: 0.1831 - val_loss: 1.7903 - val_accuracy: 0.1500\n",
            "Epoch 5/20\n",
            "21/21 [==============================] - 5s 239ms/step - loss: 1.7909 - accuracy: 0.1812 - val_loss: 1.7921 - val_accuracy: 0.1437\n",
            "Epoch 6/20\n",
            "21/21 [==============================] - 5s 239ms/step - loss: 1.7915 - accuracy: 0.1829 - val_loss: 1.7917 - val_accuracy: 0.1500\n",
            "Epoch 7/20\n",
            "21/21 [==============================] - 5s 240ms/step - loss: 1.7901 - accuracy: 0.1875 - val_loss: 1.7908 - val_accuracy: 0.1437\n",
            "Epoch 8/20\n",
            "21/21 [==============================] - 5s 239ms/step - loss: 1.7937 - accuracy: 0.1695 - val_loss: 1.7922 - val_accuracy: 0.1437\n",
            "Epoch 9/20\n",
            "21/21 [==============================] - 5s 237ms/step - loss: 1.7920 - accuracy: 0.1751 - val_loss: 1.7908 - val_accuracy: 0.1500\n",
            "Epoch 10/20\n",
            "21/21 [==============================] - 5s 235ms/step - loss: 1.7926 - accuracy: 0.1874 - val_loss: 1.7918 - val_accuracy: 0.1500\n",
            "Epoch 11/20\n",
            "21/21 [==============================] - 5s 236ms/step - loss: 1.7906 - accuracy: 0.1757 - val_loss: 1.7929 - val_accuracy: 0.1562\n",
            "Epoch 12/20\n",
            "21/21 [==============================] - 5s 236ms/step - loss: 1.7886 - accuracy: 0.1946 - val_loss: 1.7957 - val_accuracy: 0.1437\n",
            "Epoch 13/20\n",
            "21/21 [==============================] - 5s 236ms/step - loss: 1.7910 - accuracy: 0.1707 - val_loss: 1.7948 - val_accuracy: 0.1562\n",
            "Epoch 14/20\n",
            "21/21 [==============================] - 5s 235ms/step - loss: 1.7930 - accuracy: 0.1539 - val_loss: 1.7943 - val_accuracy: 0.1500\n",
            "Epoch 15/20\n",
            "21/21 [==============================] - 5s 233ms/step - loss: 1.7902 - accuracy: 0.1766 - val_loss: 1.7952 - val_accuracy: 0.1437\n",
            "Epoch 16/20\n",
            "21/21 [==============================] - 5s 234ms/step - loss: 1.7918 - accuracy: 0.1646 - val_loss: 1.7953 - val_accuracy: 0.1437\n",
            "Epoch 17/20\n",
            "21/21 [==============================] - 5s 235ms/step - loss: 1.7885 - accuracy: 0.1990 - val_loss: 1.7954 - val_accuracy: 0.1437\n",
            "Epoch 18/20\n",
            "21/21 [==============================] - 5s 235ms/step - loss: 1.7913 - accuracy: 0.1816 - val_loss: 1.7945 - val_accuracy: 0.1500\n",
            "Epoch 19/20\n",
            "21/21 [==============================] - 5s 236ms/step - loss: 1.7881 - accuracy: 0.1827 - val_loss: 1.7963 - val_accuracy: 0.1500\n",
            "Epoch 20/20\n",
            "21/21 [==============================] - 5s 243ms/step - loss: 1.7897 - accuracy: 0.2050 - val_loss: 1.7957 - val_accuracy: 0.1562\n"
          ],
          "name": "stdout"
        }
      ]
    },
    {
      "cell_type": "code",
      "metadata": {
        "colab": {
          "base_uri": "https://localhost:8080/"
        },
        "id": "AugdrrAvTH-H",
        "outputId": "dffdaec2-fbab-4e52-9606-a8f4000ed224"
      },
      "source": [
        "test_score = model.evaluate_generator(val_generator, batch_size)\n",
        "print(\"\\n\\n\")\n",
        "print(\"------------------------------------------\")\n",
        "print(\"CNN - Validation Accuracy : {:.2f}%\".format(test_score[1] * 100)) \n",
        "print(\"CNN - Validation Loss: \",test_score[0])\n",
        "print(\"------------------------------------------\")"
      ],
      "execution_count": 196,
      "outputs": [
        {
          "output_type": "stream",
          "text": [
            "/usr/local/lib/python3.7/dist-packages/tensorflow/python/keras/engine/training.py:1877: UserWarning: `Model.evaluate_generator` is deprecated and will be removed in a future version. Please use `Model.evaluate`, which supports generators.\n",
            "  warnings.warn('`Model.evaluate_generator` is deprecated and '\n"
          ],
          "name": "stderr"
        },
        {
          "output_type": "stream",
          "text": [
            "WARNING:tensorflow:Your input ran out of data; interrupting training. Make sure that your dataset or generator can generate at least `steps_per_epoch * epochs` batches (in this case, 32 batches). You may need to use the repeat() function when building your dataset.\n",
            "\n",
            "\n",
            "\n",
            "------------------------------------------\n",
            "CNN - Validation Accuracy : 14.71%\n",
            "CNN - Validation Loss:  1.7967909574508667\n",
            "------------------------------------------\n"
          ],
          "name": "stdout"
        }
      ]
    },
    {
      "cell_type": "code",
      "metadata": {
        "id": "5B6FniecUtJB"
      },
      "source": [
        "# import cv2\n",
        "# import keras\n",
        "# model.save(\"/content/drive/MyDrive/Colab Notebooks/Fruit Classification Notebook/plots/CNN.hdf5\")\n",
        "# #Test the model\n",
        "# img_rows = 250\n",
        "# img_cols = 250\n",
        "# model = keras.models.load_model('/content/drive/MyDrive/Colab Notebooks/Fruit Classification Notebook/plots/CNN.hdf5')\n",
        "# file = '/content/drive/MyDrive/Colab Notebooks/Fruit Classification Notebook/test1.png'\n",
        "# img = cv2.cvtColor(cv2.imread(file),cv2.COLOR_BGR2RGB)\n",
        "# img = cv2.resize(img, (img_rows,img_cols))\n",
        "# test_image = image.img_to_array(img)\n",
        "# test_image = np.expand_dims(test_image, axis=0)\n",
        "# pred = model.predict(test_image)\n",
        "# print(pred, labels[np.argmax(pred)])"
      ],
      "execution_count": 215,
      "outputs": []
    },
    {
      "cell_type": "markdown",
      "metadata": {
        "id": "exCu25BpBq8d"
      },
      "source": [
        "#Plot model Accuracy and Loss"
      ]
    },
    {
      "cell_type": "code",
      "metadata": {
        "colab": {
          "base_uri": "https://localhost:8080/",
          "height": 295
        },
        "id": "3ITZMqRwBKrg",
        "outputId": "a4c77022-ed37-40b9-d476-c454e09d12c2"
      },
      "source": [
        "#get the details form the history object\n",
        "acc = history.history['accuracy']\n",
        "val_acc = history.history['val_accuracy']\n",
        "loss = history.history['loss']\n",
        "val_loss = history.history['val_loss']\n",
        "epochs = range(1, len(acc) + 1)\n",
        "#Train and validation accuracy\n",
        "plt.plot(epochs, acc, 'b', label='Training accurarcy')\n",
        "plt.plot(epochs, val_acc, 'r', label='Validation accurarcy')\n",
        "plt.title('CNN - Training and Validation accurarcy')\n",
        "plt.xlabel(\"Number of Epochs\")\n",
        "plt.ylabel(\"Accuracy\")\n",
        "plt.grid()\n",
        "plt.legend()\n",
        "\n",
        "plt.savefig(\"/content/drive/MyDrive/Colab Notebooks/Fruit Classification Notebook/plots/CNN_Accuracy.png\")"
      ],
      "execution_count": 119,
      "outputs": [
        {
          "output_type": "display_data",
          "data": {
            "image/png": "[encoded data removed]",
            "text/plain": [
              "<Figure size 432x288 with 1 Axes>"
            ]
          },
          "metadata": {
            "tags": [],
            "needs_background": "light"
          }
        }
      ]
    },
    {
      "cell_type": "code",
      "metadata": {
        "colab": {
          "base_uri": "https://localhost:8080/",
          "height": 295
        },
        "id": "ufXUtl2WBw8-",
        "outputId": "80e6c736-3081-4377-a620-fe9c7de87e5c"
      },
      "source": [
        "plt.figure()\n",
        "#Train and validation loss\n",
        "plt.plot(epochs, loss, 'b', label='Training loss')\n",
        "plt.plot(epochs, val_loss, 'r', label='Validation loss')\n",
        "plt.title('CNN - Training and Validation loss')\n",
        "plt.xlabel(\"Number of Epochs\")\n",
        "plt.ylabel(\"Loss\")\n",
        "plt.legend()\n",
        "plt.grid()\n",
        "\n",
        "plt.savefig(\"/content/drive/MyDrive/Colab Notebooks/Fruit Classification Notebook/plots/CNN_Loss.png\")\n"
      ],
      "execution_count": 120,
      "outputs": [
        {
          "output_type": "display_data",
          "data": {
            "image/png": "[encoded data removed]",
            "text/plain": [
              "<Figure size 432x288 with 1 Axes>"
            ]
          },
          "metadata": {
            "tags": [],
            "needs_background": "light"
          }
        }
      ]
    },
    {
      "cell_type": "code",
      "metadata": {
        "id": "8NGYlbRIByOT"
      },
      "source": [
        "# Y_pred = model.predict(xtest)\n",
        "# # #y_pred = np.argmax(Y_pred, axis=1) - used for multiclass\n",
        "# # y_pred = (Y_pred > 0.5) * 1.0\n",
        "# # y_pred = y_pred.reshape(ytest.shape)\n",
        "# print(Y_pred.shape)\n",
        "# # y_pred.sum()\n",
        "# print(Y_pred[10])\n",
        "# y_pred = (Y_pred > 0.5) * 1.0\n",
        "# y_pred = y_pred.reshape(ytest.shape)\n",
        "# print(y_pred)\n"
      ],
      "execution_count": 214,
      "outputs": []
    },
    {
      "cell_type": "code",
      "metadata": {
        "id": "TpNmFS0kIl-k"
      },
      "source": [
        "# #confusion matrix\n",
        "# from sklearn.metrics import confusion_matrix\n",
        "# import seaborn as sns\n",
        "# y_pred=model.predict(xtest)\n",
        "# y_pred_classes=np.argmax(y_pred,axis=1)\n",
        "# y_true=np.argmax(ytest,axis=1)\n",
        "# #compute conf mat\n",
        "# conf_mat=confusion_matrix(y_true,y_pred_classes)\n",
        "# #plot the con mat\n",
        "# fruit_names=['fresh bananas',\n",
        "#  'fresh oranges',\n",
        "#  'rotten apples',\n",
        "#  'fresh apples',\n",
        "#  'rotten bananas',\n",
        "#  'rotten oranges']\n",
        "# f,ax=plt.subplots(figsize=(10,10))\n",
        "# sns.heatmap(conf_mat,annot=True,fmt='.0f')\n",
        "# ax.set_xticklabels(fruit_names)\n",
        "# ax.set_yticklabels(fruit_names)\n",
        "# plt.show()\n",
        "# print(conf_mat)"
      ],
      "execution_count": 211,
      "outputs": []
    },
    {
      "cell_type": "code",
      "metadata": {
        "colab": {
          "base_uri": "https://localhost:8080/",
          "height": 549
        },
        "id": "PgfQV40XXUzj",
        "outputId": "43f204ac-b56f-434d-8088-d28b69de4a00"
      },
      "source": [
        "#confusion matrix\n",
        "from sklearn.metrics import confusion_matrix\n",
        "import seaborn as sns\n",
        "y_pred=model.predict(xtest)\n",
        "y_pred_classes=np.argmax(y_pred,axis=1)\n",
        "y_true=np.argmax(ytest,axis=1)\n",
        "#compute conf mat\n",
        "conf_mat=confusion_matrix(y_true,y_pred_classes)\n",
        "#plot the con mat\n",
        "fruit_names=['fresh bananas',\n",
        " 'fresh oranges',\n",
        " 'rotten apples',\n",
        " 'fresh apples',\n",
        " 'rotten bananas',\n",
        " 'rotten oranges']\n",
        "f,ax=plt.subplots(figsize=(10,9))\n",
        "sns.heatmap(conf_mat,annot=True,fmt='.0f')\n",
        "ax.set_xticklabels(fruit_names)\n",
        "ax.set_yticklabels(fruit_names)\n",
        "plt.show()"
      ],
      "execution_count": 217,
      "outputs": [
        {
          "output_type": "display_data",
          "data": {
            "image/png": "[encoded data removed]",
            "text/plain": [
              "<Figure size 720x648 with 2 Axes>"
            ]
          },
          "metadata": {
            "tags": [],
            "needs_background": "light"
          }
        }
      ]
    },
    {
      "cell_type": "code",
      "metadata": {
        "colab": {
          "base_uri": "https://localhost:8080/"
        },
        "id": "-i9jRPy8Zsva",
        "outputId": "eac6956f-522c-458b-f23d-8454b66e7de3"
      },
      "source": [
        "import sklearn.metrics as metrics\n",
        "target_names = ['fresh bananas',\n",
        " 'fresh oranges',\n",
        " 'rotten apples',\n",
        " 'fresh apples',\n",
        " 'rotten bananas',\n",
        " 'rotten oranges']\n",
        "Y_pred = model.predict_generator(val_generator, 2513 // batch_size+1)\n",
        "y_pred = np.argmax(Y_pred, axis=1)\n",
        "print('Confusion Matrix')\n",
        "cm = metrics.confusion_matrix(val_generator.index_array, y_pred)\n",
        "print(cm)\n",
        "print('Classification Report')\n",
        "print(metrics.classification_report(val_generator.index_array, y_pred))"
      ],
      "execution_count": 224,
      "outputs": [
        {
          "output_type": "stream",
          "text": [
            "/usr/local/lib/python3.7/dist-packages/tensorflow/python/keras/engine/training.py:1905: UserWarning: `Model.predict_generator` is deprecated and will be removed in a future version. Please use `Model.predict`, which supports generators.\n",
            "  warnings.warn('`Model.predict_generator` is deprecated and '\n"
          ],
          "name": "stderr"
        },
        {
          "output_type": "stream",
          "text": [
            "WARNING:tensorflow:Your input ran out of data; interrupting training. Make sure that your dataset or generator can generate at least `steps_per_epoch * epochs` batches (in this case, 79 batches). You may need to use the repeat() function when building your dataset.\n",
            "Confusion Matrix\n",
            "[[0 1 0 ... 0 0 0]\n",
            " [0 1 0 ... 0 0 0]\n",
            " [0 1 0 ... 0 0 0]\n",
            " ...\n",
            " [0 1 0 ... 0 0 0]\n",
            " [0 1 0 ... 0 0 0]\n",
            " [0 1 0 ... 0 0 0]]\n",
            "Classification Report\n",
            "              precision    recall  f1-score   support\n",
            "\n",
            "           0       0.00      0.00      0.00         1\n",
            "           1       0.01      1.00      0.01         1\n",
            "           2       0.00      0.00      0.00         1\n",
            "           3       0.00      0.00      0.00         1\n",
            "           4       0.00      0.00      0.00         1\n",
            "           5       0.00      0.00      0.00         1\n",
            "           6       0.00      0.00      0.00         1\n",
            "           7       0.00      0.00      0.00         1\n",
            "           8       0.00      0.00      0.00         1\n",
            "           9       0.00      0.00      0.00         1\n",
            "          10       0.00      0.00      0.00         1\n",
            "          11       0.00      0.00      0.00         1\n",
            "          12       0.00      0.00      0.00         1\n",
            "          13       0.00      0.00      0.00         1\n",
            "          14       0.00      0.00      0.00         1\n",
            "          15       0.00      0.00      0.00         1\n",
            "          16       0.00      0.00      0.00         1\n",
            "          17       0.00      0.00      0.00         1\n",
            "          18       0.00      0.00      0.00         1\n",
            "          19       0.00      0.00      0.00         1\n",
            "          20       0.00      0.00      0.00         1\n",
            "          21       0.00      0.00      0.00         1\n",
            "          22       0.00      0.00      0.00         1\n",
            "          23       0.00      0.00      0.00         1\n",
            "          24       0.00      0.00      0.00         1\n",
            "          25       0.00      0.00      0.00         1\n",
            "          26       0.00      0.00      0.00         1\n",
            "          27       0.00      0.00      0.00         1\n",
            "          28       0.00      0.00      0.00         1\n",
            "          29       0.00      0.00      0.00         1\n",
            "          30       0.00      0.00      0.00         1\n",
            "          31       0.00      0.00      0.00         1\n",
            "          32       0.00      0.00      0.00         1\n",
            "          33       0.00      0.00      0.00         1\n",
            "          34       0.00      0.00      0.00         1\n",
            "          35       0.00      0.00      0.00         1\n",
            "          36       0.00      0.00      0.00         1\n",
            "          37       0.00      0.00      0.00         1\n",
            "          38       0.00      0.00      0.00         1\n",
            "          39       0.00      0.00      0.00         1\n",
            "          40       0.00      0.00      0.00         1\n",
            "          41       0.00      0.00      0.00         1\n",
            "          42       0.00      0.00      0.00         1\n",
            "          43       0.00      0.00      0.00         1\n",
            "          44       0.00      0.00      0.00         1\n",
            "          45       0.00      0.00      0.00         1\n",
            "          46       0.00      0.00      0.00         1\n",
            "          47       0.00      0.00      0.00         1\n",
            "          48       0.00      0.00      0.00         1\n",
            "          49       0.00      0.00      0.00         1\n",
            "          50       0.00      0.00      0.00         1\n",
            "          51       0.00      0.00      0.00         1\n",
            "          52       0.00      0.00      0.00         1\n",
            "          53       0.00      0.00      0.00         1\n",
            "          54       0.00      0.00      0.00         1\n",
            "          55       0.00      0.00      0.00         1\n",
            "          56       0.00      0.00      0.00         1\n",
            "          57       0.00      0.00      0.00         1\n",
            "          58       0.00      0.00      0.00         1\n",
            "          59       0.00      0.00      0.00         1\n",
            "          60       0.00      0.00      0.00         1\n",
            "          61       0.00      0.00      0.00         1\n",
            "          62       0.00      0.00      0.00         1\n",
            "          63       0.00      0.00      0.00         1\n",
            "          64       0.00      0.00      0.00         1\n",
            "          65       0.00      0.00      0.00         1\n",
            "          66       0.00      0.00      0.00         1\n",
            "          67       0.00      0.00      0.00         1\n",
            "          68       0.00      0.00      0.00         1\n",
            "          69       0.00      0.00      0.00         1\n",
            "          70       0.00      0.00      0.00         1\n",
            "          71       0.00      0.00      0.00         1\n",
            "          72       0.00      0.00      0.00         1\n",
            "          73       0.00      0.00      0.00         1\n",
            "          74       0.00      0.00      0.00         1\n",
            "          75       0.00      0.00      0.00         1\n",
            "          76       0.00      0.00      0.00         1\n",
            "          77       0.00      0.00      0.00         1\n",
            "          78       0.00      0.00      0.00         1\n",
            "          79       0.00      0.00      0.00         1\n",
            "          80       0.00      0.00      0.00         1\n",
            "          81       0.00      0.00      0.00         1\n",
            "          82       0.00      0.00      0.00         1\n",
            "          83       0.00      0.00      0.00         1\n",
            "          84       0.00      0.00      0.00         1\n",
            "          85       0.00      0.00      0.00         1\n",
            "          86       0.00      0.00      0.00         1\n",
            "          87       0.00      0.00      0.00         1\n",
            "          88       0.00      0.00      0.00         1\n",
            "          89       0.00      0.00      0.00         1\n",
            "          90       0.00      0.00      0.00         1\n",
            "          91       0.00      0.00      0.00         1\n",
            "          92       0.00      0.00      0.00         1\n",
            "          93       0.00      0.00      0.00         1\n",
            "          94       0.00      0.00      0.00         1\n",
            "          95       0.00      0.00      0.00         1\n",
            "          96       0.00      0.00      0.00         1\n",
            "          97       0.00      0.00      0.00         1\n",
            "          98       0.00      0.00      0.00         1\n",
            "          99       0.00      0.00      0.00         1\n",
            "         100       0.00      0.00      0.00         1\n",
            "         101       0.00      0.00      0.00         1\n",
            "         102       0.00      0.00      0.00         1\n",
            "         103       0.00      0.00      0.00         1\n",
            "         104       0.00      0.00      0.00         1\n",
            "         105       0.00      0.00      0.00         1\n",
            "         106       0.00      0.00      0.00         1\n",
            "         107       0.00      0.00      0.00         1\n",
            "         108       0.00      0.00      0.00         1\n",
            "         109       0.00      0.00      0.00         1\n",
            "         110       0.00      0.00      0.00         1\n",
            "         111       0.00      0.00      0.00         1\n",
            "         112       0.00      0.00      0.00         1\n",
            "         113       0.00      0.00      0.00         1\n",
            "         114       0.00      0.00      0.00         1\n",
            "         115       0.00      0.00      0.00         1\n",
            "         116       0.00      0.00      0.00         1\n",
            "         117       0.00      0.00      0.00         1\n",
            "         118       0.00      0.00      0.00         1\n",
            "         119       0.00      0.00      0.00         1\n",
            "         120       0.00      0.00      0.00         1\n",
            "         121       0.00      0.00      0.00         1\n",
            "         122       0.00      0.00      0.00         1\n",
            "         123       0.00      0.00      0.00         1\n",
            "         124       0.00      0.00      0.00         1\n",
            "         125       0.00      0.00      0.00         1\n",
            "         126       0.00      0.00      0.00         1\n",
            "         127       0.00      0.00      0.00         1\n",
            "         128       0.00      0.00      0.00         1\n",
            "         129       0.00      0.00      0.00         1\n",
            "         130       0.00      0.00      0.00         1\n",
            "         131       0.00      0.00      0.00         1\n",
            "         132       0.00      0.00      0.00         1\n",
            "         133       0.00      0.00      0.00         1\n",
            "         134       0.00      0.00      0.00         1\n",
            "         135       0.00      0.00      0.00         1\n",
            "         136       0.00      0.00      0.00         1\n",
            "         137       0.00      0.00      0.00         1\n",
            "         138       0.00      0.00      0.00         1\n",
            "         139       0.00      0.00      0.00         1\n",
            "         140       0.00      0.00      0.00         1\n",
            "         141       0.00      0.00      0.00         1\n",
            "         142       0.00      0.00      0.00         1\n",
            "         143       0.00      0.00      0.00         1\n",
            "         144       0.00      0.00      0.00         1\n",
            "         145       0.00      0.00      0.00         1\n",
            "         146       0.00      0.00      0.00         1\n",
            "         147       0.00      0.00      0.00         1\n",
            "         148       0.00      0.00      0.00         1\n",
            "         149       0.00      0.00      0.00         1\n",
            "         150       0.00      0.00      0.00         1\n",
            "         151       0.00      0.00      0.00         1\n",
            "         152       0.00      0.00      0.00         1\n",
            "         153       0.00      0.00      0.00         1\n",
            "         154       0.00      0.00      0.00         1\n",
            "         155       0.00      0.00      0.00         1\n",
            "         156       0.00      0.00      0.00         1\n",
            "         157       0.00      0.00      0.00         1\n",
            "         158       0.00      0.00      0.00         1\n",
            "         159       0.00      0.00      0.00         1\n",
            "         160       0.00      0.00      0.00         1\n",
            "         161       0.00      0.00      0.00         1\n",
            "         162       0.00      0.00      0.00         1\n",
            "         163       0.00      0.00      0.00         1\n",
            "         164       0.00      0.00      0.00         1\n",
            "         165       0.00      0.00      0.00         1\n",
            "         166       0.00      0.00      0.00         1\n",
            "         167       0.00      0.00      0.00         1\n",
            "         168       0.00      0.00      0.00         1\n",
            "         169       0.00      0.00      0.00         1\n",
            "\n",
            "    accuracy                           0.01       170\n",
            "   macro avg       0.00      0.01      0.00       170\n",
            "weighted avg       0.00      0.01      0.00       170\n",
            "\n"
          ],
          "name": "stdout"
        },
        {
          "output_type": "stream",
          "text": [
            "/usr/local/lib/python3.7/dist-packages/sklearn/metrics/_classification.py:1272: UndefinedMetricWarning: Precision and F-score are ill-defined and being set to 0.0 in labels with no predicted samples. Use `zero_division` parameter to control this behavior.\n",
            "  _warn_prf(average, modifier, msg_start, len(result))\n"
          ],
          "name": "stderr"
        }
      ]
    },
    {
      "cell_type": "code",
      "metadata": {
        "id": "wq67IALGPvH3"
      },
      "source": [
        "# def plot_confusion_matrix(cm, classes, normalize=True, title='Confusion matrix', cmap=plt.cm.Blues):\n",
        "#     \"\"\"\n",
        "#     This function prints and plots the confusion matrix.\n",
        "#     Normalization can be applied by setting `normalize=True`.\n",
        "#     \"\"\"\n",
        "#     plt.figure(figsize=(10,10))\n",
        "#     plt.imshow(cm, interpolation='nearest', cmap=cmap)\n",
        "#     plt.title(title)\n",
        "#     plt.colorbar()\n",
        "#     tick_marks = np.arange(len(classes))\n",
        "#     plt.xticks(tick_marks, classes, rotation=45)\n",
        "#     plt.yticks(tick_marks, classes)\n",
        "#     if normalize:\n",
        "#         cm = cm.astype('float') / cm.sum(axis=1)[:, np.newaxis]\n",
        "#         cm = np.around(cm, decimals=2)\n",
        "#         cm[np.isnan(cm)] = 0.0\n",
        "#         print(\"Normalized confusion matrix\")\n",
        "#     else:\n",
        "#         print('Confusion matrix, without normalization')\n",
        "#     thresh = cm.max() / 2.\n",
        "#     for i, j in itertools.product(range(cm.shape[0]), range(cm.shape[1])):\n",
        "#         plt.text(j, i, cm[i, j],\n",
        "#                  horizontalalignment=\"center\",\n",
        "#                  color=\"white\" if cm[i, j] > thresh else \"black\")\n",
        "#     plt.tight_layout()\n",
        "#     plt.ylabel('True label')\n",
        "#     plt.xlabel('Predicted label')"
      ],
      "execution_count": 212,
      "outputs": []
    },
    {
      "cell_type": "code",
      "metadata": {
        "id": "QsaBw-y9PxgS"
      },
      "source": [
        ""
      ],
      "execution_count": null,
      "outputs": []
    },
    {
      "cell_type": "code",
      "metadata": {
        "id": "MkugpysnPxi-"
      },
      "source": [
        ""
      ],
      "execution_count": null,
      "outputs": []
    },
    {
      "cell_type": "markdown",
      "metadata": {
        "id": "reKrsZ_dCTZR"
      },
      "source": [
        "# ResNet50"
      ]
    },
    {
      "cell_type": "code",
      "metadata": {
        "id": "OhFKelBLByQG"
      },
      "source": [
        "from tensorflow.keras.applications import resnet50\n",
        "model2 = resnet50.ResNet50(weights='imagenet')\n",
        "#new_model.summary()\n",
        "input_layer = layers.Input(shape=(200,200,3))\n",
        "model2 = resnet50.ResNet50(weights='imagenet',include_top=False,input_tensor=input_layer)\n",
        "#model2.summary()\n",
        "last_layer = model2.output\n",
        "flat = layers.Flatten()(last_layer)\n",
        "output_layer = layers.Dense(6,activation='softmax')(flat)\n",
        "new_model = models.Model(inputs=input_layer,outputs=output_layer)\n",
        "#new_model.summary()\n",
        "for layer in new_model.layers[:-1]:\n",
        " layer.trainable=False\n",
        "#new_model.summary()"
      ],
      "execution_count": 123,
      "outputs": []
    },
    {
      "cell_type": "code",
      "metadata": {
        "colab": {
          "base_uri": "https://localhost:8080/"
        },
        "id": "bcruD5S_ByVI",
        "outputId": "c6d95d1b-9453-4e4a-9029-e1cf8e0e83f8"
      },
      "source": [
        "x = []\n",
        "y = []\n",
        "\n",
        "for folder in names:\n",
        "  files = os.listdir(\"/content/drive/MyDrive/fruit dataset/\"+folder)\n",
        "  for file in files:\n",
        "    img = image.load_img(\"/content/drive/MyDrive/fruit dataset/\"+folder+\"/\"+file,target_size=(200,200))\n",
        "    img = image.img_to_array(img)\n",
        "    x.append(img)\n",
        "    y.append(names.index(folder))\n",
        "x = np.array(x)\n",
        "y = np.array(y)\n",
        "print(x.shape)\n",
        "print(y.shape)\n",
        "y = to_categorical(y)\n",
        "print(y.shape)\n",
        "x = x/255\n"
      ],
      "execution_count": 124,
      "outputs": [
        {
          "output_type": "stream",
          "text": [
            "(849, 200, 200, 3)\n",
            "(849,)\n",
            "(849, 6)\n"
          ],
          "name": "stdout"
        }
      ]
    },
    {
      "cell_type": "code",
      "metadata": {
        "id": "d84p6encByev"
      },
      "source": [
        "from sklearn.model_selection import train_test_split\n",
        "xtrain,xtest,ytrain,ytest = train_test_split(x,y,test_size=0.2,random_state=5)"
      ],
      "execution_count": 125,
      "outputs": []
    },
    {
      "cell_type": "code",
      "metadata": {
        "colab": {
          "base_uri": "https://localhost:8080/"
        },
        "id": "B80SLV_LByhI",
        "outputId": "23874eae-4b11-4c5a-820c-2cad7c0b136c"
      },
      "source": [
        "new_model.compile(loss='categorical_crossentropy',optimizer='adam',metrics=['accuracy'])\n",
        "history = new_model.fit(xtrain,ytrain,batch_size=32,epochs=20,validation_data=(xtest,ytest))\n"
      ],
      "execution_count": 126,
      "outputs": [
        {
          "output_type": "stream",
          "text": [
            "Epoch 1/20\n",
            "22/22 [==============================] - 7s 158ms/step - loss: 8.9087 - accuracy: 0.2596 - val_loss: 3.4797 - val_accuracy: 0.3529\n",
            "Epoch 2/20\n",
            "22/22 [==============================] - 3s 116ms/step - loss: 2.3202 - accuracy: 0.4474 - val_loss: 1.7913 - val_accuracy: 0.4118\n",
            "Epoch 3/20\n",
            "22/22 [==============================] - 3s 117ms/step - loss: 1.3831 - accuracy: 0.5460 - val_loss: 2.0351 - val_accuracy: 0.3765\n",
            "Epoch 4/20\n",
            "22/22 [==============================] - 3s 117ms/step - loss: 1.5471 - accuracy: 0.5578 - val_loss: 1.3988 - val_accuracy: 0.5059\n",
            "Epoch 5/20\n",
            "22/22 [==============================] - 3s 118ms/step - loss: 1.5062 - accuracy: 0.5848 - val_loss: 0.8350 - val_accuracy: 0.6235\n",
            "Epoch 6/20\n",
            "22/22 [==============================] - 3s 118ms/step - loss: 0.5881 - accuracy: 0.7781 - val_loss: 1.2819 - val_accuracy: 0.5118\n",
            "Epoch 7/20\n",
            "22/22 [==============================] - 3s 119ms/step - loss: 0.8413 - accuracy: 0.6626 - val_loss: 0.8718 - val_accuracy: 0.6118\n",
            "Epoch 8/20\n",
            "22/22 [==============================] - 3s 119ms/step - loss: 0.9120 - accuracy: 0.6204 - val_loss: 1.0840 - val_accuracy: 0.6059\n",
            "Epoch 9/20\n",
            "22/22 [==============================] - 3s 120ms/step - loss: 0.7550 - accuracy: 0.7387 - val_loss: 2.0217 - val_accuracy: 0.6294\n",
            "Epoch 10/20\n",
            "22/22 [==============================] - 3s 121ms/step - loss: 1.2382 - accuracy: 0.6908 - val_loss: 0.6557 - val_accuracy: 0.7471\n",
            "Epoch 11/20\n",
            "22/22 [==============================] - 3s 121ms/step - loss: 0.5051 - accuracy: 0.8047 - val_loss: 0.9247 - val_accuracy: 0.6294\n",
            "Epoch 12/20\n",
            "22/22 [==============================] - 3s 120ms/step - loss: 0.6165 - accuracy: 0.7711 - val_loss: 1.9074 - val_accuracy: 0.6176\n",
            "Epoch 13/20\n",
            "22/22 [==============================] - 3s 121ms/step - loss: 1.0708 - accuracy: 0.7155 - val_loss: 1.0217 - val_accuracy: 0.6647\n",
            "Epoch 14/20\n",
            "22/22 [==============================] - 3s 119ms/step - loss: 0.5969 - accuracy: 0.7802 - val_loss: 0.8635 - val_accuracy: 0.6471\n",
            "Epoch 15/20\n",
            "22/22 [==============================] - 3s 118ms/step - loss: 0.6276 - accuracy: 0.7471 - val_loss: 1.1101 - val_accuracy: 0.6059\n",
            "Epoch 16/20\n",
            "22/22 [==============================] - 3s 119ms/step - loss: 0.6954 - accuracy: 0.7677 - val_loss: 0.8196 - val_accuracy: 0.6353\n",
            "Epoch 17/20\n",
            "22/22 [==============================] - 3s 118ms/step - loss: 0.4207 - accuracy: 0.8353 - val_loss: 1.0633 - val_accuracy: 0.6529\n",
            "Epoch 18/20\n",
            "22/22 [==============================] - 3s 117ms/step - loss: 0.6130 - accuracy: 0.7586 - val_loss: 0.7818 - val_accuracy: 0.7059\n",
            "Epoch 19/20\n",
            "22/22 [==============================] - 3s 117ms/step - loss: 0.4966 - accuracy: 0.8067 - val_loss: 1.0347 - val_accuracy: 0.6118\n",
            "Epoch 20/20\n",
            "22/22 [==============================] - 3s 117ms/step - loss: 0.5378 - accuracy: 0.7990 - val_loss: 0.9021 - val_accuracy: 0.6294\n"
          ],
          "name": "stdout"
        }
      ]
    },
    {
      "cell_type": "markdown",
      "metadata": {
        "id": "ZY9dPBOuC4D6"
      },
      "source": [
        "#Plotting Model Accuracy and loss graph"
      ]
    },
    {
      "cell_type": "code",
      "metadata": {
        "colab": {
          "base_uri": "https://localhost:8080/",
          "height": 295
        },
        "id": "ZN43n_6xBykJ",
        "outputId": "5107e082-0f24-4b9f-87ef-7a62f3cdeb39"
      },
      "source": [
        "#get the details form the history object\n",
        "acc = history.history['accuracy']\n",
        "val_acc = history.history['val_accuracy']\n",
        "loss = history.history['loss']\n",
        "val_loss = history.history['val_loss']\n",
        "epochs = range(1, len(acc) + 1)\n",
        "#Train and validation accuracy\n",
        "plt.plot(epochs, acc, 'b', label='Training accurarcy')\n",
        "plt.plot(epochs, val_acc, 'r', label='Validation accurarcy')\n",
        "plt.title(' ResNet50 - Training and Validation accurarcy')\n",
        "plt.xlabel(\"Number of Epochs\")\n",
        "plt.ylabel(\"Accuracy\")\n",
        "plt.legend()\n",
        "plt.grid()\n",
        "plt.legend()\n",
        "\n",
        "plt.savefig(\"/content/drive/MyDrive/Colab Notebooks/Fruit Classification Notebook/plots/ResNet50_accuracy.png\")"
      ],
      "execution_count": 127,
      "outputs": [
        {
          "output_type": "display_data",
          "data": {
            "image/png": "[encoded data removed]",
            "text/plain": [
              "<Figure size 432x288 with 1 Axes>"
            ]
          },
          "metadata": {
            "tags": [],
            "needs_background": "light"
          }
        }
      ]
    },
    {
      "cell_type": "code",
      "metadata": {
        "colab": {
          "base_uri": "https://localhost:8080/",
          "height": 295
        },
        "id": "F8YqrNGmBym1",
        "outputId": "9b06e82e-1246-4565-cff7-489e6349004e"
      },
      "source": [
        "plt.figure()\n",
        "#Train and validation loss\n",
        "plt.plot(epochs, loss, 'b', label='Training loss')\n",
        "plt.plot(epochs, val_loss, 'r', label='Validation loss')\n",
        "plt.title('ResNet50 - Training and Validation loss')\n",
        "plt.xlabel(\"Number of Epochs\")\n",
        "plt.ylabel(\"Loss\")\n",
        "plt.grid()\n",
        "plt.legend()\n",
        "\n",
        "plt.savefig(\"/content/drive/MyDrive/Colab Notebooks/Fruit Classification Notebook/plots/Resnet50_Loss.png\")"
      ],
      "execution_count": 128,
      "outputs": [
        {
          "output_type": "display_data",
          "data": {
            "image/png": "[encoded data removed]",
            "text/plain": [
              "<Figure size 432x288 with 1 Axes>"
            ]
          },
          "metadata": {
            "tags": [],
            "needs_background": "light"
          }
        }
      ]
    },
    {
      "cell_type": "code",
      "metadata": {
        "id": "LvhvCukEODaX"
      },
      "source": [
        "#confusion matrix\n",
        "from sklearn.metrics import confusion_matrix\n",
        "import seaborn as sns\n",
        "y_pred=model.predict(xtest)\n",
        "y_pred_classes=np.argmax(y_pred,axis=1)\n",
        "y_true=np.argmax(ytest,axis=1)\n",
        "#compute conf mat\n",
        "conf_mat=confusion_matrix(y_true,y_pred_classes)\n",
        "#plot the con mat\n",
        "fruit_names=['fresh bananas',\n",
        " 'fresh oranges',\n",
        " 'rotten apples',\n",
        " 'fresh apples',\n",
        " 'rotten bananas',\n",
        " 'rotten oranges']\n",
        "f,ax=plt.subplots(figsize=(10,9))\n",
        "sns.heatmap(conf_mat,annot=True,fmt='.0f')\n",
        "ax.set_xticklabels(fruit_names)\n",
        "ax.set_yticklabels(fruit_names)\n",
        "plt.show()"
      ],
      "execution_count": null,
      "outputs": []
    },
    {
      "cell_type": "code",
      "metadata": {
        "id": "III6BnJcJLrl"
      },
      "source": [
        "# #confusion matrix\n",
        "# y_pred=model2.predict(xtest)\n",
        "# # y_pred_classes=np.argmax(y_pred,axis=1)\n",
        "# y_true=np.argmax(ytest)\n",
        "# #compute conf mat\n",
        "# conf_mat=confusion_matrix(y_true,y_pred)\n",
        "\n",
        "# print(conf_mat)\n",
        "# #plot the con mat\n",
        "# # fruit_names=['fresh bananas',\n",
        "# #  'fresh oranges',\n",
        "# #  'rotten apples',\n",
        "# #  'fresh apples',\n",
        "# #  'rotten bananas',\n",
        "# #  'rotten oranges']\n",
        "# # f,ax=plt.subplots(figsize=(10,9))\n",
        "# # sns.heatmap(conf_mat,annot=True,fmt='.0f')\n",
        "# # ax.set_xticklabels(fruit_names)\n",
        "# # ax.set_yticklabels(fruit_names)\n",
        "# # plt.show()"
      ],
      "execution_count": 227,
      "outputs": []
    },
    {
      "cell_type": "markdown",
      "metadata": {
        "id": "CSfMcB5KE60g"
      },
      "source": [
        "# VGG16"
      ]
    },
    {
      "cell_type": "code",
      "metadata": {
        "id": "lrNxtMRYDAw5"
      },
      "source": [
        "from keras.applications.vgg16 import VGG16\n",
        "model3 = VGG16(weights='imagenet')"
      ],
      "execution_count": 130,
      "outputs": []
    },
    {
      "cell_type": "code",
      "metadata": {
        "colab": {
          "base_uri": "https://localhost:8080/"
        },
        "id": "dDQzRtr3FP3b",
        "outputId": "7646eba6-e9bb-4053-b5c6-176901f2b755"
      },
      "source": [
        "print(model3.summary())"
      ],
      "execution_count": 131,
      "outputs": [
        {
          "output_type": "stream",
          "text": [
            "Model: \"vgg16\"\n",
            "_________________________________________________________________\n",
            "Layer (type)                 Output Shape              Param #   \n",
            "=================================================================\n",
            "input_10 (InputLayer)        [(None, 224, 224, 3)]     0         \n",
            "_________________________________________________________________\n",
            "block1_conv1 (Conv2D)        (None, 224, 224, 64)      1792      \n",
            "_________________________________________________________________\n",
            "block1_conv2 (Conv2D)        (None, 224, 224, 64)      36928     \n",
            "_________________________________________________________________\n",
            "block1_pool (MaxPooling2D)   (None, 112, 112, 64)      0         \n",
            "_________________________________________________________________\n",
            "block2_conv1 (Conv2D)        (None, 112, 112, 128)     73856     \n",
            "_________________________________________________________________\n",
            "block2_conv2 (Conv2D)        (None, 112, 112, 128)     147584    \n",
            "_________________________________________________________________\n",
            "block2_pool (MaxPooling2D)   (None, 56, 56, 128)       0         \n",
            "_________________________________________________________________\n",
            "block3_conv1 (Conv2D)        (None, 56, 56, 256)       295168    \n",
            "_________________________________________________________________\n",
            "block3_conv2 (Conv2D)        (None, 56, 56, 256)       590080    \n",
            "_________________________________________________________________\n",
            "block3_conv3 (Conv2D)        (None, 56, 56, 256)       590080    \n",
            "_________________________________________________________________\n",
            "block3_pool (MaxPooling2D)   (None, 28, 28, 256)       0         \n",
            "_________________________________________________________________\n",
            "block4_conv1 (Conv2D)        (None, 28, 28, 512)       1180160   \n",
            "_________________________________________________________________\n",
            "block4_conv2 (Conv2D)        (None, 28, 28, 512)       2359808   \n",
            "_________________________________________________________________\n",
            "block4_conv3 (Conv2D)        (None, 28, 28, 512)       2359808   \n",
            "_________________________________________________________________\n",
            "block4_pool (MaxPooling2D)   (None, 14, 14, 512)       0         \n",
            "_________________________________________________________________\n",
            "block5_conv1 (Conv2D)        (None, 14, 14, 512)       2359808   \n",
            "_________________________________________________________________\n",
            "block5_conv2 (Conv2D)        (None, 14, 14, 512)       2359808   \n",
            "_________________________________________________________________\n",
            "block5_conv3 (Conv2D)        (None, 14, 14, 512)       2359808   \n",
            "_________________________________________________________________\n",
            "block5_pool (MaxPooling2D)   (None, 7, 7, 512)         0         \n",
            "_________________________________________________________________\n",
            "flatten (Flatten)            (None, 25088)             0         \n",
            "_________________________________________________________________\n",
            "fc1 (Dense)                  (None, 4096)              102764544 \n",
            "_________________________________________________________________\n",
            "fc2 (Dense)                  (None, 4096)              16781312  \n",
            "_________________________________________________________________\n",
            "predictions (Dense)          (None, 1000)              4097000   \n",
            "=================================================================\n",
            "Total params: 138,357,544\n",
            "Trainable params: 138,357,544\n",
            "Non-trainable params: 0\n",
            "_________________________________________________________________\n",
            "None\n"
          ],
          "name": "stdout"
        }
      ]
    },
    {
      "cell_type": "code",
      "metadata": {
        "id": "WOPxZAQlFUyy"
      },
      "source": [
        "from keras.utils.vis_utils import plot_model"
      ],
      "execution_count": 132,
      "outputs": []
    },
    {
      "cell_type": "code",
      "metadata": {
        "id": "euftP9rYFbuS"
      },
      "source": [
        "#plot_model(model3, to_file='vgg.png')"
      ],
      "execution_count": 133,
      "outputs": []
    },
    {
      "cell_type": "code",
      "metadata": {
        "id": "Hd0EYNM3FhnA"
      },
      "source": [
        "input_layer = layers.Input(shape=(200,200,3))"
      ],
      "execution_count": 134,
      "outputs": []
    },
    {
      "cell_type": "code",
      "metadata": {
        "id": "Yt4h3NtmGRim"
      },
      "source": [
        "model3 = VGG16(weights='imagenet',include_top=False,input_tensor=input_layer)"
      ],
      "execution_count": 135,
      "outputs": []
    },
    {
      "cell_type": "code",
      "metadata": {
        "colab": {
          "base_uri": "https://localhost:8080/"
        },
        "id": "7CczVTK0Gs1D",
        "outputId": "a8f62e13-25e7-475f-8299-068b1ca754fc"
      },
      "source": [
        "print(model3.summary())"
      ],
      "execution_count": 136,
      "outputs": [
        {
          "output_type": "stream",
          "text": [
            "Model: \"vgg16\"\n",
            "_________________________________________________________________\n",
            "Layer (type)                 Output Shape              Param #   \n",
            "=================================================================\n",
            "input_11 (InputLayer)        [(None, 200, 200, 3)]     0         \n",
            "_________________________________________________________________\n",
            "block1_conv1 (Conv2D)        (None, 200, 200, 64)      1792      \n",
            "_________________________________________________________________\n",
            "block1_conv2 (Conv2D)        (None, 200, 200, 64)      36928     \n",
            "_________________________________________________________________\n",
            "block1_pool (MaxPooling2D)   (None, 100, 100, 64)      0         \n",
            "_________________________________________________________________\n",
            "block2_conv1 (Conv2D)        (None, 100, 100, 128)     73856     \n",
            "_________________________________________________________________\n",
            "block2_conv2 (Conv2D)        (None, 100, 100, 128)     147584    \n",
            "_________________________________________________________________\n",
            "block2_pool (MaxPooling2D)   (None, 50, 50, 128)       0         \n",
            "_________________________________________________________________\n",
            "block3_conv1 (Conv2D)        (None, 50, 50, 256)       295168    \n",
            "_________________________________________________________________\n",
            "block3_conv2 (Conv2D)        (None, 50, 50, 256)       590080    \n",
            "_________________________________________________________________\n",
            "block3_conv3 (Conv2D)        (None, 50, 50, 256)       590080    \n",
            "_________________________________________________________________\n",
            "block3_pool (MaxPooling2D)   (None, 25, 25, 256)       0         \n",
            "_________________________________________________________________\n",
            "block4_conv1 (Conv2D)        (None, 25, 25, 512)       1180160   \n",
            "_________________________________________________________________\n",
            "block4_conv2 (Conv2D)        (None, 25, 25, 512)       2359808   \n",
            "_________________________________________________________________\n",
            "block4_conv3 (Conv2D)        (None, 25, 25, 512)       2359808   \n",
            "_________________________________________________________________\n",
            "block4_pool (MaxPooling2D)   (None, 12, 12, 512)       0         \n",
            "_________________________________________________________________\n",
            "block5_conv1 (Conv2D)        (None, 12, 12, 512)       2359808   \n",
            "_________________________________________________________________\n",
            "block5_conv2 (Conv2D)        (None, 12, 12, 512)       2359808   \n",
            "_________________________________________________________________\n",
            "block5_conv3 (Conv2D)        (None, 12, 12, 512)       2359808   \n",
            "_________________________________________________________________\n",
            "block5_pool (MaxPooling2D)   (None, 6, 6, 512)         0         \n",
            "=================================================================\n",
            "Total params: 14,714,688\n",
            "Trainable params: 14,714,688\n",
            "Non-trainable params: 0\n",
            "_________________________________________________________________\n",
            "None\n"
          ],
          "name": "stdout"
        }
      ]
    },
    {
      "cell_type": "code",
      "metadata": {
        "id": "r0dfv6HsG0kJ"
      },
      "source": [
        "\n",
        "last_layer = model3.output\n",
        "\n",
        "flat = layers.Flatten()(last_layer)\n",
        "output_layer = layers.Dense(6,activation='softmax')(flat)\n",
        "\n",
        "new_model = models.Model(inputs=input_layer,outputs=output_layer)\n",
        "for layer in new_model.layers[:-1]:\n",
        "  layer.trainable=False"
      ],
      "execution_count": 137,
      "outputs": []
    },
    {
      "cell_type": "code",
      "metadata": {
        "colab": {
          "base_uri": "https://localhost:8080/"
        },
        "id": "UT10pZMiImDq",
        "outputId": "b5ff0637-ee70-48d1-9210-9c731872a3f0"
      },
      "source": [
        "new_model.summary()"
      ],
      "execution_count": 138,
      "outputs": [
        {
          "output_type": "stream",
          "text": [
            "Model: \"model_5\"\n",
            "_________________________________________________________________\n",
            "Layer (type)                 Output Shape              Param #   \n",
            "=================================================================\n",
            "input_11 (InputLayer)        [(None, 200, 200, 3)]     0         \n",
            "_________________________________________________________________\n",
            "block1_conv1 (Conv2D)        (None, 200, 200, 64)      1792      \n",
            "_________________________________________________________________\n",
            "block1_conv2 (Conv2D)        (None, 200, 200, 64)      36928     \n",
            "_________________________________________________________________\n",
            "block1_pool (MaxPooling2D)   (None, 100, 100, 64)      0         \n",
            "_________________________________________________________________\n",
            "block2_conv1 (Conv2D)        (None, 100, 100, 128)     73856     \n",
            "_________________________________________________________________\n",
            "block2_conv2 (Conv2D)        (None, 100, 100, 128)     147584    \n",
            "_________________________________________________________________\n",
            "block2_pool (MaxPooling2D)   (None, 50, 50, 128)       0         \n",
            "_________________________________________________________________\n",
            "block3_conv1 (Conv2D)        (None, 50, 50, 256)       295168    \n",
            "_________________________________________________________________\n",
            "block3_conv2 (Conv2D)        (None, 50, 50, 256)       590080    \n",
            "_________________________________________________________________\n",
            "block3_conv3 (Conv2D)        (None, 50, 50, 256)       590080    \n",
            "_________________________________________________________________\n",
            "block3_pool (MaxPooling2D)   (None, 25, 25, 256)       0         \n",
            "_________________________________________________________________\n",
            "block4_conv1 (Conv2D)        (None, 25, 25, 512)       1180160   \n",
            "_________________________________________________________________\n",
            "block4_conv2 (Conv2D)        (None, 25, 25, 512)       2359808   \n",
            "_________________________________________________________________\n",
            "block4_conv3 (Conv2D)        (None, 25, 25, 512)       2359808   \n",
            "_________________________________________________________________\n",
            "block4_pool (MaxPooling2D)   (None, 12, 12, 512)       0         \n",
            "_________________________________________________________________\n",
            "block5_conv1 (Conv2D)        (None, 12, 12, 512)       2359808   \n",
            "_________________________________________________________________\n",
            "block5_conv2 (Conv2D)        (None, 12, 12, 512)       2359808   \n",
            "_________________________________________________________________\n",
            "block5_conv3 (Conv2D)        (None, 12, 12, 512)       2359808   \n",
            "_________________________________________________________________\n",
            "block5_pool (MaxPooling2D)   (None, 6, 6, 512)         0         \n",
            "_________________________________________________________________\n",
            "flatten_7 (Flatten)          (None, 18432)             0         \n",
            "_________________________________________________________________\n",
            "dense_11 (Dense)             (None, 6)                 110598    \n",
            "=================================================================\n",
            "Total params: 14,825,286\n",
            "Trainable params: 110,598\n",
            "Non-trainable params: 14,714,688\n",
            "_________________________________________________________________\n"
          ],
          "name": "stdout"
        }
      ]
    },
    {
      "cell_type": "code",
      "metadata": {
        "id": "0_kfGcv6IonK"
      },
      "source": [
        "from sklearn.model_selection import train_test_split\n",
        "xtrain,xtest,ytrain,ytest = train_test_split(x,y,test_size=0.2,random_state=5)"
      ],
      "execution_count": 139,
      "outputs": []
    },
    {
      "cell_type": "code",
      "metadata": {
        "colab": {
          "base_uri": "https://localhost:8080/"
        },
        "id": "WP80CS58IopS",
        "outputId": "ae703167-e1a4-43dd-fba6-042aa55131ff"
      },
      "source": [
        "new_model.compile(loss='categorical_crossentropy',optimizer='adam',metrics=['accuracy'])\n",
        "history = new_model.fit(xtrain,ytrain,batch_size=32,epochs=20,validation_data=(xtest,ytest))\n"
      ],
      "execution_count": 140,
      "outputs": [
        {
          "output_type": "stream",
          "text": [
            "Epoch 1/20\n",
            "22/22 [==============================] - 4s 144ms/step - loss: 1.3505 - accuracy: 0.5064 - val_loss: 0.3071 - val_accuracy: 0.8941\n",
            "Epoch 2/20\n",
            "22/22 [==============================] - 3s 137ms/step - loss: 0.1568 - accuracy: 0.9532 - val_loss: 0.2086 - val_accuracy: 0.9353\n",
            "Epoch 3/20\n",
            "22/22 [==============================] - 3s 137ms/step - loss: 0.0729 - accuracy: 0.9810 - val_loss: 0.1940 - val_accuracy: 0.9235\n",
            "Epoch 4/20\n",
            "22/22 [==============================] - 3s 136ms/step - loss: 0.0439 - accuracy: 0.9974 - val_loss: 0.1879 - val_accuracy: 0.9294\n",
            "Epoch 5/20\n",
            "22/22 [==============================] - 3s 137ms/step - loss: 0.0304 - accuracy: 0.9975 - val_loss: 0.1838 - val_accuracy: 0.9235\n",
            "Epoch 6/20\n",
            "22/22 [==============================] - 3s 137ms/step - loss: 0.0282 - accuracy: 1.0000 - val_loss: 0.2292 - val_accuracy: 0.9000\n",
            "Epoch 7/20\n",
            "22/22 [==============================] - 3s 138ms/step - loss: 0.0181 - accuracy: 1.0000 - val_loss: 0.1962 - val_accuracy: 0.9235\n",
            "Epoch 8/20\n",
            "22/22 [==============================] - 3s 138ms/step - loss: 0.0182 - accuracy: 1.0000 - val_loss: 0.1972 - val_accuracy: 0.9176\n",
            "Epoch 9/20\n",
            "22/22 [==============================] - 3s 138ms/step - loss: 0.0137 - accuracy: 1.0000 - val_loss: 0.1801 - val_accuracy: 0.9353\n",
            "Epoch 10/20\n",
            "22/22 [==============================] - 3s 138ms/step - loss: 0.0113 - accuracy: 1.0000 - val_loss: 0.1901 - val_accuracy: 0.9294\n",
            "Epoch 11/20\n",
            "22/22 [==============================] - 3s 139ms/step - loss: 0.0095 - accuracy: 1.0000 - val_loss: 0.1757 - val_accuracy: 0.9412\n",
            "Epoch 12/20\n",
            "22/22 [==============================] - 3s 139ms/step - loss: 0.0095 - accuracy: 1.0000 - val_loss: 0.1816 - val_accuracy: 0.9412\n",
            "Epoch 13/20\n",
            "22/22 [==============================] - 3s 140ms/step - loss: 0.0084 - accuracy: 1.0000 - val_loss: 0.1820 - val_accuracy: 0.9412\n",
            "Epoch 14/20\n",
            "22/22 [==============================] - 3s 140ms/step - loss: 0.0072 - accuracy: 1.0000 - val_loss: 0.1791 - val_accuracy: 0.9412\n",
            "Epoch 15/20\n",
            "22/22 [==============================] - 3s 142ms/step - loss: 0.0071 - accuracy: 1.0000 - val_loss: 0.1900 - val_accuracy: 0.9412\n",
            "Epoch 16/20\n",
            "22/22 [==============================] - 3s 140ms/step - loss: 0.0062 - accuracy: 1.0000 - val_loss: 0.1854 - val_accuracy: 0.9412\n",
            "Epoch 17/20\n",
            "22/22 [==============================] - 3s 140ms/step - loss: 0.0060 - accuracy: 1.0000 - val_loss: 0.1882 - val_accuracy: 0.9412\n",
            "Epoch 18/20\n",
            "22/22 [==============================] - 3s 140ms/step - loss: 0.0052 - accuracy: 1.0000 - val_loss: 0.1850 - val_accuracy: 0.9353\n",
            "Epoch 19/20\n",
            "22/22 [==============================] - 3s 140ms/step - loss: 0.0045 - accuracy: 1.0000 - val_loss: 0.1791 - val_accuracy: 0.9412\n",
            "Epoch 20/20\n",
            "22/22 [==============================] - 3s 139ms/step - loss: 0.0039 - accuracy: 1.0000 - val_loss: 0.1796 - val_accuracy: 0.9412\n"
          ],
          "name": "stdout"
        }
      ]
    },
    {
      "cell_type": "markdown",
      "metadata": {
        "id": "ZH79s6XOJJp0"
      },
      "source": [
        "# Plotting Model Accuracy and Loss"
      ]
    },
    {
      "cell_type": "code",
      "metadata": {
        "colab": {
          "base_uri": "https://localhost:8080/",
          "height": 295
        },
        "id": "Y_X8EpiqI1gf",
        "outputId": "ee04a408-1ecf-46d5-ad1c-fa336ddc943c"
      },
      "source": [
        "#get the details form the history object\n",
        "acc = history.history['accuracy']\n",
        "val_acc = history.history['val_accuracy']\n",
        "loss = history.history['loss']\n",
        "val_loss = history.history['val_loss']\n",
        "epochs = range(1, len(acc) + 1)\n",
        "#Train and validation accuracy\n",
        "plt.plot(epochs, acc, 'b', label='Training accurarcy')\n",
        "plt.plot(epochs, val_acc, 'r', label='Validation accurarcy')\n",
        "plt.title('VGG16 - Training and Validation accurarcy')\n",
        "plt.xlabel(\"Number of Epochs\")\n",
        "plt.ylabel(\"Accuracy\")\n",
        "plt.grid()\n",
        "plt.legend()\n",
        "\n",
        "plt.savefig(\"/content/drive/MyDrive/Colab Notebooks/Fruit Classification Notebook/plots/VGG16_Accuracy.png\")"
      ],
      "execution_count": 141,
      "outputs": [
        {
          "output_type": "display_data",
          "data": {
            "image/png": "[encoded data removed]",
            "text/plain": [
              "<Figure size 432x288 with 1 Axes>"
            ]
          },
          "metadata": {
            "tags": [],
            "needs_background": "light"
          }
        }
      ]
    },
    {
      "cell_type": "code",
      "metadata": {
        "colab": {
          "base_uri": "https://localhost:8080/",
          "height": 295
        },
        "id": "ABpN9QKlJRKI",
        "outputId": "f9100549-359f-49b3-e28b-150f14d284d7"
      },
      "source": [
        "plt.figure()\n",
        "#Train and validation loss\n",
        "plt.plot(epochs, loss, 'b', label='Training loss')\n",
        "plt.plot(epochs, val_loss, 'r', label='Validation loss')\n",
        "plt.title('Vgg16 - Training and Validation loss')\n",
        "plt.xlabel(\"Number of Epochs\")\n",
        "plt.ylabel(\"Loss\")\n",
        "plt.legend()\n",
        "plt.grid()\n",
        "\n",
        "plt.savefig(\"/content/drive/MyDrive/Colab Notebooks/Fruit Classification Notebook/plots/VGG16_Loss.png\")"
      ],
      "execution_count": 142,
      "outputs": [
        {
          "output_type": "display_data",
          "data": {
            "image/png": "[encoded data removed]",
            "text/plain": [
              "<Figure size 432x288 with 1 Axes>"
            ]
          },
          "metadata": {
            "tags": [],
            "needs_background": "light"
          }
        }
      ]
    },
    {
      "cell_type": "code",
      "metadata": {
        "colab": {
          "base_uri": "https://localhost:8080/",
          "height": 549
        },
        "id": "vpWWvgBGJTF-",
        "outputId": "c203a5f3-6e71-496f-e41b-aa665970b452"
      },
      "source": [
        "#confusion matrix\n",
        "from sklearn.metrics import confusion_matrix\n",
        "import seaborn as sns\n",
        "y_pred=model.predict(xtest)\n",
        "y_pred_classes=np.argmax(y_pred,axis=1)\n",
        "y_true=np.argmax(ytest,axis=1)\n",
        "#compute conf mat\n",
        "conf_mat=confusion_matrix(y_true,y_pred_classes)\n",
        "#plot the con mat\n",
        "fruit_names=['fresh bananas',\n",
        " 'fresh oranges',\n",
        " 'rotten apples',\n",
        " 'fresh apples',\n",
        " 'rotten bananas',\n",
        " 'rotten oranges']\n",
        "f,ax=plt.subplots(figsize=(10,9))\n",
        "sns.heatmap(conf_mat,annot=True,fmt='.0f')\n",
        "ax.set_xticklabels(fruit_names)\n",
        "ax.set_yticklabels(fruit_names)\n",
        "plt.show()"
      ],
      "execution_count": 143,
      "outputs": [
        {
          "output_type": "display_data",
          "data": {
            "image/png": "[encoded data removed]",
            "text/plain": [
              "<Figure size 720x648 with 2 Axes>"
            ]
          },
          "metadata": {
            "tags": [],
            "needs_background": "light"
          }
        }
      ]
    },
    {
      "cell_type": "markdown",
      "metadata": {
        "id": "PxafGKsIJdZn"
      },
      "source": [
        "#VGG 19\n"
      ]
    },
    {
      "cell_type": "code",
      "metadata": {
        "id": "ueC2NDtTJVrn"
      },
      "source": [
        "from keras.applications.vgg19 import VGG19\n",
        "model4 = VGG19(weights='imagenet')"
      ],
      "execution_count": 144,
      "outputs": []
    },
    {
      "cell_type": "code",
      "metadata": {
        "id": "KJfe2FXPJmZp"
      },
      "source": [
        "#print(model3.summary())"
      ],
      "execution_count": 145,
      "outputs": []
    },
    {
      "cell_type": "code",
      "metadata": {
        "id": "4AlHapZnJvix"
      },
      "source": [
        "input_layer = layers.Input(shape=(200,200,3))\n",
        "model4 = VGG19(weights='imagenet',include_top=False,input_tensor=input_layer)\n"
      ],
      "execution_count": 146,
      "outputs": []
    },
    {
      "cell_type": "code",
      "metadata": {
        "id": "0JovmfH-JzPS"
      },
      "source": [
        "#print(model3.summary())"
      ],
      "execution_count": 147,
      "outputs": []
    },
    {
      "cell_type": "code",
      "metadata": {
        "id": "31I0DBypK2ej"
      },
      "source": [
        "\n",
        "last_layer = model4.output\n",
        "\n",
        "flat = layers.Flatten()(last_layer)\n",
        "output_layer = layers.Dense(6,activation='softmax')(flat)\n",
        "\n",
        "new_model = models.Model(inputs=input_layer,outputs=output_layer)\n",
        "for layer in new_model.layers[:-1]:\n",
        "  layer.trainable=False"
      ],
      "execution_count": 148,
      "outputs": []
    },
    {
      "cell_type": "code",
      "metadata": {
        "colab": {
          "base_uri": "https://localhost:8080/"
        },
        "id": "kGCpmLaAKEbs",
        "outputId": "d3412ad9-b2dc-487c-d966-387eb4c80322"
      },
      "source": [
        "from sklearn.model_selection import train_test_split\n",
        "xtrain,xtest,ytrain,ytest = train_test_split(x,y,test_size=0.2,random_state=5)\n",
        "new_model.compile(loss='categorical_crossentropy',optimizer='adam',metrics=['accuracy'])\n",
        "history = new_model.fit(xtrain,ytrain,batch_size=32,epochs=20,validation_data=(xtest,ytest))\n"
      ],
      "execution_count": 149,
      "outputs": [
        {
          "output_type": "stream",
          "text": [
            "Epoch 1/20\n",
            "22/22 [==============================] - 4s 178ms/step - loss: 1.4499 - accuracy: 0.5162 - val_loss: 0.5631 - val_accuracy: 0.7765\n",
            "Epoch 2/20\n",
            "22/22 [==============================] - 4s 168ms/step - loss: 0.2685 - accuracy: 0.8931 - val_loss: 0.2944 - val_accuracy: 0.8706\n",
            "Epoch 3/20\n",
            "22/22 [==============================] - 4s 168ms/step - loss: 0.0978 - accuracy: 0.9824 - val_loss: 0.1997 - val_accuracy: 0.9412\n",
            "Epoch 4/20\n",
            "22/22 [==============================] - 4s 168ms/step - loss: 0.0531 - accuracy: 0.9927 - val_loss: 0.1825 - val_accuracy: 0.9412\n",
            "Epoch 5/20\n",
            "22/22 [==============================] - 4s 169ms/step - loss: 0.0405 - accuracy: 0.9971 - val_loss: 0.2129 - val_accuracy: 0.9118\n",
            "Epoch 6/20\n",
            "22/22 [==============================] - 4s 168ms/step - loss: 0.0298 - accuracy: 0.9977 - val_loss: 0.2013 - val_accuracy: 0.9118\n",
            "Epoch 7/20\n",
            "22/22 [==============================] - 4s 169ms/step - loss: 0.0292 - accuracy: 1.0000 - val_loss: 0.1684 - val_accuracy: 0.9412\n",
            "Epoch 8/20\n",
            "22/22 [==============================] - 4s 169ms/step - loss: 0.0217 - accuracy: 1.0000 - val_loss: 0.1569 - val_accuracy: 0.9353\n",
            "Epoch 9/20\n",
            "22/22 [==============================] - 4s 169ms/step - loss: 0.0223 - accuracy: 1.0000 - val_loss: 0.1705 - val_accuracy: 0.9353\n",
            "Epoch 10/20\n",
            "22/22 [==============================] - 4s 169ms/step - loss: 0.0165 - accuracy: 1.0000 - val_loss: 0.1634 - val_accuracy: 0.9353\n",
            "Epoch 11/20\n",
            "22/22 [==============================] - 4s 170ms/step - loss: 0.0147 - accuracy: 1.0000 - val_loss: 0.1787 - val_accuracy: 0.9235\n",
            "Epoch 12/20\n",
            "22/22 [==============================] - 4s 170ms/step - loss: 0.0117 - accuracy: 1.0000 - val_loss: 0.1555 - val_accuracy: 0.9353\n",
            "Epoch 13/20\n",
            "22/22 [==============================] - 4s 169ms/step - loss: 0.0127 - accuracy: 1.0000 - val_loss: 0.1619 - val_accuracy: 0.9353\n",
            "Epoch 14/20\n",
            "22/22 [==============================] - 4s 170ms/step - loss: 0.0088 - accuracy: 1.0000 - val_loss: 0.1776 - val_accuracy: 0.9235\n",
            "Epoch 15/20\n",
            "22/22 [==============================] - 4s 171ms/step - loss: 0.0084 - accuracy: 1.0000 - val_loss: 0.1864 - val_accuracy: 0.9118\n",
            "Epoch 16/20\n",
            "22/22 [==============================] - 4s 170ms/step - loss: 0.0076 - accuracy: 1.0000 - val_loss: 0.1757 - val_accuracy: 0.9235\n",
            "Epoch 17/20\n",
            "22/22 [==============================] - 4s 170ms/step - loss: 0.0077 - accuracy: 1.0000 - val_loss: 0.1799 - val_accuracy: 0.9235\n",
            "Epoch 18/20\n",
            "22/22 [==============================] - 4s 171ms/step - loss: 0.0067 - accuracy: 1.0000 - val_loss: 0.1682 - val_accuracy: 0.9294\n",
            "Epoch 19/20\n",
            "22/22 [==============================] - 4s 169ms/step - loss: 0.0056 - accuracy: 1.0000 - val_loss: 0.1659 - val_accuracy: 0.9294\n",
            "Epoch 20/20\n",
            "22/22 [==============================] - 4s 170ms/step - loss: 0.0049 - accuracy: 1.0000 - val_loss: 0.1961 - val_accuracy: 0.9235\n"
          ],
          "name": "stdout"
        }
      ]
    },
    {
      "cell_type": "markdown",
      "metadata": {
        "id": "nM5v8LkpKWO2"
      },
      "source": [
        "#Plotting Model Accuracy and Loss"
      ]
    },
    {
      "cell_type": "code",
      "metadata": {
        "colab": {
          "base_uri": "https://localhost:8080/",
          "height": 295
        },
        "id": "mdbPzv5zKRf6",
        "outputId": "8929df50-d9dc-4713-dcdf-5362c4b872bc"
      },
      "source": [
        "#get the details form the history object\n",
        "acc = history.history['accuracy']\n",
        "val_acc = history.history['val_accuracy']\n",
        "loss = history.history['loss']\n",
        "val_loss = history.history['val_loss']\n",
        "epochs = range(1, len(acc) + 1)\n",
        "#Train and validation accuracy\n",
        "plt.plot(epochs, acc, 'b', label='Training accurarcy')\n",
        "plt.plot(epochs, val_acc, 'r', label='Validation accurarcy')\n",
        "plt.title('VGG19 - Training and Validation accurarcy')\n",
        "plt.xlabel(\"Number of Epochs\")\n",
        "plt.ylabel(\"Accuracy\")\n",
        "plt.grid()\n",
        "plt.legend()\n",
        "\n",
        "plt.savefig(\"/content/drive/MyDrive/Colab Notebooks/Fruit Classification Notebook/plots/VGG19_Accuracy.png\")"
      ],
      "execution_count": 150,
      "outputs": [
        {
          "output_type": "display_data",
          "data": {
            "image/png": "[encoded data removed]",
            "text/plain": [
              "<Figure size 432x288 with 1 Axes>"
            ]
          },
          "metadata": {
            "tags": [],
            "needs_background": "light"
          }
        }
      ]
    },
    {
      "cell_type": "code",
      "metadata": {
        "colab": {
          "base_uri": "https://localhost:8080/",
          "height": 295
        },
        "id": "hxdWfanjKaSc",
        "outputId": "576fce2a-d6a3-49ca-b40f-e864a6c76662"
      },
      "source": [
        "plt.figure()\n",
        "#Train and validation loss\n",
        "plt.plot(epochs, loss, 'b', label='Training loss')\n",
        "plt.plot(epochs, val_loss, 'r', label='Validation loss')\n",
        "plt.title('VGG19 - Training and Validation loss')\n",
        "plt.xlabel(\"Number of Epochs\")\n",
        "plt.ylabel(\"Loss\")\n",
        "plt.legend()\n",
        "plt.grid()\n",
        "\n",
        "plt.savefig(\"/content/drive/MyDrive/Colab Notebooks/Fruit Classification Notebook/plots/VGG19_Loss.png\")"
      ],
      "execution_count": 151,
      "outputs": [
        {
          "output_type": "display_data",
          "data": {
            "image/png": "[encoded data removed]",
            "text/plain": [
              "<Figure size 432x288 with 1 Axes>"
            ]
          },
          "metadata": {
            "tags": [],
            "needs_background": "light"
          }
        }
      ]
    },
    {
      "cell_type": "code",
      "metadata": {
        "colab": {
          "base_uri": "https://localhost:8080/",
          "height": 549
        },
        "id": "-xbogvt8JXmM",
        "outputId": "eef5d24f-0677-4118-fa36-e2eb3cb268bb"
      },
      "source": [
        "#confusion matrix\n",
        "from sklearn.metrics import confusion_matrix\n",
        "import seaborn as sns\n",
        "y_pred=model.predict(xtest)\n",
        "y_pred_classes=np.argmax(y_pred,axis=1)\n",
        "y_true=np.argmax(ytest,axis=1)\n",
        "#compute conf mat\n",
        "conf_mat=confusion_matrix(y_true,y_pred_classes)\n",
        "#plot the con mat\n",
        "fruit_names=['fresh bananas',\n",
        " 'fresh oranges',\n",
        " 'rotten apples',\n",
        " 'fresh apples',\n",
        " 'rotten bananas',\n",
        " 'rotten oranges']\n",
        "f,ax=plt.subplots(figsize=(10,9))\n",
        "sns.heatmap(conf_mat,annot=True,fmt='.0f')\n",
        "ax.set_xticklabels(fruit_names)\n",
        "ax.set_yticklabels(fruit_names)\n",
        "plt.show()"
      ],
      "execution_count": 152,
      "outputs": [
        {
          "output_type": "display_data",
          "data": {
            "image/png": "[encoded data removed]",
            "text/plain": [
              "<Figure size 720x648 with 2 Axes>"
            ]
          },
          "metadata": {
            "tags": [],
            "needs_background": "light"
          }
        }
      ]
    },
    {
      "cell_type": "markdown",
      "metadata": {
        "id": "9xrzZei9MXYo"
      },
      "source": [
        "#InceptionResNetV2"
      ]
    },
    {
      "cell_type": "code",
      "metadata": {
        "id": "WSUe1uOsMXpn"
      },
      "source": [
        "import tensorflow as tf"
      ],
      "execution_count": 153,
      "outputs": []
    },
    {
      "cell_type": "code",
      "metadata": {
        "id": "ymhNMWelMXrh"
      },
      "source": [
        "input_layer = layers.Input(shape=(200,200,3))\n",
        "model5 = tf.keras.applications.InceptionResNetV2(weights='imagenet',\n",
        "    include_top=False,input_tensor=input_layer)"
      ],
      "execution_count": 154,
      "outputs": []
    },
    {
      "cell_type": "code",
      "metadata": {
        "id": "07p8qPAhMayN"
      },
      "source": [
        "#model5.summary()"
      ],
      "execution_count": 155,
      "outputs": []
    },
    {
      "cell_type": "code",
      "metadata": {
        "colab": {
          "base_uri": "https://localhost:8080/"
        },
        "id": "FOLEdBVPN26G",
        "outputId": "8c77f12b-2afa-4580-9090-4ed0fe5489db"
      },
      "source": [
        "\n",
        "last_layer = model5.output\n",
        "\n",
        "flat = layers.Flatten()(last_layer)\n",
        "output_layer = layers.Dense(6,activation='softmax')(flat)\n",
        "\n",
        "new_model = models.Model(inputs=input_layer,outputs=output_layer)\n",
        "for layer in new_model.layers[:-1]:\n",
        "  layer.trainable=False\n",
        "from sklearn.model_selection import train_test_split\n",
        "xtrain,xtest,ytrain,ytest = train_test_split(x,y,test_size=0.2,random_state=5)\n",
        "new_model.compile(loss='categorical_crossentropy',optimizer='adam',metrics=['accuracy'])\n",
        "history = new_model.fit(xtrain,ytrain,batch_size=32,epochs=20,validation_data=(xtest,ytest))\n"
      ],
      "execution_count": 156,
      "outputs": [
        {
          "output_type": "stream",
          "text": [
            "Epoch 1/20\n",
            "22/22 [==============================] - 15s 322ms/step - loss: 1.7878 - accuracy: 0.6682 - val_loss: 0.6717 - val_accuracy: 0.9118\n",
            "Epoch 2/20\n",
            "22/22 [==============================] - 4s 167ms/step - loss: 0.3416 - accuracy: 0.9438 - val_loss: 0.3424 - val_accuracy: 0.9588\n",
            "Epoch 3/20\n",
            "22/22 [==============================] - 4s 168ms/step - loss: 0.0648 - accuracy: 0.9811 - val_loss: 0.2078 - val_accuracy: 0.9529\n",
            "Epoch 4/20\n",
            "22/22 [==============================] - 4s 168ms/step - loss: 0.0431 - accuracy: 0.9938 - val_loss: 0.1767 - val_accuracy: 0.9529\n",
            "Epoch 5/20\n",
            "22/22 [==============================] - 4s 168ms/step - loss: 0.0926 - accuracy: 0.9747 - val_loss: 0.2994 - val_accuracy: 0.9471\n",
            "Epoch 6/20\n",
            "22/22 [==============================] - 4s 169ms/step - loss: 0.0158 - accuracy: 0.9957 - val_loss: 0.2924 - val_accuracy: 0.9588\n",
            "Epoch 7/20\n",
            "22/22 [==============================] - 4s 170ms/step - loss: 0.0233 - accuracy: 0.9941 - val_loss: 0.3209 - val_accuracy: 0.9588\n",
            "Epoch 8/20\n",
            "22/22 [==============================] - 4s 170ms/step - loss: 2.8821e-04 - accuracy: 1.0000 - val_loss: 0.3340 - val_accuracy: 0.9529\n",
            "Epoch 9/20\n",
            "22/22 [==============================] - 4s 170ms/step - loss: 2.4842e-04 - accuracy: 1.0000 - val_loss: 0.2827 - val_accuracy: 0.9647\n",
            "Epoch 10/20\n",
            "22/22 [==============================] - 4s 171ms/step - loss: 3.1648e-05 - accuracy: 1.0000 - val_loss: 0.2760 - val_accuracy: 0.9647\n",
            "Epoch 11/20\n",
            "22/22 [==============================] - 4s 172ms/step - loss: 2.8702e-05 - accuracy: 1.0000 - val_loss: 0.2734 - val_accuracy: 0.9647\n",
            "Epoch 12/20\n",
            "22/22 [==============================] - 4s 170ms/step - loss: 5.1398e-05 - accuracy: 1.0000 - val_loss: 0.2712 - val_accuracy: 0.9647\n",
            "Epoch 13/20\n",
            "22/22 [==============================] - 4s 170ms/step - loss: 3.6645e-05 - accuracy: 1.0000 - val_loss: 0.2703 - val_accuracy: 0.9647\n",
            "Epoch 14/20\n",
            "22/22 [==============================] - 4s 168ms/step - loss: 2.9911e-05 - accuracy: 1.0000 - val_loss: 0.2687 - val_accuracy: 0.9647\n",
            "Epoch 15/20\n",
            "22/22 [==============================] - 4s 168ms/step - loss: 2.6761e-05 - accuracy: 1.0000 - val_loss: 0.2672 - val_accuracy: 0.9647\n",
            "Epoch 16/20\n",
            "22/22 [==============================] - 4s 167ms/step - loss: 2.1770e-05 - accuracy: 1.0000 - val_loss: 0.2666 - val_accuracy: 0.9647\n",
            "Epoch 17/20\n",
            "22/22 [==============================] - 4s 166ms/step - loss: 2.5776e-05 - accuracy: 1.0000 - val_loss: 0.2635 - val_accuracy: 0.9647\n",
            "Epoch 18/20\n",
            "22/22 [==============================] - 4s 166ms/step - loss: 2.7401e-05 - accuracy: 1.0000 - val_loss: 0.2611 - val_accuracy: 0.9647\n",
            "Epoch 19/20\n",
            "22/22 [==============================] - 4s 166ms/step - loss: 1.6697e-05 - accuracy: 1.0000 - val_loss: 0.2601 - val_accuracy: 0.9647\n",
            "Epoch 20/20\n",
            "22/22 [==============================] - 4s 165ms/step - loss: 1.6859e-05 - accuracy: 1.0000 - val_loss: 0.2603 - val_accuracy: 0.9647\n"
          ],
          "name": "stdout"
        }
      ]
    },
    {
      "cell_type": "code",
      "metadata": {
        "colab": {
          "base_uri": "https://localhost:8080/",
          "height": 295
        },
        "id": "3QjRAcKvN_S3",
        "outputId": "44da7630-51b8-46f2-a4ce-91ee34aeeee6"
      },
      "source": [
        "#get the details form the history object\n",
        "acc = history.history['accuracy']\n",
        "val_acc = history.history['val_accuracy']\n",
        "loss = history.history['loss']\n",
        "val_loss = history.history['val_loss']\n",
        "epochs = range(1, len(acc) + 1)\n",
        "#Train and validation accuracy\n",
        "plt.plot(epochs, acc, 'b', label='Training accurarcy')\n",
        "plt.plot(epochs, val_acc, 'r', label='Validation accurarcy')\n",
        "plt.title('InceptionResnetV2 - Training and Validation accurarcy')\n",
        "plt.xlabel(\"Number of Epochs\")\n",
        "plt.ylabel(\"Accuracy\")\n",
        "plt.grid()\n",
        "plt.legend()\n",
        "\n",
        "plt.savefig(\"/content/drive/MyDrive/Colab Notebooks/Fruit Classification Notebook/plots/InceptionResNetV2_Accuracy.png\")"
      ],
      "execution_count": 157,
      "outputs": [
        {
          "output_type": "display_data",
          "data": {
            "image/png": "[encoded data removed]",
            "text/plain": [
              "<Figure size 432x288 with 1 Axes>"
            ]
          },
          "metadata": {
            "tags": [],
            "needs_background": "light"
          }
        }
      ]
    },
    {
      "cell_type": "code",
      "metadata": {
        "colab": {
          "base_uri": "https://localhost:8080/",
          "height": 295
        },
        "id": "bPHlPPgYOAJ8",
        "outputId": "e5465b4d-642a-4df9-adee-add209ea8f25"
      },
      "source": [
        "plt.figure()\n",
        "#Train and validation loss\n",
        "plt.plot(epochs, loss, 'b', label='Training loss')\n",
        "plt.plot(epochs, val_loss, 'r', label='Validation loss')\n",
        "plt.title('InceptionResNetv2 - Training and Validation loss')\n",
        "plt.xlabel(\"Number of Epochs\")\n",
        "plt.ylabel(\"Loss\")\n",
        "plt.legend()\n",
        "plt.grid()\n",
        "\n",
        "plt.savefig(\"/content/drive/MyDrive/Colab Notebooks/Fruit Classification Notebook/plots/InceptionResNetV2_Loss.png\")"
      ],
      "execution_count": 158,
      "outputs": [
        {
          "output_type": "display_data",
          "data": {
            "image/png": "[encoded data removed]",
            "text/plain": [
              "<Figure size 432x288 with 1 Axes>"
            ]
          },
          "metadata": {
            "tags": [],
            "needs_background": "light"
          }
        }
      ]
    },
    {
      "cell_type": "code",
      "metadata": {
        "id": "qZCRV889OCah",
        "colab": {
          "base_uri": "https://localhost:8080/",
          "height": 478
        },
        "outputId": "7a7b4c84-58fc-46d1-e811-d730f531c5d1"
      },
      "source": [
        ""
      ],
      "execution_count": 225,
      "outputs": [
        {
          "output_type": "stream",
          "text": [
            "/usr/local/lib/python3.7/dist-packages/tensorflow/python/keras/engine/training.py:1905: UserWarning: `Model.predict_generator` is deprecated and will be removed in a future version. Please use `Model.predict`, which supports generators.\n",
            "  warnings.warn('`Model.predict_generator` is deprecated and '\n"
          ],
          "name": "stderr"
        },
        {
          "output_type": "stream",
          "text": [
            "WARNING:tensorflow:Your input ran out of data; interrupting training. Make sure that your dataset or generator can generate at least `steps_per_epoch * epochs` batches (in this case, 79 batches). You may need to use the repeat() function when building your dataset.\n",
            "Confusion Matrix\n"
          ],
          "name": "stdout"
        },
        {
          "output_type": "error",
          "ename": "ValueError",
          "evalue": "ignored",
          "traceback": [
            "\u001b[0;31m---------------------------------------------------------------------------\u001b[0m",
            "\u001b[0;31mValueError\u001b[0m                                Traceback (most recent call last)",
            "\u001b[0;32m<ipython-input-225-b97e4184692a>\u001b[0m in \u001b[0;36m<module>\u001b[0;34m()\u001b[0m\n\u001b[1;32m      9\u001b[0m \u001b[0my_pred\u001b[0m \u001b[0;34m=\u001b[0m \u001b[0mnp\u001b[0m\u001b[0;34m.\u001b[0m\u001b[0margmax\u001b[0m\u001b[0;34m(\u001b[0m\u001b[0mY_pred\u001b[0m\u001b[0;34m,\u001b[0m \u001b[0maxis\u001b[0m\u001b[0;34m=\u001b[0m\u001b[0;36m1\u001b[0m\u001b[0;34m)\u001b[0m\u001b[0;34m\u001b[0m\u001b[0;34m\u001b[0m\u001b[0m\n\u001b[1;32m     10\u001b[0m \u001b[0mprint\u001b[0m\u001b[0;34m(\u001b[0m\u001b[0;34m'Confusion Matrix'\u001b[0m\u001b[0;34m)\u001b[0m\u001b[0;34m\u001b[0m\u001b[0;34m\u001b[0m\u001b[0m\n\u001b[0;32m---> 11\u001b[0;31m \u001b[0mcm\u001b[0m \u001b[0;34m=\u001b[0m \u001b[0mmetrics\u001b[0m\u001b[0;34m.\u001b[0m\u001b[0mconfusion_matrix\u001b[0m\u001b[0;34m(\u001b[0m\u001b[0mval_generator\u001b[0m\u001b[0;34m.\u001b[0m\u001b[0mindex_array\u001b[0m\u001b[0;34m,\u001b[0m \u001b[0my_pred\u001b[0m\u001b[0;34m)\u001b[0m\u001b[0;34m\u001b[0m\u001b[0;34m\u001b[0m\u001b[0m\n\u001b[0m\u001b[1;32m     12\u001b[0m \u001b[0mprint\u001b[0m\u001b[0;34m(\u001b[0m\u001b[0mcm\u001b[0m\u001b[0;34m)\u001b[0m\u001b[0;34m\u001b[0m\u001b[0;34m\u001b[0m\u001b[0m\n\u001b[1;32m     13\u001b[0m \u001b[0mprint\u001b[0m\u001b[0;34m(\u001b[0m\u001b[0;34m'Classification Report'\u001b[0m\u001b[0;34m)\u001b[0m\u001b[0;34m\u001b[0m\u001b[0;34m\u001b[0m\u001b[0m\n",
            "\u001b[0;32m/usr/local/lib/python3.7/dist-packages/sklearn/metrics/_classification.py\u001b[0m in \u001b[0;36mconfusion_matrix\u001b[0;34m(y_true, y_pred, labels, sample_weight, normalize)\u001b[0m\n\u001b[1;32m    266\u001b[0m \u001b[0;34m\u001b[0m\u001b[0m\n\u001b[1;32m    267\u001b[0m     \"\"\"\n\u001b[0;32m--> 268\u001b[0;31m     \u001b[0my_type\u001b[0m\u001b[0;34m,\u001b[0m \u001b[0my_true\u001b[0m\u001b[0;34m,\u001b[0m \u001b[0my_pred\u001b[0m \u001b[0;34m=\u001b[0m \u001b[0m_check_targets\u001b[0m\u001b[0;34m(\u001b[0m\u001b[0my_true\u001b[0m\u001b[0;34m,\u001b[0m \u001b[0my_pred\u001b[0m\u001b[0;34m)\u001b[0m\u001b[0;34m\u001b[0m\u001b[0;34m\u001b[0m\u001b[0m\n\u001b[0m\u001b[1;32m    269\u001b[0m     \u001b[0;32mif\u001b[0m \u001b[0my_type\u001b[0m \u001b[0;32mnot\u001b[0m \u001b[0;32min\u001b[0m \u001b[0;34m(\u001b[0m\u001b[0;34m\"binary\"\u001b[0m\u001b[0;34m,\u001b[0m \u001b[0;34m\"multiclass\"\u001b[0m\u001b[0;34m)\u001b[0m\u001b[0;34m:\u001b[0m\u001b[0;34m\u001b[0m\u001b[0;34m\u001b[0m\u001b[0m\n\u001b[1;32m    270\u001b[0m         \u001b[0;32mraise\u001b[0m \u001b[0mValueError\u001b[0m\u001b[0;34m(\u001b[0m\u001b[0;34m\"%s is not supported\"\u001b[0m \u001b[0;34m%\u001b[0m \u001b[0my_type\u001b[0m\u001b[0;34m)\u001b[0m\u001b[0;34m\u001b[0m\u001b[0;34m\u001b[0m\u001b[0m\n",
            "\u001b[0;32m/usr/local/lib/python3.7/dist-packages/sklearn/metrics/_classification.py\u001b[0m in \u001b[0;36m_check_targets\u001b[0;34m(y_true, y_pred)\u001b[0m\n\u001b[1;32m     88\u001b[0m     \u001b[0;32mif\u001b[0m \u001b[0mlen\u001b[0m\u001b[0;34m(\u001b[0m\u001b[0my_type\u001b[0m\u001b[0;34m)\u001b[0m \u001b[0;34m>\u001b[0m \u001b[0;36m1\u001b[0m\u001b[0;34m:\u001b[0m\u001b[0;34m\u001b[0m\u001b[0;34m\u001b[0m\u001b[0m\n\u001b[1;32m     89\u001b[0m         raise ValueError(\"Classification metrics can't handle a mix of {0} \"\n\u001b[0;32m---> 90\u001b[0;31m                          \"and {1} targets\".format(type_true, type_pred))\n\u001b[0m\u001b[1;32m     91\u001b[0m \u001b[0;34m\u001b[0m\u001b[0m\n\u001b[1;32m     92\u001b[0m     \u001b[0;31m# We can't have more than one value on y_type => The set is no more needed\u001b[0m\u001b[0;34m\u001b[0m\u001b[0;34m\u001b[0m\u001b[0;34m\u001b[0m\u001b[0m\n",
            "\u001b[0;31mValueError\u001b[0m: Classification metrics can't handle a mix of multiclass and unknown targets"
          ]
        }
      ]
    },
    {
      "cell_type": "code",
      "metadata": {
        "id": "cVCGNDKzLG9z"
      },
      "source": [
        ""
      ],
      "execution_count": null,
      "outputs": []
    }
  ]
}