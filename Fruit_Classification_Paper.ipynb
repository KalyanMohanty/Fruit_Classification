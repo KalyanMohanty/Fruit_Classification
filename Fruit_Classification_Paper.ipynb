{
  "nbformat": 4,
  "nbformat_minor": 0,
  "metadata": {
    "colab": {
      "name": "Fruit_Classification_Paper.ipynb",
      "provenance": [],
      "collapsed_sections": [],
      "mount_file_id": "1ycCIkwE-wLeCvK4mKsHN-7w6pgBPFodQ",
      "authorship_tag": "ABX9TyO7+YUNFJE0hnTXfpNzwEWx",
      "include_colab_link": true
    },
    "kernelspec": {
      "name": "python3",
      "display_name": "Python 3"
    },
    "language_info": {
      "name": "python"
    },
    "accelerator": "GPU"
  },
  "cells": [
    {
      "cell_type": "markdown",
      "metadata": {
        "id": "view-in-github",
        "colab_type": "text"
      },
      "source": [
        "<a href=\"https://colab.research.google.com/github/KalyanMohanty/Fruit_Classification/blob/main/Fruit_Classification_Paper.ipynb\" target=\"_parent\"><img src=\"https://colab.research.google.com/assets/colab-badge.svg\" alt=\"Open In Colab\"/></a>"
      ]
    },
    {
      "cell_type": "code",
      "metadata": {
        "id": "cqnEjMXZ__af"
      },
      "source": [
        "import os\n",
        "import numpy as np\n",
        "import matplotlib.pyplot as plt\n",
        "from tensorflow.keras.utils import to_categorical, plot_model\n",
        "from tensorflow.keras.preprocessing import image\n",
        "from tensorflow.keras import models,layers"
      ],
      "execution_count": 1,
      "outputs": []
    },
    {
      "cell_type": "code",
      "metadata": {
        "colab": {
          "base_uri": "https://localhost:8080/",
          "height": 0
        },
        "id": "PPGCVNptAKzB",
        "outputId": "e0dd450e-e749-4ce7-eb91-3f4cdc35c972"
      },
      "source": [
        "names = os.listdir(\"/content/drive/MyDrive/fruit dataset\")\n",
        "names"
      ],
      "execution_count": 3,
      "outputs": [
        {
          "output_type": "execute_result",
          "data": {
            "text/plain": [
              "['fresh bananas',\n",
              " 'fresh oranges',\n",
              " 'rotten apples',\n",
              " 'fresh apples',\n",
              " 'rotten bananas',\n",
              " 'rotten oranges',\n",
              " '.ipynb_checkpoints']"
            ]
          },
          "metadata": {
            "tags": []
          },
          "execution_count": 3
        }
      ]
    },
    {
      "cell_type": "code",
      "metadata": {
        "colab": {
          "base_uri": "https://localhost:8080/",
          "height": 0
        },
        "id": "FGRCX0-SANFq",
        "outputId": "c36e5def-b23e-4b59-fd07-342e222f2dcf"
      },
      "source": [
        "x = []\n",
        "y = []\n",
        "\n",
        "for folder in names:\n",
        "  files = os.listdir(\"/content/drive/MyDrive/fruit dataset/\"+folder)\n",
        "  for file in files:\n",
        "    img = image.load_img(\"/content/drive/MyDrive/fruit dataset/\"+folder+\"/\"+file,target_size=(200,200))\n",
        "    img = image.img_to_array(img)\n",
        "    x.append(img)\n",
        "    y.append(names.index(folder))\n",
        "\n",
        "\n",
        "x = np.array(x)\n",
        "y = np.array(y)\n",
        "print(x.shape)\n",
        "print(y.shape)"
      ],
      "execution_count": 4,
      "outputs": [
        {
          "output_type": "stream",
          "text": [
            "(849, 200, 200, 3)\n",
            "(849,)\n"
          ],
          "name": "stdout"
        }
      ]
    },
    {
      "cell_type": "code",
      "metadata": {
        "colab": {
          "base_uri": "https://localhost:8080/",
          "height": 0
        },
        "id": "uQq1mOxfANIq",
        "outputId": "a652e324-9b02-4a2d-d3c0-ca1fa7a3d42e"
      },
      "source": [
        "x = np.array(x)\n",
        "y = np.array(y)\n",
        "print(x.shape)\n",
        "print(y.shape)\n"
      ],
      "execution_count": 5,
      "outputs": [
        {
          "output_type": "stream",
          "text": [
            "(849, 200, 200, 3)\n",
            "(849,)\n"
          ],
          "name": "stdout"
        }
      ]
    },
    {
      "cell_type": "code",
      "metadata": {
        "colab": {
          "base_uri": "https://localhost:8080/",
          "height": 0
        },
        "id": "kZeVf_PQANKG",
        "outputId": "b7ea7d1a-cb7d-46ae-a354-a69616d84d66"
      },
      "source": [
        "y = to_categorical(y)\n",
        "print(y.shape)"
      ],
      "execution_count": 6,
      "outputs": [
        {
          "output_type": "stream",
          "text": [
            "(849, 6)\n"
          ],
          "name": "stdout"
        }
      ]
    },
    {
      "cell_type": "code",
      "metadata": {
        "id": "nwYUMnYYANMY"
      },
      "source": [
        "x = x/255"
      ],
      "execution_count": 7,
      "outputs": []
    },
    {
      "cell_type": "markdown",
      "metadata": {
        "id": "QKCI6nctApAM"
      },
      "source": [
        "# CNN"
      ]
    },
    {
      "cell_type": "code",
      "metadata": {
        "id": "v471GCHtANOF"
      },
      "source": [
        "from sklearn.model_selection import train_test_split\n",
        "xtrain,xtest,ytrain,ytest = train_test_split(x,y,test_size=0.2,random_state=5)"
      ],
      "execution_count": 12,
      "outputs": []
    },
    {
      "cell_type": "code",
      "metadata": {
        "id": "bxW6qcFwANRV"
      },
      "source": [
        "model = models.Sequential()\n",
        "model.add(layers.Conv2D(filters=20,kernel_size=(5,5),input_shape=(200,200,3),activation = 'relu'))\n",
        "model.add(layers.Conv2D(30,(5,5),activation='relu'))\n",
        "model.add(layers.MaxPooling2D(pool_size=(2,2)))\n",
        "model.add(layers.Dropout(0.5))\n",
        "model.add(layers.Conv2D(40,(3,3),activation='relu'))\n",
        "model.add(layers.Conv2D(80,(3,3),activation='relu'))\n",
        "model.add(layers.Conv2D(100,(3,3),activation='relu'))\n",
        "model.add(layers.Conv2D(120,(3,3),activation='relu'))\n",
        "model.add(layers.Conv2D(140,(3,3),activation='relu'))\n",
        "model.add(layers.Conv2D(160,(3,3),activation='relu'))\n",
        "model.add(layers.MaxPooling2D(pool_size=(2,2)))\n",
        "model.add(layers.Flatten())\n",
        "model.add(layers.Dense(180,activation='relu'))\n",
        "model.add(layers.Dropout(0.5))\n",
        "model.add(layers.Dense(100,activation='relu'))\n",
        "model.add(layers.Dense(6,activation='softmax'))\n"
      ],
      "execution_count": 38,
      "outputs": []
    },
    {
      "cell_type": "code",
      "metadata": {
        "id": "6lcaXjvrANUF"
      },
      "source": [
        "model.compile(loss='categorical_crossentropy',optimizer='adam',metrics=['accuracy'])"
      ],
      "execution_count": 39,
      "outputs": []
    },
    {
      "cell_type": "code",
      "metadata": {
        "id": "K0hPUdOEANV3"
      },
      "source": [
        "from tensorflow.keras.preprocessing.image import ImageDataGenerator\n",
        "train_datagen = ImageDataGenerator(rescale=1./255, #Scale the image between 0 and 1\n",
        " rotation_range=40,\n",
        " width_shift_range=0.2,\n",
        " height_shift_range=0.2,\n",
        " shear_range=0.2,\n",
        " zoom_range=0.2,\n",
        " horizontal_flip=True,)\n"
      ],
      "execution_count": 40,
      "outputs": []
    },
    {
      "cell_type": "code",
      "metadata": {
        "id": "pgym4MmWANXT"
      },
      "source": [
        "train_datagen = ImageDataGenerator(rescale=1./255 )"
      ],
      "execution_count": 41,
      "outputs": []
    },
    {
      "cell_type": "code",
      "metadata": {
        "id": "nuMEm9g7A8GR"
      },
      "source": [
        "val_datagen = ImageDataGenerator(rescale=1./255)"
      ],
      "execution_count": 42,
      "outputs": []
    },
    {
      "cell_type": "code",
      "metadata": {
        "id": "gXNislqbA_Z7"
      },
      "source": [
        "#Create the image generators\n",
        "batch_size = 32\n",
        "train_generator = train_datagen.flow(xtrain, ytrain, batch_size=batch_size)\n",
        "val_generator = val_datagen.flow(xtest, ytest, batch_size=batch_size)\n"
      ],
      "execution_count": 43,
      "outputs": []
    },
    {
      "cell_type": "code",
      "metadata": {
        "colab": {
          "base_uri": "https://localhost:8080/",
          "height": 0
        },
        "id": "2kt6UWNbBErM",
        "outputId": "d96069d9-b811-4b8d-9b28-320d5a799a1b"
      },
      "source": [
        "ntrain = len(xtrain)\n",
        "nval = len(xtest)\n",
        "print(ntrain)\n",
        "print(nval)\n"
      ],
      "execution_count": 44,
      "outputs": [
        {
          "output_type": "stream",
          "text": [
            "679\n",
            "170\n"
          ],
          "name": "stdout"
        }
      ]
    },
    {
      "cell_type": "code",
      "metadata": {
        "colab": {
          "base_uri": "https://localhost:8080/",
          "height": 0
        },
        "id": "lvKCdpTdBINw",
        "outputId": "2b023796-f58d-4a70-b768-c7f527909122"
      },
      "source": [
        "history = model.fit_generator(train_generator,\n",
        " steps_per_epoch=ntrain // batch_size,\n",
        " epochs=20,\n",
        " validation_data=val_generator,\n",
        " validation_steps=nval // batch_size)\n"
      ],
      "execution_count": 46,
      "outputs": [
        {
          "output_type": "stream",
          "text": [
            "/usr/local/lib/python3.7/dist-packages/tensorflow/python/keras/engine/training.py:1844: UserWarning: `Model.fit_generator` is deprecated and will be removed in a future version. Please use `Model.fit`, which supports generators.\n",
            "  warnings.warn('`Model.fit_generator` is deprecated and '\n"
          ],
          "name": "stderr"
        },
        {
          "output_type": "stream",
          "text": [
            "Epoch 1/100\n",
            "21/21 [==============================] - 3s 136ms/step - loss: 1.7912 - accuracy: 0.1777 - val_loss: 1.7926 - val_accuracy: 0.1437\n",
            "Epoch 2/100\n",
            "21/21 [==============================] - 3s 137ms/step - loss: 1.7907 - accuracy: 0.1777 - val_loss: 1.7945 - val_accuracy: 0.1375\n",
            "Epoch 3/100\n",
            "21/21 [==============================] - 3s 136ms/step - loss: 1.7910 - accuracy: 0.1839 - val_loss: 1.7927 - val_accuracy: 0.1500\n",
            "Epoch 4/100\n",
            "21/21 [==============================] - 3s 137ms/step - loss: 1.7911 - accuracy: 0.1777 - val_loss: 1.7934 - val_accuracy: 0.1375\n",
            "Epoch 5/100\n",
            "21/21 [==============================] - 3s 136ms/step - loss: 1.7905 - accuracy: 0.1808 - val_loss: 1.7935 - val_accuracy: 0.1500\n",
            "Epoch 6/100\n",
            "21/21 [==============================] - 3s 137ms/step - loss: 1.7904 - accuracy: 0.1824 - val_loss: 1.7929 - val_accuracy: 0.1437\n",
            "Epoch 7/100\n",
            "21/21 [==============================] - 3s 140ms/step - loss: 1.7909 - accuracy: 0.1786 - val_loss: 1.7928 - val_accuracy: 0.1562\n",
            "Epoch 8/100\n",
            "21/21 [==============================] - 3s 135ms/step - loss: 1.7909 - accuracy: 0.1808 - val_loss: 1.7930 - val_accuracy: 0.1500\n",
            "Epoch 9/100\n",
            "21/21 [==============================] - 3s 136ms/step - loss: 1.7914 - accuracy: 0.1747 - val_loss: 1.7921 - val_accuracy: 0.1500\n",
            "Epoch 10/100\n",
            "21/21 [==============================] - 3s 140ms/step - loss: 1.7918 - accuracy: 0.1762 - val_loss: 1.7921 - val_accuracy: 0.1500\n",
            "Epoch 11/100\n",
            "21/21 [==============================] - 3s 136ms/step - loss: 1.7911 - accuracy: 0.1839 - val_loss: 1.7924 - val_accuracy: 0.1500\n",
            "Epoch 12/100\n",
            "21/21 [==============================] - 3s 136ms/step - loss: 1.7906 - accuracy: 0.1731 - val_loss: 1.7927 - val_accuracy: 0.1750\n",
            "Epoch 13/100\n",
            "21/21 [==============================] - 3s 137ms/step - loss: 1.7906 - accuracy: 0.1484 - val_loss: 1.7922 - val_accuracy: 0.1500\n",
            "Epoch 14/100\n",
            "21/21 [==============================] - 3s 136ms/step - loss: 1.7914 - accuracy: 0.1808 - val_loss: 1.7925 - val_accuracy: 0.1500\n",
            "Epoch 15/100\n",
            "21/21 [==============================] - 3s 137ms/step - loss: 1.7912 - accuracy: 0.1607 - val_loss: 1.7916 - val_accuracy: 0.1437\n",
            "Epoch 16/100\n",
            "21/21 [==============================] - 3s 139ms/step - loss: 1.7913 - accuracy: 0.1808 - val_loss: 1.7953 - val_accuracy: 0.1250\n",
            "Epoch 17/100\n",
            "21/21 [==============================] - 3s 138ms/step - loss: 1.7917 - accuracy: 0.1731 - val_loss: 1.7957 - val_accuracy: 0.1375\n",
            "Epoch 18/100\n",
            "21/21 [==============================] - 3s 135ms/step - loss: 1.7915 - accuracy: 0.1747 - val_loss: 1.7917 - val_accuracy: 0.1500\n",
            "Epoch 19/100\n",
            "21/21 [==============================] - 3s 136ms/step - loss: 1.7905 - accuracy: 0.1808 - val_loss: 1.7950 - val_accuracy: 0.1500\n",
            "Epoch 20/100\n",
            "21/21 [==============================] - 3s 137ms/step - loss: 1.7912 - accuracy: 0.1824 - val_loss: 1.7958 - val_accuracy: 0.1375\n",
            "Epoch 21/100\n",
            "21/21 [==============================] - 3s 136ms/step - loss: 1.7904 - accuracy: 0.1839 - val_loss: 1.7943 - val_accuracy: 0.1437\n",
            "Epoch 22/100\n",
            "21/21 [==============================] - 3s 136ms/step - loss: 1.7908 - accuracy: 0.1808 - val_loss: 1.7938 - val_accuracy: 0.1500\n",
            "Epoch 23/100\n",
            "21/21 [==============================] - 3s 137ms/step - loss: 1.7908 - accuracy: 0.1793 - val_loss: 1.7957 - val_accuracy: 0.1375\n",
            "Epoch 24/100\n",
            "21/21 [==============================] - 3s 138ms/step - loss: 1.7922 - accuracy: 0.1731 - val_loss: 1.7945 - val_accuracy: 0.1437\n",
            "Epoch 25/100\n",
            "21/21 [==============================] - 3s 136ms/step - loss: 1.7907 - accuracy: 0.1808 - val_loss: 1.7938 - val_accuracy: 0.1562\n",
            "Epoch 26/100\n",
            "21/21 [==============================] - 3s 137ms/step - loss: 1.7913 - accuracy: 0.1762 - val_loss: 1.7929 - val_accuracy: 0.1500\n",
            "Epoch 27/100\n",
            "21/21 [==============================] - 3s 136ms/step - loss: 1.7908 - accuracy: 0.1793 - val_loss: 1.7923 - val_accuracy: 0.1562\n",
            "Epoch 28/100\n",
            "21/21 [==============================] - 3s 137ms/step - loss: 1.7910 - accuracy: 0.1793 - val_loss: 1.7925 - val_accuracy: 0.1375\n",
            "Epoch 29/100\n",
            "21/21 [==============================] - 3s 137ms/step - loss: 1.7906 - accuracy: 0.1808 - val_loss: 1.7934 - val_accuracy: 0.1312\n",
            "Epoch 30/100\n",
            "21/21 [==============================] - 3s 136ms/step - loss: 1.7911 - accuracy: 0.1777 - val_loss: 1.7939 - val_accuracy: 0.1437\n",
            "Epoch 31/100\n",
            "21/21 [==============================] - 3s 137ms/step - loss: 1.7910 - accuracy: 0.1777 - val_loss: 1.7917 - val_accuracy: 0.1500\n",
            "Epoch 32/100\n",
            "21/21 [==============================] - 3s 141ms/step - loss: 1.7905 - accuracy: 0.1808 - val_loss: 1.7904 - val_accuracy: 0.1500\n",
            "Epoch 33/100\n",
            "21/21 [==============================] - 3s 136ms/step - loss: 1.7915 - accuracy: 0.1777 - val_loss: 1.7931 - val_accuracy: 0.1437\n",
            "Epoch 34/100\n",
            "21/21 [==============================] - 3s 136ms/step - loss: 1.7912 - accuracy: 0.1747 - val_loss: 1.7928 - val_accuracy: 0.1500\n",
            "Epoch 35/100\n",
            "21/21 [==============================] - 3s 140ms/step - loss: 1.7909 - accuracy: 0.1824 - val_loss: 1.7915 - val_accuracy: 0.1500\n",
            "Epoch 36/100\n",
            "21/21 [==============================] - 3s 136ms/step - loss: 1.7898 - accuracy: 0.1824 - val_loss: 1.7923 - val_accuracy: 0.1562\n",
            "Epoch 37/100\n",
            "21/21 [==============================] - 3s 136ms/step - loss: 1.7910 - accuracy: 0.1777 - val_loss: 1.7924 - val_accuracy: 0.1500\n",
            "Epoch 38/100\n",
            "21/21 [==============================] - 3s 136ms/step - loss: 1.7906 - accuracy: 0.1808 - val_loss: 1.7935 - val_accuracy: 0.1500\n",
            "Epoch 39/100\n",
            "21/21 [==============================] - 3s 138ms/step - loss: 1.7909 - accuracy: 0.1808 - val_loss: 1.7938 - val_accuracy: 0.1437\n",
            "Epoch 40/100\n",
            "21/21 [==============================] - 3s 136ms/step - loss: 1.7906 - accuracy: 0.1793 - val_loss: 1.7939 - val_accuracy: 0.1437\n",
            "Epoch 41/100\n",
            "21/21 [==============================] - 3s 136ms/step - loss: 1.7908 - accuracy: 0.1808 - val_loss: 1.7948 - val_accuracy: 0.1500\n",
            "Epoch 42/100\n",
            "21/21 [==============================] - 3s 142ms/step - loss: 1.7920 - accuracy: 0.1716 - val_loss: 1.7931 - val_accuracy: 0.1500\n",
            "Epoch 43/100\n",
            "21/21 [==============================] - 3s 137ms/step - loss: 1.7909 - accuracy: 0.1762 - val_loss: 1.7938 - val_accuracy: 0.1375\n",
            "Epoch 44/100\n",
            "21/21 [==============================] - 3s 142ms/step - loss: 1.7912 - accuracy: 0.1777 - val_loss: 1.7911 - val_accuracy: 0.1500\n",
            "Epoch 45/100\n",
            "21/21 [==============================] - 3s 136ms/step - loss: 1.7910 - accuracy: 0.1747 - val_loss: 1.7915 - val_accuracy: 0.1500\n",
            "Epoch 46/100\n",
            "21/21 [==============================] - 3s 140ms/step - loss: 1.7910 - accuracy: 0.1762 - val_loss: 1.7936 - val_accuracy: 0.1500\n",
            "Epoch 47/100\n",
            "21/21 [==============================] - 3s 137ms/step - loss: 1.7915 - accuracy: 0.1731 - val_loss: 1.7935 - val_accuracy: 0.1562\n",
            "Epoch 48/100\n",
            "21/21 [==============================] - 3s 137ms/step - loss: 1.7908 - accuracy: 0.1793 - val_loss: 1.7945 - val_accuracy: 0.1375\n",
            "Epoch 49/100\n",
            "21/21 [==============================] - 3s 136ms/step - loss: 1.7904 - accuracy: 0.1824 - val_loss: 1.7936 - val_accuracy: 0.1437\n",
            "Epoch 50/100\n",
            "21/21 [==============================] - 3s 135ms/step - loss: 1.7907 - accuracy: 0.1777 - val_loss: 1.7942 - val_accuracy: 0.1437\n",
            "Epoch 51/100\n",
            "21/21 [==============================] - 3s 135ms/step - loss: 1.7911 - accuracy: 0.1762 - val_loss: 1.7937 - val_accuracy: 0.1500\n",
            "Epoch 52/100\n",
            "21/21 [==============================] - 3s 136ms/step - loss: 1.7920 - accuracy: 0.1716 - val_loss: 1.7940 - val_accuracy: 0.1500\n",
            "Epoch 53/100\n",
            "21/21 [==============================] - 3s 136ms/step - loss: 1.7913 - accuracy: 0.1793 - val_loss: 1.7940 - val_accuracy: 0.1562\n",
            "Epoch 54/100\n",
            "21/21 [==============================] - 3s 137ms/step - loss: 1.7916 - accuracy: 0.1762 - val_loss: 1.7957 - val_accuracy: 0.1312\n",
            "Epoch 55/100\n",
            "21/21 [==============================] - 3s 136ms/step - loss: 1.7915 - accuracy: 0.1762 - val_loss: 1.7944 - val_accuracy: 0.1500\n",
            "Epoch 56/100\n",
            "21/21 [==============================] - 3s 137ms/step - loss: 1.7911 - accuracy: 0.1762 - val_loss: 1.7931 - val_accuracy: 0.1437\n",
            "Epoch 57/100\n",
            "21/21 [==============================] - 3s 135ms/step - loss: 1.7915 - accuracy: 0.1747 - val_loss: 1.7936 - val_accuracy: 0.1437\n",
            "Epoch 58/100\n",
            "21/21 [==============================] - 3s 137ms/step - loss: 1.7909 - accuracy: 0.1824 - val_loss: 1.7923 - val_accuracy: 0.1562\n",
            "Epoch 59/100\n",
            "21/21 [==============================] - 3s 137ms/step - loss: 1.7910 - accuracy: 0.1777 - val_loss: 1.7933 - val_accuracy: 0.1562\n",
            "Epoch 60/100\n",
            "21/21 [==============================] - 3s 137ms/step - loss: 1.7908 - accuracy: 0.1808 - val_loss: 1.7930 - val_accuracy: 0.1562\n",
            "Epoch 61/100\n",
            "21/21 [==============================] - 3s 137ms/step - loss: 1.7911 - accuracy: 0.1808 - val_loss: 1.7946 - val_accuracy: 0.1375\n",
            "Epoch 62/100\n",
            "21/21 [==============================] - 3s 138ms/step - loss: 1.7908 - accuracy: 0.1777 - val_loss: 1.7944 - val_accuracy: 0.1500\n",
            "Epoch 63/100\n",
            "21/21 [==============================] - 3s 136ms/step - loss: 1.7905 - accuracy: 0.1777 - val_loss: 1.7940 - val_accuracy: 0.1500\n",
            "Epoch 64/100\n",
            "21/21 [==============================] - 3s 137ms/step - loss: 1.7912 - accuracy: 0.1731 - val_loss: 1.7950 - val_accuracy: 0.1312\n",
            "Epoch 65/100\n",
            "21/21 [==============================] - 3s 138ms/step - loss: 1.7908 - accuracy: 0.1777 - val_loss: 1.7937 - val_accuracy: 0.1437\n",
            "Epoch 66/100\n",
            "21/21 [==============================] - 3s 137ms/step - loss: 1.7906 - accuracy: 0.1777 - val_loss: 1.7933 - val_accuracy: 0.1500\n",
            "Epoch 67/100\n",
            "21/21 [==============================] - 3s 136ms/step - loss: 1.7910 - accuracy: 0.1793 - val_loss: 1.7933 - val_accuracy: 0.1437\n",
            "Epoch 68/100\n",
            "21/21 [==============================] - 3s 137ms/step - loss: 1.7909 - accuracy: 0.1793 - val_loss: 1.7934 - val_accuracy: 0.1437\n",
            "Epoch 69/100\n",
            "21/21 [==============================] - 3s 141ms/step - loss: 1.7903 - accuracy: 0.1808 - val_loss: 1.7935 - val_accuracy: 0.1562\n",
            "Epoch 70/100\n",
            "21/21 [==============================] - 3s 136ms/step - loss: 1.7915 - accuracy: 0.1731 - val_loss: 1.7956 - val_accuracy: 0.1437\n",
            "Epoch 71/100\n",
            "21/21 [==============================] - 3s 139ms/step - loss: 1.7912 - accuracy: 0.1793 - val_loss: 1.7945 - val_accuracy: 0.1375\n",
            "Epoch 72/100\n",
            "21/21 [==============================] - 3s 137ms/step - loss: 1.7915 - accuracy: 0.1793 - val_loss: 1.7948 - val_accuracy: 0.1500\n",
            "Epoch 73/100\n",
            "21/21 [==============================] - 3s 138ms/step - loss: 1.7907 - accuracy: 0.1777 - val_loss: 1.7967 - val_accuracy: 0.1437\n",
            "Epoch 74/100\n",
            "21/21 [==============================] - 3s 137ms/step - loss: 1.7903 - accuracy: 0.1855 - val_loss: 1.7947 - val_accuracy: 0.1500\n",
            "Epoch 75/100\n",
            "21/21 [==============================] - 3s 137ms/step - loss: 1.7920 - accuracy: 0.1716 - val_loss: 1.7945 - val_accuracy: 0.1500\n",
            "Epoch 76/100\n",
            "21/21 [==============================] - 3s 138ms/step - loss: 1.7912 - accuracy: 0.1777 - val_loss: 1.7955 - val_accuracy: 0.1437\n",
            "Epoch 77/100\n",
            "21/21 [==============================] - 3s 138ms/step - loss: 1.7911 - accuracy: 0.1777 - val_loss: 1.7941 - val_accuracy: 0.1437\n",
            "Epoch 78/100\n",
            "21/21 [==============================] - 3s 138ms/step - loss: 1.7908 - accuracy: 0.1808 - val_loss: 1.7929 - val_accuracy: 0.1562\n",
            "Epoch 79/100\n",
            "21/21 [==============================] - 3s 137ms/step - loss: 1.7902 - accuracy: 0.1824 - val_loss: 1.7951 - val_accuracy: 0.1375\n",
            "Epoch 80/100\n",
            "21/21 [==============================] - 3s 137ms/step - loss: 1.7905 - accuracy: 0.1824 - val_loss: 1.7947 - val_accuracy: 0.1500\n",
            "Epoch 81/100\n",
            "21/21 [==============================] - 3s 137ms/step - loss: 1.7912 - accuracy: 0.1747 - val_loss: 1.7961 - val_accuracy: 0.1250\n",
            "Epoch 82/100\n",
            "21/21 [==============================] - 3s 138ms/step - loss: 1.7909 - accuracy: 0.1731 - val_loss: 1.7941 - val_accuracy: 0.1437\n",
            "Epoch 83/100\n",
            "21/21 [==============================] - 3s 137ms/step - loss: 1.7914 - accuracy: 0.1747 - val_loss: 1.7938 - val_accuracy: 0.1562\n",
            "Epoch 84/100\n",
            "21/21 [==============================] - 3s 138ms/step - loss: 1.7904 - accuracy: 0.1793 - val_loss: 1.7925 - val_accuracy: 0.1500\n",
            "Epoch 85/100\n",
            "21/21 [==============================] - 3s 137ms/step - loss: 1.7905 - accuracy: 0.1824 - val_loss: 1.7944 - val_accuracy: 0.1562\n",
            "Epoch 86/100\n",
            "21/21 [==============================] - 3s 138ms/step - loss: 1.7908 - accuracy: 0.1855 - val_loss: 1.7941 - val_accuracy: 0.1437\n",
            "Epoch 87/100\n",
            "21/21 [==============================] - 3s 138ms/step - loss: 1.7910 - accuracy: 0.1793 - val_loss: 1.7931 - val_accuracy: 0.1500\n",
            "Epoch 88/100\n",
            "21/21 [==============================] - 3s 138ms/step - loss: 1.7904 - accuracy: 0.1808 - val_loss: 1.7927 - val_accuracy: 0.1500\n",
            "Epoch 89/100\n",
            "21/21 [==============================] - 3s 139ms/step - loss: 1.7908 - accuracy: 0.1777 - val_loss: 1.7924 - val_accuracy: 0.1437\n",
            "Epoch 90/100\n",
            "21/21 [==============================] - 3s 137ms/step - loss: 1.7911 - accuracy: 0.1793 - val_loss: 1.7933 - val_accuracy: 0.1500\n",
            "Epoch 91/100\n",
            "21/21 [==============================] - 3s 137ms/step - loss: 1.7908 - accuracy: 0.1793 - val_loss: 1.7923 - val_accuracy: 0.1562\n",
            "Epoch 92/100\n",
            "21/21 [==============================] - 3s 137ms/step - loss: 1.7905 - accuracy: 0.1793 - val_loss: 1.7931 - val_accuracy: 0.1375\n",
            "Epoch 93/100\n",
            "21/21 [==============================] - 3s 138ms/step - loss: 1.7911 - accuracy: 0.1793 - val_loss: 1.7915 - val_accuracy: 0.1500\n",
            "Epoch 94/100\n",
            "21/21 [==============================] - 3s 137ms/step - loss: 1.7905 - accuracy: 0.1808 - val_loss: 1.7946 - val_accuracy: 0.1562\n",
            "Epoch 95/100\n",
            "21/21 [==============================] - 3s 137ms/step - loss: 1.7912 - accuracy: 0.1808 - val_loss: 1.7936 - val_accuracy: 0.1500\n",
            "Epoch 96/100\n",
            "21/21 [==============================] - 3s 142ms/step - loss: 1.7911 - accuracy: 0.1786 - val_loss: 1.7940 - val_accuracy: 0.1437\n",
            "Epoch 97/100\n",
            "21/21 [==============================] - 3s 137ms/step - loss: 1.7914 - accuracy: 0.1747 - val_loss: 1.7938 - val_accuracy: 0.1437\n",
            "Epoch 98/100\n",
            "21/21 [==============================] - 3s 137ms/step - loss: 1.7914 - accuracy: 0.1777 - val_loss: 1.7961 - val_accuracy: 0.1375\n",
            "Epoch 99/100\n",
            "21/21 [==============================] - 3s 139ms/step - loss: 1.7912 - accuracy: 0.1786 - val_loss: 1.7914 - val_accuracy: 0.1562\n",
            "Epoch 100/100\n",
            "21/21 [==============================] - 3s 138ms/step - loss: 1.7907 - accuracy: 0.1808 - val_loss: 1.7949 - val_accuracy: 0.1500\n"
          ],
          "name": "stdout"
        }
      ]
    },
    {
      "cell_type": "markdown",
      "metadata": {
        "id": "exCu25BpBq8d"
      },
      "source": [
        "#Plot model Accuracy and Loss"
      ]
    },
    {
      "cell_type": "code",
      "metadata": {
        "colab": {
          "base_uri": "https://localhost:8080/",
          "height": 298
        },
        "id": "3ITZMqRwBKrg",
        "outputId": "f4d66407-684a-4937-a4f7-b74d84fb6872"
      },
      "source": [
        "#get the details form the history object\n",
        "acc = history.history['accuracy']\n",
        "val_acc = history.history['val_accuracy']\n",
        "loss = history.history['loss']\n",
        "val_loss = history.history['val_loss']\n",
        "epochs = range(1, len(acc) + 1)\n",
        "#Train and validation accuracy\n",
        "plt.plot(epochs, acc, 'b', label='Training accurarcy')\n",
        "plt.plot(epochs, val_acc, 'r', label='Validation accurarcy')\n",
        "plt.title('Training and Validation accurarcy')\n",
        "plt.legend()"
      ],
      "execution_count": 23,
      "outputs": [
        {
          "output_type": "execute_result",
          "data": {
            "text/plain": [
              "<matplotlib.legend.Legend at 0x7fcc26702b10>"
            ]
          },
          "metadata": {
            "tags": []
          },
          "execution_count": 23
        },
        {
          "output_type": "display_data",
          "data": {
            "image/png": "[encoded data removed]",
            "text/plain": [
              "<Figure size 432x288 with 1 Axes>"
            ]
          },
          "metadata": {
            "tags": [],
            "needs_background": "light"
          }
        }
      ]
    },
    {
      "cell_type": "code",
      "metadata": {
        "colab": {
          "base_uri": "https://localhost:8080/",
          "height": 281
        },
        "id": "ufXUtl2WBw8-",
        "outputId": "b589a47e-9007-4cd6-ddc7-ff37883e194a"
      },
      "source": [
        "plt.figure()\n",
        "#Train and validation loss\n",
        "plt.plot(epochs, loss, 'b', label='Training loss')\n",
        "plt.plot(epochs, val_loss, 'r', label='Validation loss')\n",
        "plt.title('Training and Validation loss')\n",
        "plt.legend()\n",
        "plt.show()\n"
      ],
      "execution_count": 25,
      "outputs": [
        {
          "output_type": "display_data",
          "data": {
            "image/png": "[encoded data removed]",
            "text/plain": [
              "<Figure size 432x288 with 1 Axes>"
            ]
          },
          "metadata": {
            "tags": [],
            "needs_background": "light"
          }
        }
      ]
    },
    {
      "cell_type": "code",
      "metadata": {
        "colab": {
          "base_uri": "https://localhost:8080/",
          "height": 0
        },
        "id": "8NGYlbRIByOT",
        "outputId": "8e11e1ce-811e-4592-f3c0-006c64b2f3b0"
      },
      "source": [
        "Y_pred = model.predict(xtest)\n",
        "# #y_pred = np.argmax(Y_pred, axis=1) - used for multiclass\n",
        "# y_pred = (Y_pred > 0.5) * 1.0\n",
        "# y_pred = y_pred.reshape(ytest.shape)\n",
        "print(Y_pred.shape)\n",
        "# y_pred.sum()\n",
        "print(Y_pred[10])\n",
        "y_pred = (Y_pred > 0.5) * 1.0\n",
        "y_pred = y_pred.reshape(ytest.shape)\n",
        "print(y_pred)\n",
        "y_pred.sum()\n"
      ],
      "execution_count": 28,
      "outputs": [
        {
          "output_type": "stream",
          "text": [
            "(170, 6)\n",
            "[0.14233845 0.19939066 0.1528829  0.17774276 0.17549035 0.15215485]\n",
            "[[0. 0. 0. 0. 0. 0.]\n",
            " [0. 0. 0. 0. 0. 0.]\n",
            " [0. 0. 0. 0. 0. 0.]\n",
            " ...\n",
            " [0. 0. 0. 0. 0. 0.]\n",
            " [0. 0. 0. 0. 0. 0.]\n",
            " [0. 0. 0. 0. 0. 0.]]\n"
          ],
          "name": "stdout"
        },
        {
          "output_type": "execute_result",
          "data": {
            "text/plain": [
              "0.0"
            ]
          },
          "metadata": {
            "tags": []
          },
          "execution_count": 28
        }
      ]
    },
    {
      "cell_type": "markdown",
      "metadata": {
        "id": "reKrsZ_dCTZR"
      },
      "source": [
        "# ResNet50"
      ]
    },
    {
      "cell_type": "code",
      "metadata": {
        "colab": {
          "base_uri": "https://localhost:8080/",
          "height": 0
        },
        "id": "OhFKelBLByQG",
        "outputId": "cd413d00-ddd3-48ef-9a38-bd380efd6042"
      },
      "source": [
        "from tensorflow.keras.applications import resnet50\n",
        "model2 = resnet50.ResNet50(weights='imagenet')\n",
        "#new_model.summary()\n",
        "input_layer = layers.Input(shape=(200,200,3))\n",
        "model2 = resnet50.ResNet50(weights='imagenet',include_top=False,input_tensor=input_layer)\n",
        "#model2.summary()\n",
        "last_layer = model2.output\n",
        "flat = layers.Flatten()(last_layer)\n",
        "output_layer = layers.Dense(6,activation='softmax')(flat)\n",
        "new_model = models.Model(inputs=input_layer,outputs=output_layer)\n",
        "#new_model.summary()\n",
        "for layer in new_model.layers[:-1]:\n",
        " layer.trainable=False\n",
        "#new_model.summary()"
      ],
      "execution_count": 29,
      "outputs": [
        {
          "output_type": "stream",
          "text": [
            "Downloading data from https://storage.googleapis.com/tensorflow/keras-applications/resnet/resnet50_weights_tf_dim_ordering_tf_kernels.h5\n",
            "102973440/102967424 [==============================] - 1s 0us/step\n",
            "Downloading data from https://storage.googleapis.com/tensorflow/keras-applications/resnet/resnet50_weights_tf_dim_ordering_tf_kernels_notop.h5\n",
            "94773248/94765736 [==============================] - 1s 0us/step\n"
          ],
          "name": "stdout"
        }
      ]
    },
    {
      "cell_type": "code",
      "metadata": {
        "colab": {
          "base_uri": "https://localhost:8080/",
          "height": 0
        },
        "id": "bcruD5S_ByVI",
        "outputId": "5666cd42-4444-4f4e-8095-a478ffa34610"
      },
      "source": [
        "x = []\n",
        "y = []\n",
        "\n",
        "for folder in names:\n",
        "  files = os.listdir(\"/content/drive/MyDrive/fruit dataset/\"+folder)\n",
        "  for file in files:\n",
        "    img = image.load_img(\"/content/drive/MyDrive/fruit dataset/\"+folder+\"/\"+file,target_size=(200,200))\n",
        "    img = image.img_to_array(img)\n",
        "    x.append(img)\n",
        "    y.append(names.index(folder))\n",
        "x = np.array(x)\n",
        "y = np.array(y)\n",
        "print(x.shape)\n",
        "print(y.shape)\n",
        "y = to_categorical(y)\n",
        "print(y.shape)\n",
        "x = x/255\n"
      ],
      "execution_count": 33,
      "outputs": [
        {
          "output_type": "stream",
          "text": [
            "(849, 200, 200, 3)\n",
            "(849,)\n",
            "(849, 6)\n"
          ],
          "name": "stdout"
        }
      ]
    },
    {
      "cell_type": "code",
      "metadata": {
        "id": "d84p6encByev"
      },
      "source": [
        "from sklearn.model_selection import train_test_split\n",
        "xtrain,xtest,ytrain,ytest = train_test_split(x,y,test_size=0.2,random_state=5)"
      ],
      "execution_count": 34,
      "outputs": []
    },
    {
      "cell_type": "code",
      "metadata": {
        "colab": {
          "base_uri": "https://localhost:8080/",
          "height": 0
        },
        "id": "B80SLV_LByhI",
        "outputId": "13dda0e2-a1e0-4829-d493-614059d380a0"
      },
      "source": [
        "new_model.compile(loss='categorical_crossentropy',optimizer='adam',metrics=['accuracy'])\n",
        "history = new_model.fit(xtrain,ytrain,batch_size=32,epochs=20,validation_data=(xtest,ytest))\n"
      ],
      "execution_count": 35,
      "outputs": [
        {
          "output_type": "stream",
          "text": [
            "Epoch 1/20\n",
            "22/22 [==============================] - 7s 135ms/step - loss: 8.3178 - accuracy: 0.2166 - val_loss: 2.0481 - val_accuracy: 0.3824\n",
            "Epoch 2/20\n",
            "22/22 [==============================] - 2s 70ms/step - loss: 1.9331 - accuracy: 0.4326 - val_loss: 1.8188 - val_accuracy: 0.3353\n",
            "Epoch 3/20\n",
            "22/22 [==============================] - 1s 68ms/step - loss: 1.3681 - accuracy: 0.5379 - val_loss: 1.3335 - val_accuracy: 0.5765\n",
            "Epoch 4/20\n",
            "22/22 [==============================] - 2s 69ms/step - loss: 1.0137 - accuracy: 0.6420 - val_loss: 1.2597 - val_accuracy: 0.5059\n",
            "Epoch 5/20\n",
            "22/22 [==============================] - 2s 69ms/step - loss: 0.9876 - accuracy: 0.6256 - val_loss: 2.1134 - val_accuracy: 0.4882\n",
            "Epoch 6/20\n",
            "22/22 [==============================] - 2s 69ms/step - loss: 1.5727 - accuracy: 0.5428 - val_loss: 2.1971 - val_accuracy: 0.5765\n",
            "Epoch 7/20\n",
            "22/22 [==============================] - 2s 70ms/step - loss: 1.4394 - accuracy: 0.6468 - val_loss: 1.1426 - val_accuracy: 0.6059\n",
            "Epoch 8/20\n",
            "22/22 [==============================] - 2s 70ms/step - loss: 0.6967 - accuracy: 0.7128 - val_loss: 1.6601 - val_accuracy: 0.5588\n",
            "Epoch 9/20\n",
            "22/22 [==============================] - 2s 70ms/step - loss: 0.9189 - accuracy: 0.6997 - val_loss: 0.8193 - val_accuracy: 0.6765\n",
            "Epoch 10/20\n",
            "22/22 [==============================] - 1s 68ms/step - loss: 0.6105 - accuracy: 0.7630 - val_loss: 0.9486 - val_accuracy: 0.6235\n",
            "Epoch 11/20\n",
            "22/22 [==============================] - 2s 69ms/step - loss: 0.7195 - accuracy: 0.7112 - val_loss: 1.4281 - val_accuracy: 0.6176\n",
            "Epoch 12/20\n",
            "22/22 [==============================] - 2s 70ms/step - loss: 1.0467 - accuracy: 0.6634 - val_loss: 1.1649 - val_accuracy: 0.5882\n",
            "Epoch 13/20\n",
            "22/22 [==============================] - 2s 69ms/step - loss: 0.7907 - accuracy: 0.7081 - val_loss: 0.9780 - val_accuracy: 0.7176\n",
            "Epoch 14/20\n",
            "22/22 [==============================] - 2s 70ms/step - loss: 0.6939 - accuracy: 0.7403 - val_loss: 0.9188 - val_accuracy: 0.6824\n",
            "Epoch 15/20\n",
            "22/22 [==============================] - 2s 70ms/step - loss: 0.5867 - accuracy: 0.7957 - val_loss: 0.7663 - val_accuracy: 0.7059\n",
            "Epoch 16/20\n",
            "22/22 [==============================] - 1s 68ms/step - loss: 0.5701 - accuracy: 0.7934 - val_loss: 1.2550 - val_accuracy: 0.5765\n",
            "Epoch 17/20\n",
            "22/22 [==============================] - 2s 69ms/step - loss: 0.8238 - accuracy: 0.7027 - val_loss: 0.6856 - val_accuracy: 0.7176\n",
            "Epoch 18/20\n",
            "22/22 [==============================] - 2s 70ms/step - loss: 0.5480 - accuracy: 0.7929 - val_loss: 0.7145 - val_accuracy: 0.7118\n",
            "Epoch 19/20\n",
            "22/22 [==============================] - 2s 70ms/step - loss: 0.4805 - accuracy: 0.7948 - val_loss: 1.1855 - val_accuracy: 0.6529\n",
            "Epoch 20/20\n",
            "22/22 [==============================] - 2s 70ms/step - loss: 0.6987 - accuracy: 0.7697 - val_loss: 0.8771 - val_accuracy: 0.6824\n"
          ],
          "name": "stdout"
        }
      ]
    },
    {
      "cell_type": "markdown",
      "metadata": {
        "id": "ZY9dPBOuC4D6"
      },
      "source": [
        "#Plotting Model Accuracy and loss graph"
      ]
    },
    {
      "cell_type": "code",
      "metadata": {
        "colab": {
          "base_uri": "https://localhost:8080/",
          "height": 298
        },
        "id": "ZN43n_6xBykJ",
        "outputId": "a14c4159-10c5-46a7-91d1-4a5a61093f57"
      },
      "source": [
        "#get the details form the history object\n",
        "acc = history.history['accuracy']\n",
        "val_acc = history.history['val_accuracy']\n",
        "loss = history.history['loss']\n",
        "val_loss = history.history['val_loss']\n",
        "epochs = range(1, len(acc) + 1)\n",
        "#Train and validation accuracy\n",
        "plt.plot(epochs, acc, 'b', label='Training accurarcy')\n",
        "plt.plot(epochs, val_acc, 'r', label='Validation accurarcy')\n",
        "plt.title('Training and Validation accurarcy')\n",
        "plt.legend()"
      ],
      "execution_count": 36,
      "outputs": [
        {
          "output_type": "execute_result",
          "data": {
            "text/plain": [
              "<matplotlib.legend.Legend at 0x7fca4fe96e10>"
            ]
          },
          "metadata": {
            "tags": []
          },
          "execution_count": 36
        },
        {
          "output_type": "display_data",
          "data": {
            "image/png": "[encoded data removed]",
            "text/plain": [
              "<Figure size 432x288 with 1 Axes>"
            ]
          },
          "metadata": {
            "tags": [],
            "needs_background": "light"
          }
        }
      ]
    },
    {
      "cell_type": "code",
      "metadata": {
        "colab": {
          "base_uri": "https://localhost:8080/",
          "height": 281
        },
        "id": "F8YqrNGmBym1",
        "outputId": "08de72c4-84d1-4edf-fd96-ec67387912ce"
      },
      "source": [
        "plt.figure()\n",
        "#Train and validation loss\n",
        "plt.plot(epochs, loss, 'b', label='Training loss')\n",
        "plt.plot(epochs, val_loss, 'r', label='Validation loss')\n",
        "plt.title('Training and Validation loss')\n",
        "plt.legend()\n",
        "plt.show()"
      ],
      "execution_count": 37,
      "outputs": [
        {
          "output_type": "display_data",
          "data": {
            "image/png": "[encoded data removed]",
            "text/plain": [
              "<Figure size 432x288 with 1 Axes>"
            ]
          },
          "metadata": {
            "tags": [],
            "needs_background": "light"
          }
        }
      ]
    },
    {
      "cell_type": "markdown",
      "metadata": {
        "id": "CSfMcB5KE60g"
      },
      "source": [
        "# VGG16"
      ]
    },
    {
      "cell_type": "code",
      "metadata": {
        "id": "lrNxtMRYDAw5"
      },
      "source": [
        "from keras.applications.vgg16 import VGG16\n",
        "model3 = VGG16(weights='imagenet')"
      ],
      "execution_count": 54,
      "outputs": []
    },
    {
      "cell_type": "code",
      "metadata": {
        "colab": {
          "base_uri": "https://localhost:8080/",
          "height": 0
        },
        "id": "dDQzRtr3FP3b",
        "outputId": "bed04e9e-e6b7-486d-b0ee-174e301cf0d9"
      },
      "source": [
        "print(model3.summary())"
      ],
      "execution_count": 55,
      "outputs": [
        {
          "output_type": "stream",
          "text": [
            "Model: \"vgg16\"\n",
            "_________________________________________________________________\n",
            "Layer (type)                 Output Shape              Param #   \n",
            "=================================================================\n",
            "input_6 (InputLayer)         [(None, 224, 224, 3)]     0         \n",
            "_________________________________________________________________\n",
            "block1_conv1 (Conv2D)        (None, 224, 224, 64)      1792      \n",
            "_________________________________________________________________\n",
            "block1_conv2 (Conv2D)        (None, 224, 224, 64)      36928     \n",
            "_________________________________________________________________\n",
            "block1_pool (MaxPooling2D)   (None, 112, 112, 64)      0         \n",
            "_________________________________________________________________\n",
            "block2_conv1 (Conv2D)        (None, 112, 112, 128)     73856     \n",
            "_________________________________________________________________\n",
            "block2_conv2 (Conv2D)        (None, 112, 112, 128)     147584    \n",
            "_________________________________________________________________\n",
            "block2_pool (MaxPooling2D)   (None, 56, 56, 128)       0         \n",
            "_________________________________________________________________\n",
            "block3_conv1 (Conv2D)        (None, 56, 56, 256)       295168    \n",
            "_________________________________________________________________\n",
            "block3_conv2 (Conv2D)        (None, 56, 56, 256)       590080    \n",
            "_________________________________________________________________\n",
            "block3_conv3 (Conv2D)        (None, 56, 56, 256)       590080    \n",
            "_________________________________________________________________\n",
            "block3_pool (MaxPooling2D)   (None, 28, 28, 256)       0         \n",
            "_________________________________________________________________\n",
            "block4_conv1 (Conv2D)        (None, 28, 28, 512)       1180160   \n",
            "_________________________________________________________________\n",
            "block4_conv2 (Conv2D)        (None, 28, 28, 512)       2359808   \n",
            "_________________________________________________________________\n",
            "block4_conv3 (Conv2D)        (None, 28, 28, 512)       2359808   \n",
            "_________________________________________________________________\n",
            "block4_pool (MaxPooling2D)   (None, 14, 14, 512)       0         \n",
            "_________________________________________________________________\n",
            "block5_conv1 (Conv2D)        (None, 14, 14, 512)       2359808   \n",
            "_________________________________________________________________\n",
            "block5_conv2 (Conv2D)        (None, 14, 14, 512)       2359808   \n",
            "_________________________________________________________________\n",
            "block5_conv3 (Conv2D)        (None, 14, 14, 512)       2359808   \n",
            "_________________________________________________________________\n",
            "block5_pool (MaxPooling2D)   (None, 7, 7, 512)         0         \n",
            "_________________________________________________________________\n",
            "flatten (Flatten)            (None, 25088)             0         \n",
            "_________________________________________________________________\n",
            "fc1 (Dense)                  (None, 4096)              102764544 \n",
            "_________________________________________________________________\n",
            "fc2 (Dense)                  (None, 4096)              16781312  \n",
            "_________________________________________________________________\n",
            "predictions (Dense)          (None, 1000)              4097000   \n",
            "=================================================================\n",
            "Total params: 138,357,544\n",
            "Trainable params: 138,357,544\n",
            "Non-trainable params: 0\n",
            "_________________________________________________________________\n",
            "None\n"
          ],
          "name": "stdout"
        }
      ]
    },
    {
      "cell_type": "code",
      "metadata": {
        "id": "WOPxZAQlFUyy"
      },
      "source": [
        "from keras.utils.vis_utils import plot_model"
      ],
      "execution_count": 50,
      "outputs": []
    },
    {
      "cell_type": "code",
      "metadata": {
        "id": "euftP9rYFbuS"
      },
      "source": [
        "#plot_model(model3, to_file='vgg.png')"
      ],
      "execution_count": 60,
      "outputs": []
    },
    {
      "cell_type": "code",
      "metadata": {
        "id": "Hd0EYNM3FhnA"
      },
      "source": [
        "input_layer = layers.Input(shape=(200,200,3))"
      ],
      "execution_count": 56,
      "outputs": []
    },
    {
      "cell_type": "code",
      "metadata": {
        "id": "Yt4h3NtmGRim"
      },
      "source": [
        "model3 = VGG16(weights='imagenet',include_top=False,input_tensor=input_layer)"
      ],
      "execution_count": 58,
      "outputs": []
    },
    {
      "cell_type": "code",
      "metadata": {
        "colab": {
          "base_uri": "https://localhost:8080/",
          "height": 0
        },
        "id": "7CczVTK0Gs1D",
        "outputId": "9dc85090-4875-4331-ac84-db2b75238814"
      },
      "source": [
        "print(model3.summary())"
      ],
      "execution_count": 59,
      "outputs": [
        {
          "output_type": "stream",
          "text": [
            "Model: \"vgg16\"\n",
            "_________________________________________________________________\n",
            "Layer (type)                 Output Shape              Param #   \n",
            "=================================================================\n",
            "input_7 (InputLayer)         [(None, 200, 200, 3)]     0         \n",
            "_________________________________________________________________\n",
            "block1_conv1 (Conv2D)        (None, 200, 200, 64)      1792      \n",
            "_________________________________________________________________\n",
            "block1_conv2 (Conv2D)        (None, 200, 200, 64)      36928     \n",
            "_________________________________________________________________\n",
            "block1_pool (MaxPooling2D)   (None, 100, 100, 64)      0         \n",
            "_________________________________________________________________\n",
            "block2_conv1 (Conv2D)        (None, 100, 100, 128)     73856     \n",
            "_________________________________________________________________\n",
            "block2_conv2 (Conv2D)        (None, 100, 100, 128)     147584    \n",
            "_________________________________________________________________\n",
            "block2_pool (MaxPooling2D)   (None, 50, 50, 128)       0         \n",
            "_________________________________________________________________\n",
            "block3_conv1 (Conv2D)        (None, 50, 50, 256)       295168    \n",
            "_________________________________________________________________\n",
            "block3_conv2 (Conv2D)        (None, 50, 50, 256)       590080    \n",
            "_________________________________________________________________\n",
            "block3_conv3 (Conv2D)        (None, 50, 50, 256)       590080    \n",
            "_________________________________________________________________\n",
            "block3_pool (MaxPooling2D)   (None, 25, 25, 256)       0         \n",
            "_________________________________________________________________\n",
            "block4_conv1 (Conv2D)        (None, 25, 25, 512)       1180160   \n",
            "_________________________________________________________________\n",
            "block4_conv2 (Conv2D)        (None, 25, 25, 512)       2359808   \n",
            "_________________________________________________________________\n",
            "block4_conv3 (Conv2D)        (None, 25, 25, 512)       2359808   \n",
            "_________________________________________________________________\n",
            "block4_pool (MaxPooling2D)   (None, 12, 12, 512)       0         \n",
            "_________________________________________________________________\n",
            "block5_conv1 (Conv2D)        (None, 12, 12, 512)       2359808   \n",
            "_________________________________________________________________\n",
            "block5_conv2 (Conv2D)        (None, 12, 12, 512)       2359808   \n",
            "_________________________________________________________________\n",
            "block5_conv3 (Conv2D)        (None, 12, 12, 512)       2359808   \n",
            "_________________________________________________________________\n",
            "block5_pool (MaxPooling2D)   (None, 6, 6, 512)         0         \n",
            "=================================================================\n",
            "Total params: 14,714,688\n",
            "Trainable params: 14,714,688\n",
            "Non-trainable params: 0\n",
            "_________________________________________________________________\n",
            "None\n"
          ],
          "name": "stdout"
        }
      ]
    },
    {
      "cell_type": "code",
      "metadata": {
        "id": "r0dfv6HsG0kJ"
      },
      "source": [
        "\n",
        "last_layer = model3.output\n",
        "\n",
        "flat = layers.Flatten()(last_layer)\n",
        "output_layer = layers.Dense(6,activation='softmax')(flat)\n",
        "\n",
        "new_model = models.Model(inputs=input_layer,outputs=output_layer)\n",
        "for layer in new_model.layers[:-1]:\n",
        "  layer.trainable=False"
      ],
      "execution_count": 61,
      "outputs": []
    },
    {
      "cell_type": "code",
      "metadata": {
        "colab": {
          "base_uri": "https://localhost:8080/",
          "height": 0
        },
        "id": "UT10pZMiImDq",
        "outputId": "0c630ba4-3bc0-4966-c151-767b86a4d122"
      },
      "source": [
        "new_model.summary()"
      ],
      "execution_count": 63,
      "outputs": [
        {
          "output_type": "stream",
          "text": [
            "Model: \"model_1\"\n",
            "_________________________________________________________________\n",
            "Layer (type)                 Output Shape              Param #   \n",
            "=================================================================\n",
            "input_7 (InputLayer)         [(None, 200, 200, 3)]     0         \n",
            "_________________________________________________________________\n",
            "block1_conv1 (Conv2D)        (None, 200, 200, 64)      1792      \n",
            "_________________________________________________________________\n",
            "block1_conv2 (Conv2D)        (None, 200, 200, 64)      36928     \n",
            "_________________________________________________________________\n",
            "block1_pool (MaxPooling2D)   (None, 100, 100, 64)      0         \n",
            "_________________________________________________________________\n",
            "block2_conv1 (Conv2D)        (None, 100, 100, 128)     73856     \n",
            "_________________________________________________________________\n",
            "block2_conv2 (Conv2D)        (None, 100, 100, 128)     147584    \n",
            "_________________________________________________________________\n",
            "block2_pool (MaxPooling2D)   (None, 50, 50, 128)       0         \n",
            "_________________________________________________________________\n",
            "block3_conv1 (Conv2D)        (None, 50, 50, 256)       295168    \n",
            "_________________________________________________________________\n",
            "block3_conv2 (Conv2D)        (None, 50, 50, 256)       590080    \n",
            "_________________________________________________________________\n",
            "block3_conv3 (Conv2D)        (None, 50, 50, 256)       590080    \n",
            "_________________________________________________________________\n",
            "block3_pool (MaxPooling2D)   (None, 25, 25, 256)       0         \n",
            "_________________________________________________________________\n",
            "block4_conv1 (Conv2D)        (None, 25, 25, 512)       1180160   \n",
            "_________________________________________________________________\n",
            "block4_conv2 (Conv2D)        (None, 25, 25, 512)       2359808   \n",
            "_________________________________________________________________\n",
            "block4_conv3 (Conv2D)        (None, 25, 25, 512)       2359808   \n",
            "_________________________________________________________________\n",
            "block4_pool (MaxPooling2D)   (None, 12, 12, 512)       0         \n",
            "_________________________________________________________________\n",
            "block5_conv1 (Conv2D)        (None, 12, 12, 512)       2359808   \n",
            "_________________________________________________________________\n",
            "block5_conv2 (Conv2D)        (None, 12, 12, 512)       2359808   \n",
            "_________________________________________________________________\n",
            "block5_conv3 (Conv2D)        (None, 12, 12, 512)       2359808   \n",
            "_________________________________________________________________\n",
            "block5_pool (MaxPooling2D)   (None, 6, 6, 512)         0         \n",
            "_________________________________________________________________\n",
            "flatten_4 (Flatten)          (None, 18432)             0         \n",
            "_________________________________________________________________\n",
            "dense_10 (Dense)             (None, 6)                 110598    \n",
            "=================================================================\n",
            "Total params: 14,825,286\n",
            "Trainable params: 110,598\n",
            "Non-trainable params: 14,714,688\n",
            "_________________________________________________________________\n"
          ],
          "name": "stdout"
        }
      ]
    },
    {
      "cell_type": "code",
      "metadata": {
        "id": "0_kfGcv6IonK"
      },
      "source": [
        "from sklearn.model_selection import train_test_split\n",
        "xtrain,xtest,ytrain,ytest = train_test_split(x,y,test_size=0.2,random_state=5)"
      ],
      "execution_count": 64,
      "outputs": []
    },
    {
      "cell_type": "code",
      "metadata": {
        "colab": {
          "base_uri": "https://localhost:8080/",
          "height": 0
        },
        "id": "WP80CS58IopS",
        "outputId": "dc879ae9-8c60-4733-be36-45619746739c"
      },
      "source": [
        "new_model.compile(loss='categorical_crossentropy',optimizer='adam',metrics=['accuracy'])\n",
        "history = new_model.fit(xtrain,ytrain,batch_size=32,epochs=20,validation_data=(xtest,ytest))\n"
      ],
      "execution_count": 65,
      "outputs": [
        {
          "output_type": "stream",
          "text": [
            "Epoch 1/20\n",
            "22/22 [==============================] - 6s 159ms/step - loss: 1.4685 - accuracy: 0.5077 - val_loss: 0.3850 - val_accuracy: 0.8529\n",
            "Epoch 2/20\n",
            "22/22 [==============================] - 2s 73ms/step - loss: 0.2129 - accuracy: 0.9176 - val_loss: 0.2527 - val_accuracy: 0.8882\n",
            "Epoch 3/20\n",
            "22/22 [==============================] - 2s 72ms/step - loss: 0.0688 - accuracy: 0.9868 - val_loss: 0.2103 - val_accuracy: 0.9176\n",
            "Epoch 4/20\n",
            "22/22 [==============================] - 2s 73ms/step - loss: 0.0622 - accuracy: 0.9910 - val_loss: 0.1919 - val_accuracy: 0.9294\n",
            "Epoch 5/20\n",
            "22/22 [==============================] - 2s 72ms/step - loss: 0.0355 - accuracy: 0.9986 - val_loss: 0.1965 - val_accuracy: 0.9235\n",
            "Epoch 6/20\n",
            "22/22 [==============================] - 2s 74ms/step - loss: 0.0262 - accuracy: 0.9993 - val_loss: 0.2015 - val_accuracy: 0.9294\n",
            "Epoch 7/20\n",
            "22/22 [==============================] - 2s 73ms/step - loss: 0.0217 - accuracy: 1.0000 - val_loss: 0.1775 - val_accuracy: 0.9294\n",
            "Epoch 8/20\n",
            "22/22 [==============================] - 2s 74ms/step - loss: 0.0214 - accuracy: 1.0000 - val_loss: 0.1816 - val_accuracy: 0.9412\n",
            "Epoch 9/20\n",
            "22/22 [==============================] - 2s 74ms/step - loss: 0.0154 - accuracy: 1.0000 - val_loss: 0.1896 - val_accuracy: 0.9294\n",
            "Epoch 10/20\n",
            "22/22 [==============================] - 2s 73ms/step - loss: 0.0119 - accuracy: 0.9977 - val_loss: 0.1692 - val_accuracy: 0.9412\n",
            "Epoch 11/20\n",
            "22/22 [==============================] - 2s 74ms/step - loss: 0.0118 - accuracy: 1.0000 - val_loss: 0.1776 - val_accuracy: 0.9353\n",
            "Epoch 12/20\n",
            "22/22 [==============================] - 2s 74ms/step - loss: 0.0115 - accuracy: 1.0000 - val_loss: 0.1992 - val_accuracy: 0.9235\n",
            "Epoch 13/20\n",
            "22/22 [==============================] - 2s 73ms/step - loss: 0.0090 - accuracy: 1.0000 - val_loss: 0.1764 - val_accuracy: 0.9412\n",
            "Epoch 14/20\n",
            "22/22 [==============================] - 2s 73ms/step - loss: 0.0077 - accuracy: 1.0000 - val_loss: 0.1939 - val_accuracy: 0.9294\n",
            "Epoch 15/20\n",
            "22/22 [==============================] - 2s 73ms/step - loss: 0.0081 - accuracy: 1.0000 - val_loss: 0.1750 - val_accuracy: 0.9412\n",
            "Epoch 16/20\n",
            "22/22 [==============================] - 2s 74ms/step - loss: 0.0074 - accuracy: 1.0000 - val_loss: 0.1768 - val_accuracy: 0.9412\n",
            "Epoch 17/20\n",
            "22/22 [==============================] - 2s 73ms/step - loss: 0.0066 - accuracy: 1.0000 - val_loss: 0.1732 - val_accuracy: 0.9471\n",
            "Epoch 18/20\n",
            "22/22 [==============================] - 2s 74ms/step - loss: 0.0053 - accuracy: 1.0000 - val_loss: 0.1752 - val_accuracy: 0.9412\n",
            "Epoch 19/20\n",
            "22/22 [==============================] - 2s 74ms/step - loss: 0.0050 - accuracy: 1.0000 - val_loss: 0.1834 - val_accuracy: 0.9471\n",
            "Epoch 20/20\n",
            "22/22 [==============================] - 2s 74ms/step - loss: 0.0049 - accuracy: 1.0000 - val_loss: 0.1806 - val_accuracy: 0.9412\n"
          ],
          "name": "stdout"
        }
      ]
    },
    {
      "cell_type": "markdown",
      "metadata": {
        "id": "ZH79s6XOJJp0"
      },
      "source": [
        "# Plotting Model Accuracy and Loss"
      ]
    },
    {
      "cell_type": "code",
      "metadata": {
        "colab": {
          "base_uri": "https://localhost:8080/",
          "height": 298
        },
        "id": "Y_X8EpiqI1gf",
        "outputId": "fbbc7e1d-d8e8-4383-cb3a-7109ed26fed4"
      },
      "source": [
        "#get the details form the history object\n",
        "acc = history.history['accuracy']\n",
        "val_acc = history.history['val_accuracy']\n",
        "loss = history.history['loss']\n",
        "val_loss = history.history['val_loss']\n",
        "epochs = range(1, len(acc) + 1)\n",
        "#Train and validation accuracy\n",
        "plt.plot(epochs, acc, 'b', label='Training accurarcy')\n",
        "plt.plot(epochs, val_acc, 'r', label='Validation accurarcy')\n",
        "plt.title('Training and Validation accurarcy')\n",
        "plt.legend()"
      ],
      "execution_count": 66,
      "outputs": [
        {
          "output_type": "execute_result",
          "data": {
            "text/plain": [
              "<matplotlib.legend.Legend at 0x7fca4ec0dd90>"
            ]
          },
          "metadata": {
            "tags": []
          },
          "execution_count": 66
        },
        {
          "output_type": "display_data",
          "data": {
            "image/png": "[encoded data removed]",
            "text/plain": [
              "<Figure size 432x288 with 1 Axes>"
            ]
          },
          "metadata": {
            "tags": [],
            "needs_background": "light"
          }
        }
      ]
    },
    {
      "cell_type": "code",
      "metadata": {
        "colab": {
          "base_uri": "https://localhost:8080/",
          "height": 281
        },
        "id": "ABpN9QKlJRKI",
        "outputId": "bcb3d80f-8d7b-413b-c5fd-fe5a8474e0df"
      },
      "source": [
        "plt.figure()\n",
        "#Train and validation loss\n",
        "plt.plot(epochs, loss, 'b', label='Training loss')\n",
        "plt.plot(epochs, val_loss, 'r', label='Validation loss')\n",
        "plt.title('Training and Validation loss')\n",
        "plt.legend()\n",
        "plt.show()"
      ],
      "execution_count": 67,
      "outputs": [
        {
          "output_type": "display_data",
          "data": {
            "image/png": "[encoded data removed]",
            "text/plain": [
              "<Figure size 432x288 with 1 Axes>"
            ]
          },
          "metadata": {
            "tags": [],
            "needs_background": "light"
          }
        }
      ]
    },
    {
      "cell_type": "markdown",
      "metadata": {
        "id": "PxafGKsIJdZn"
      },
      "source": [
        "#VGG 19\n"
      ]
    },
    {
      "cell_type": "code",
      "metadata": {
        "id": "ueC2NDtTJVrn"
      },
      "source": [
        "from keras.applications.vgg19 import VGG19\n",
        "model4 = VGG19(weights='imagenet')"
      ],
      "execution_count": 78,
      "outputs": []
    },
    {
      "cell_type": "code",
      "metadata": {
        "id": "KJfe2FXPJmZp"
      },
      "source": [
        "#print(model3.summary())"
      ],
      "execution_count": 79,
      "outputs": []
    },
    {
      "cell_type": "code",
      "metadata": {
        "id": "4AlHapZnJvix"
      },
      "source": [
        "input_layer = layers.Input(shape=(200,200,3))\n",
        "model4 = VGG19(weights='imagenet',include_top=False,input_tensor=input_layer)\n"
      ],
      "execution_count": 80,
      "outputs": []
    },
    {
      "cell_type": "code",
      "metadata": {
        "id": "0JovmfH-JzPS"
      },
      "source": [
        "#print(model3.summary())"
      ],
      "execution_count": 81,
      "outputs": []
    },
    {
      "cell_type": "code",
      "metadata": {
        "id": "31I0DBypK2ej"
      },
      "source": [
        "\n",
        "last_layer = model4.output\n",
        "\n",
        "flat = layers.Flatten()(last_layer)\n",
        "output_layer = layers.Dense(6,activation='softmax')(flat)\n",
        "\n",
        "new_model = models.Model(inputs=input_layer,outputs=output_layer)\n",
        "for layer in new_model.layers[:-1]:\n",
        "  layer.trainable=False"
      ],
      "execution_count": 82,
      "outputs": []
    },
    {
      "cell_type": "code",
      "metadata": {
        "colab": {
          "base_uri": "https://localhost:8080/",
          "height": 0
        },
        "id": "kGCpmLaAKEbs",
        "outputId": "4b6e2d77-6738-4b71-90bc-0125ac4ed67e"
      },
      "source": [
        "from sklearn.model_selection import train_test_split\n",
        "xtrain,xtest,ytrain,ytest = train_test_split(x,y,test_size=0.2,random_state=5)\n",
        "new_model.compile(loss='categorical_crossentropy',optimizer='adam',metrics=['accuracy'])\n",
        "history = new_model.fit(xtrain,ytrain,batch_size=32,epochs=20,validation_data=(xtest,ytest))\n"
      ],
      "execution_count": 83,
      "outputs": [
        {
          "output_type": "stream",
          "text": [
            "Epoch 1/20\n",
            "22/22 [==============================] - 3s 100ms/step - loss: 1.6242 - accuracy: 0.5223 - val_loss: 0.3294 - val_accuracy: 0.8882\n",
            "Epoch 2/20\n",
            "22/22 [==============================] - 2s 88ms/step - loss: 0.1653 - accuracy: 0.9592 - val_loss: 0.2623 - val_accuracy: 0.9118\n",
            "Epoch 3/20\n",
            "22/22 [==============================] - 2s 87ms/step - loss: 0.1197 - accuracy: 0.9691 - val_loss: 0.3186 - val_accuracy: 0.8882\n",
            "Epoch 4/20\n",
            "22/22 [==============================] - 2s 87ms/step - loss: 0.0711 - accuracy: 0.9845 - val_loss: 0.1925 - val_accuracy: 0.9235\n",
            "Epoch 5/20\n",
            "22/22 [==============================] - 2s 87ms/step - loss: 0.0465 - accuracy: 0.9932 - val_loss: 0.2563 - val_accuracy: 0.8824\n",
            "Epoch 6/20\n",
            "22/22 [==============================] - 2s 86ms/step - loss: 0.0375 - accuracy: 0.9991 - val_loss: 0.2322 - val_accuracy: 0.8941\n",
            "Epoch 7/20\n",
            "22/22 [==============================] - 2s 87ms/step - loss: 0.0338 - accuracy: 0.9970 - val_loss: 0.2191 - val_accuracy: 0.9118\n",
            "Epoch 8/20\n",
            "22/22 [==============================] - 2s 87ms/step - loss: 0.0212 - accuracy: 1.0000 - val_loss: 0.1803 - val_accuracy: 0.9235\n",
            "Epoch 9/20\n",
            "22/22 [==============================] - 2s 86ms/step - loss: 0.0183 - accuracy: 1.0000 - val_loss: 0.1735 - val_accuracy: 0.9294\n",
            "Epoch 10/20\n",
            "22/22 [==============================] - 2s 86ms/step - loss: 0.0189 - accuracy: 1.0000 - val_loss: 0.2177 - val_accuracy: 0.9000\n",
            "Epoch 11/20\n",
            "22/22 [==============================] - 2s 87ms/step - loss: 0.0140 - accuracy: 1.0000 - val_loss: 0.1615 - val_accuracy: 0.9294\n",
            "Epoch 12/20\n",
            "22/22 [==============================] - 2s 86ms/step - loss: 0.0136 - accuracy: 1.0000 - val_loss: 0.1692 - val_accuracy: 0.9176\n",
            "Epoch 13/20\n",
            "22/22 [==============================] - 2s 88ms/step - loss: 0.0122 - accuracy: 1.0000 - val_loss: 0.1969 - val_accuracy: 0.9000\n",
            "Epoch 14/20\n",
            "22/22 [==============================] - 2s 88ms/step - loss: 0.0096 - accuracy: 1.0000 - val_loss: 0.1720 - val_accuracy: 0.9176\n",
            "Epoch 15/20\n",
            "22/22 [==============================] - 2s 86ms/step - loss: 0.0081 - accuracy: 1.0000 - val_loss: 0.1739 - val_accuracy: 0.9176\n",
            "Epoch 16/20\n",
            "22/22 [==============================] - 2s 87ms/step - loss: 0.0083 - accuracy: 1.0000 - val_loss: 0.1847 - val_accuracy: 0.9176\n",
            "Epoch 17/20\n",
            "22/22 [==============================] - 2s 87ms/step - loss: 0.0079 - accuracy: 1.0000 - val_loss: 0.1719 - val_accuracy: 0.9235\n",
            "Epoch 18/20\n",
            "22/22 [==============================] - 2s 88ms/step - loss: 0.0062 - accuracy: 1.0000 - val_loss: 0.1808 - val_accuracy: 0.9176\n",
            "Epoch 19/20\n",
            "22/22 [==============================] - 2s 86ms/step - loss: 0.0063 - accuracy: 1.0000 - val_loss: 0.1918 - val_accuracy: 0.9176\n",
            "Epoch 20/20\n",
            "22/22 [==============================] - 2s 87ms/step - loss: 0.0062 - accuracy: 1.0000 - val_loss: 0.1795 - val_accuracy: 0.9235\n"
          ],
          "name": "stdout"
        }
      ]
    },
    {
      "cell_type": "markdown",
      "metadata": {
        "id": "nM5v8LkpKWO2"
      },
      "source": [
        "#Plotting Model Accuracy and Loss"
      ]
    },
    {
      "cell_type": "code",
      "metadata": {
        "colab": {
          "base_uri": "https://localhost:8080/",
          "height": 298
        },
        "id": "mdbPzv5zKRf6",
        "outputId": "59f7597e-ff74-4c5e-864a-f9b9992e2c48"
      },
      "source": [
        "#get the details form the history object\n",
        "acc = history.history['accuracy']\n",
        "val_acc = history.history['val_accuracy']\n",
        "loss = history.history['loss']\n",
        "val_loss = history.history['val_loss']\n",
        "epochs = range(1, len(acc) + 1)\n",
        "#Train and validation accuracy\n",
        "plt.plot(epochs, acc, 'b', label='Training accurarcy')\n",
        "plt.plot(epochs, val_acc, 'r', label='Validation accurarcy')\n",
        "plt.title('Training and Validation accurarcy')\n",
        "plt.legend()"
      ],
      "execution_count": 75,
      "outputs": [
        {
          "output_type": "execute_result",
          "data": {
            "text/plain": [
              "<matplotlib.legend.Legend at 0x7fca4e80be50>"
            ]
          },
          "metadata": {
            "tags": []
          },
          "execution_count": 75
        },
        {
          "output_type": "display_data",
          "data": {
            "image/png": "[encoded data removed]",
            "text/plain": [
              "<Figure size 432x288 with 1 Axes>"
            ]
          },
          "metadata": {
            "tags": [],
            "needs_background": "light"
          }
        }
      ]
    },
    {
      "cell_type": "code",
      "metadata": {
        "colab": {
          "base_uri": "https://localhost:8080/",
          "height": 281
        },
        "id": "hxdWfanjKaSc",
        "outputId": "98efcdc4-50ef-4c7f-bc28-cea26d55ab6f"
      },
      "source": [
        "plt.figure()\n",
        "#Train and validation loss\n",
        "plt.plot(epochs, loss, 'b', label='Training loss')\n",
        "plt.plot(epochs, val_loss, 'r', label='Validation loss')\n",
        "plt.title('Training and Validation loss')\n",
        "plt.legend()\n",
        "plt.show()"
      ],
      "execution_count": 76,
      "outputs": [
        {
          "output_type": "display_data",
          "data": {
            "image/png": "[encoded data removed]",
            "text/plain": [
              "<Figure size 432x288 with 1 Axes>"
            ]
          },
          "metadata": {
            "tags": [],
            "needs_background": "light"
          }
        }
      ]
    },
    {
      "cell_type": "markdown",
      "metadata": {
        "id": "9xrzZei9MXYo"
      },
      "source": [
        "#InceptionResNetV2"
      ]
    },
    {
      "cell_type": "code",
      "metadata": {
        "id": "WSUe1uOsMXpn"
      },
      "source": [
        "import tensorflow as tf"
      ],
      "execution_count": 84,
      "outputs": []
    },
    {
      "cell_type": "code",
      "metadata": {
        "colab": {
          "base_uri": "https://localhost:8080/",
          "height": 0
        },
        "id": "ymhNMWelMXrh",
        "outputId": "a9125378-1529-4e60-8df9-551b8da5f04e"
      },
      "source": [
        "input_layer = layers.Input(shape=(200,200,3))\n",
        "model5 = tf.keras.applications.InceptionResNetV2(weights='imagenet',\n",
        "    include_top=False,input_tensor=input_layer)"
      ],
      "execution_count": 93,
      "outputs": [
        {
          "output_type": "stream",
          "text": [
            "Downloading data from https://storage.googleapis.com/tensorflow/keras-applications/inception_resnet_v2/inception_resnet_v2_weights_tf_dim_ordering_tf_kernels_notop.h5\n",
            "219062272/219055592 [==============================] - 2s 0us/step\n"
          ],
          "name": "stdout"
        }
      ]
    },
    {
      "cell_type": "code",
      "metadata": {
        "id": "07p8qPAhMayN"
      },
      "source": [
        "#model5.summary()"
      ],
      "execution_count": 89,
      "outputs": []
    },
    {
      "cell_type": "code",
      "metadata": {
        "colab": {
          "base_uri": "https://localhost:8080/",
          "height": 0
        },
        "id": "FOLEdBVPN26G",
        "outputId": "dbcd4810-7736-46bd-89af-05019ee889c8"
      },
      "source": [
        "\n",
        "last_layer = model5.output\n",
        "\n",
        "flat = layers.Flatten()(last_layer)\n",
        "output_layer = layers.Dense(6,activation='softmax')(flat)\n",
        "\n",
        "new_model = models.Model(inputs=input_layer,outputs=output_layer)\n",
        "for layer in new_model.layers[:-1]:\n",
        "  layer.trainable=False\n",
        "from sklearn.model_selection import train_test_split\n",
        "xtrain,xtest,ytrain,ytest = train_test_split(x,y,test_size=0.2,random_state=5)\n",
        "new_model.compile(loss='categorical_crossentropy',optimizer='adam',metrics=['accuracy'])\n",
        "history = new_model.fit(xtrain,ytrain,batch_size=32,epochs=20,validation_data=(xtest,ytest))\n"
      ],
      "execution_count": 94,
      "outputs": [
        {
          "output_type": "stream",
          "text": [
            "Epoch 1/20\n",
            "22/22 [==============================] - 19s 320ms/step - loss: 3.4131 - accuracy: 0.5700 - val_loss: 0.6967 - val_accuracy: 0.8824\n",
            "Epoch 2/20\n",
            "22/22 [==============================] - 3s 116ms/step - loss: 0.6119 - accuracy: 0.9054 - val_loss: 0.4700 - val_accuracy: 0.9294\n",
            "Epoch 3/20\n",
            "22/22 [==============================] - 3s 116ms/step - loss: 0.0843 - accuracy: 0.9839 - val_loss: 0.4704 - val_accuracy: 0.9176\n",
            "Epoch 4/20\n",
            "22/22 [==============================] - 3s 115ms/step - loss: 0.0848 - accuracy: 0.9817 - val_loss: 0.2229 - val_accuracy: 0.9588\n",
            "Epoch 5/20\n",
            "22/22 [==============================] - 2s 115ms/step - loss: 0.0088 - accuracy: 0.9980 - val_loss: 0.2569 - val_accuracy: 0.9353\n",
            "Epoch 6/20\n",
            "22/22 [==============================] - 3s 116ms/step - loss: 0.0239 - accuracy: 0.9849 - val_loss: 0.3423 - val_accuracy: 0.9353\n",
            "Epoch 7/20\n",
            "22/22 [==============================] - 3s 115ms/step - loss: 0.0134 - accuracy: 0.9970 - val_loss: 0.3103 - val_accuracy: 0.9294\n",
            "Epoch 8/20\n",
            "22/22 [==============================] - 3s 115ms/step - loss: 0.0012 - accuracy: 0.9997 - val_loss: 0.4171 - val_accuracy: 0.9471\n",
            "Epoch 9/20\n",
            "22/22 [==============================] - 3s 116ms/step - loss: 0.0034 - accuracy: 1.0000 - val_loss: 0.2702 - val_accuracy: 0.9412\n",
            "Epoch 10/20\n",
            "22/22 [==============================] - 3s 115ms/step - loss: 5.6467e-04 - accuracy: 1.0000 - val_loss: 0.2024 - val_accuracy: 0.9529\n",
            "Epoch 11/20\n",
            "22/22 [==============================] - 3s 116ms/step - loss: 5.2686e-05 - accuracy: 1.0000 - val_loss: 0.2207 - val_accuracy: 0.9471\n",
            "Epoch 12/20\n",
            "22/22 [==============================] - 3s 116ms/step - loss: 4.4043e-05 - accuracy: 1.0000 - val_loss: 0.2222 - val_accuracy: 0.9471\n",
            "Epoch 13/20\n",
            "22/22 [==============================] - 3s 117ms/step - loss: 3.0653e-05 - accuracy: 1.0000 - val_loss: 0.2216 - val_accuracy: 0.9471\n",
            "Epoch 14/20\n",
            "22/22 [==============================] - 3s 116ms/step - loss: 4.0920e-05 - accuracy: 1.0000 - val_loss: 0.2212 - val_accuracy: 0.9471\n",
            "Epoch 15/20\n",
            "22/22 [==============================] - 3s 115ms/step - loss: 3.2389e-05 - accuracy: 1.0000 - val_loss: 0.2205 - val_accuracy: 0.9471\n",
            "Epoch 16/20\n",
            "22/22 [==============================] - 3s 116ms/step - loss: 2.3152e-05 - accuracy: 1.0000 - val_loss: 0.2206 - val_accuracy: 0.9471\n",
            "Epoch 17/20\n",
            "22/22 [==============================] - 3s 117ms/step - loss: 2.3104e-05 - accuracy: 1.0000 - val_loss: 0.2195 - val_accuracy: 0.9471\n",
            "Epoch 18/20\n",
            "22/22 [==============================] - 3s 115ms/step - loss: 2.2963e-05 - accuracy: 1.0000 - val_loss: 0.2200 - val_accuracy: 0.9471\n",
            "Epoch 19/20\n",
            "22/22 [==============================] - 3s 115ms/step - loss: 1.9287e-05 - accuracy: 1.0000 - val_loss: 0.2188 - val_accuracy: 0.9471\n",
            "Epoch 20/20\n",
            "22/22 [==============================] - 3s 116ms/step - loss: 3.2454e-05 - accuracy: 1.0000 - val_loss: 0.2192 - val_accuracy: 0.9471\n"
          ],
          "name": "stdout"
        }
      ]
    },
    {
      "cell_type": "code",
      "metadata": {
        "colab": {
          "base_uri": "https://localhost:8080/",
          "height": 298
        },
        "id": "3QjRAcKvN_S3",
        "outputId": "b0e9a5f4-5468-4609-d5ec-126af4b3a2e6"
      },
      "source": [
        "#get the details form the history object\n",
        "acc = history.history['accuracy']\n",
        "val_acc = history.history['val_accuracy']\n",
        "loss = history.history['loss']\n",
        "val_loss = history.history['val_loss']\n",
        "epochs = range(1, len(acc) + 1)\n",
        "#Train and validation accuracy\n",
        "plt.plot(epochs, acc, 'b', label='Training accurarcy')\n",
        "plt.plot(epochs, val_acc, 'r', label='Validation accurarcy')\n",
        "plt.title('Training and Validation accurarcy')\n",
        "plt.legend()"
      ],
      "execution_count": 95,
      "outputs": [
        {
          "output_type": "execute_result",
          "data": {
            "text/plain": [
              "<matplotlib.legend.Legend at 0x7fca504f6e50>"
            ]
          },
          "metadata": {
            "tags": []
          },
          "execution_count": 95
        },
        {
          "output_type": "display_data",
          "data": {
            "image/png": "[encoded data removed]",
            "text/plain": [
              "<Figure size 432x288 with 1 Axes>"
            ]
          },
          "metadata": {
            "tags": [],
            "needs_background": "light"
          }
        }
      ]
    },
    {
      "cell_type": "code",
      "metadata": {
        "colab": {
          "base_uri": "https://localhost:8080/",
          "height": 281
        },
        "id": "bPHlPPgYOAJ8",
        "outputId": "a8543c88-2e12-49b8-c1a4-ee2de960c9fa"
      },
      "source": [
        "plt.figure()\n",
        "#Train and validation loss\n",
        "plt.plot(epochs, loss, 'b', label='Training loss')\n",
        "plt.plot(epochs, val_loss, 'r', label='Validation loss')\n",
        "plt.title('Training and Validation loss')\n",
        "plt.legend()\n",
        "plt.show()"
      ],
      "execution_count": 96,
      "outputs": [
        {
          "output_type": "display_data",
          "data": {
            "image/png": "[encoded data removed]",
            "text/plain": [
              "<Figure size 432x288 with 1 Axes>"
            ]
          },
          "metadata": {
            "tags": [],
            "needs_background": "light"
          }
        }
      ]
    },
    {
      "cell_type": "code",
      "metadata": {
        "id": "qZCRV889OCah"
      },
      "source": [
        ""
      ],
      "execution_count": null,
      "outputs": []
    }
  ]
}