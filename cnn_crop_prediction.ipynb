{
  "nbformat": 4,
  "nbformat_minor": 0,
  "metadata": {
    "kernelspec": {
      "display_name": "Python 3",
      "language": "python",
      "name": "python3"
    },
    "language_info": {
      "codemirror_mode": {
        "name": "ipython",
        "version": 3
      },
      "file_extension": ".py",
      "mimetype": "text/x-python",
      "name": "python",
      "nbconvert_exporter": "python",
      "pygments_lexer": "ipython3",
      "version": "3.8.8"
    },
    "colab": {
      "name": "cnn-crop-prediction.ipynb",
      "provenance": [],
      "include_colab_link": true
    },
    "accelerator": "GPU"
  },
  "cells": [
    {
      "cell_type": "markdown",
      "metadata": {
        "id": "view-in-github",
        "colab_type": "text"
      },
      "source": [
        "<a href=\"https://colab.research.google.com/github/KalyanMohanty/Fruit_Classification/blob/fruit_classification_second_paper/cnn_crop_prediction.ipynb\" target=\"_parent\"><img src=\"https://colab.research.google.com/assets/colab-badge.svg\" alt=\"Open In Colab\"/></a>"
      ]
    },
    {
      "cell_type": "code",
      "metadata": {
        "colab": {
          "base_uri": "https://localhost:8080/"
        },
        "id": "ksUbJsmvcq4z",
        "outputId": "c98e6e31-9d6b-438f-e22f-6e841c764d05"
      },
      "source": [
        "# from google.colab import drive\n",
        "# drive.mount('/content/drive')"
      ],
      "execution_count": null,
      "outputs": [
        {
          "output_type": "stream",
          "name": "stdout",
          "text": [
            "Mounted at /content/drive\n"
          ]
        }
      ]
    },
    {
      "cell_type": "code",
      "metadata": {
        "_cell_guid": "b1076dfc-b9ad-4769-8c92-a6c4dae69d19",
        "_uuid": "8f2839f25d086af736a60e9eeb907d3b93b6e0e5",
        "execution": {
          "iopub.execute_input": "2021-08-27T17:00:57.825981Z",
          "iopub.status.busy": "2021-08-27T17:00:57.825565Z",
          "iopub.status.idle": "2021-08-27T17:01:02.264413Z",
          "shell.execute_reply": "2021-08-27T17:01:02.26347Z",
          "shell.execute_reply.started": "2021-08-27T17:00:57.825889Z"
        },
        "id": "VW6S1dt8cerL"
      },
      "source": [
        "\n",
        "import numpy as np \n",
        "import pandas as pd \n",
        "import os\n",
        "import matplotlib.pyplot as plt\n",
        "\n",
        "from tensorflow.keras.optimizers import Adam"
      ],
      "execution_count": 19,
      "outputs": []
    },
    {
      "cell_type": "code",
      "metadata": {
        "execution": {
          "iopub.execute_input": "2021-08-27T17:01:03.67778Z",
          "iopub.status.busy": "2021-08-27T17:01:03.677469Z",
          "iopub.status.idle": "2021-08-27T17:01:03.711083Z",
          "shell.execute_reply": "2021-08-27T17:01:03.710301Z",
          "shell.execute_reply.started": "2021-08-27T17:01:03.67775Z"
        },
        "id": "X6HO0a4_cerW"
      },
      "source": [
        "# C:/Users/kalya_kl8c3da/Documents/img_classification/archive_2_64_mb/some_more_images/some_more_images\n",
        "df = pd.read_csv('/content/drive/MyDrive/Colab Notebooks/dataset_dev_2_64_mb/Crop_details.csv')\n"
      ],
      "execution_count": 3,
      "outputs": []
    },
    {
      "cell_type": "code",
      "metadata": {
        "execution": {
          "iopub.execute_input": "2021-08-27T17:01:04.576959Z",
          "iopub.status.busy": "2021-08-27T17:01:04.576614Z",
          "iopub.status.idle": "2021-08-27T17:01:04.605739Z",
          "shell.execute_reply": "2021-08-27T17:01:04.604779Z",
          "shell.execute_reply.started": "2021-08-27T17:01:04.576928Z"
        },
        "id": "KfkwQXGgcerZ",
        "colab": {
          "base_uri": "https://localhost:8080/",
          "height": 419
        },
        "outputId": "51837c06-84a0-4f42-e116-927f29ab4587"
      },
      "source": [
        "df"
      ],
      "execution_count": 4,
      "outputs": [
        {
          "output_type": "execute_result",
          "data": {
            "text/html": [
              "<div>\n",
              "<style scoped>\n",
              "    .dataframe tbody tr th:only-of-type {\n",
              "        vertical-align: middle;\n",
              "    }\n",
              "\n",
              "    .dataframe tbody tr th {\n",
              "        vertical-align: top;\n",
              "    }\n",
              "\n",
              "    .dataframe thead th {\n",
              "        text-align: right;\n",
              "    }\n",
              "</style>\n",
              "<table border=\"1\" class=\"dataframe\">\n",
              "  <thead>\n",
              "    <tr style=\"text-align: right;\">\n",
              "      <th></th>\n",
              "      <th>Unnamed: 0</th>\n",
              "      <th>path</th>\n",
              "      <th>crop</th>\n",
              "      <th>croplabel</th>\n",
              "    </tr>\n",
              "  </thead>\n",
              "  <tbody>\n",
              "    <tr>\n",
              "      <th>0</th>\n",
              "      <td>0</td>\n",
              "      <td>/kaggle/input/kag2/sugarcane/sugarcane037ahs.jpeg</td>\n",
              "      <td>sugarcane</td>\n",
              "      <td>3</td>\n",
              "    </tr>\n",
              "    <tr>\n",
              "      <th>1</th>\n",
              "      <td>1</td>\n",
              "      <td>/kaggle/input/kag2/sugarcane/sugarcane034a.jpeg</td>\n",
              "      <td>sugarcane</td>\n",
              "      <td>3</td>\n",
              "    </tr>\n",
              "    <tr>\n",
              "      <th>2</th>\n",
              "      <td>2</td>\n",
              "      <td>/kaggle/input/kag2/sugarcane/sugarcane032arot....</td>\n",
              "      <td>sugarcane</td>\n",
              "      <td>3</td>\n",
              "    </tr>\n",
              "    <tr>\n",
              "      <th>3</th>\n",
              "      <td>3</td>\n",
              "      <td>/kaggle/input/kag2/sugarcane/sugarcane036ahs.jpeg</td>\n",
              "      <td>sugarcane</td>\n",
              "      <td>3</td>\n",
              "    </tr>\n",
              "    <tr>\n",
              "      <th>4</th>\n",
              "      <td>4</td>\n",
              "      <td>/kaggle/input/kag2/sugarcane/sugarcane023ahs.jpeg</td>\n",
              "      <td>sugarcane</td>\n",
              "      <td>3</td>\n",
              "    </tr>\n",
              "    <tr>\n",
              "      <th>...</th>\n",
              "      <td>...</td>\n",
              "      <td>...</td>\n",
              "      <td>...</td>\n",
              "      <td>...</td>\n",
              "    </tr>\n",
              "    <tr>\n",
              "      <th>994</th>\n",
              "      <td>994</td>\n",
              "      <td>/kaggle/input/crop_images/rice/rice018a.jpeg</td>\n",
              "      <td>rice</td>\n",
              "      <td>2</td>\n",
              "    </tr>\n",
              "    <tr>\n",
              "      <th>995</th>\n",
              "      <td>995</td>\n",
              "      <td>/kaggle/input/crop_images/rice/rice027a.jpeg</td>\n",
              "      <td>rice</td>\n",
              "      <td>2</td>\n",
              "    </tr>\n",
              "    <tr>\n",
              "      <th>996</th>\n",
              "      <td>996</td>\n",
              "      <td>/kaggle/input/crop_images/rice/rice015a.jpeg</td>\n",
              "      <td>rice</td>\n",
              "      <td>2</td>\n",
              "    </tr>\n",
              "    <tr>\n",
              "      <th>997</th>\n",
              "      <td>997</td>\n",
              "      <td>/kaggle/input/crop_images/rice/rice034a.jpeg</td>\n",
              "      <td>rice</td>\n",
              "      <td>2</td>\n",
              "    </tr>\n",
              "    <tr>\n",
              "      <th>998</th>\n",
              "      <td>998</td>\n",
              "      <td>/kaggle/input/crop_images/rice/rice032a.jpeg</td>\n",
              "      <td>rice</td>\n",
              "      <td>2</td>\n",
              "    </tr>\n",
              "  </tbody>\n",
              "</table>\n",
              "<p>999 rows × 4 columns</p>\n",
              "</div>"
            ],
            "text/plain": [
              "     Unnamed: 0  ... croplabel\n",
              "0             0  ...         3\n",
              "1             1  ...         3\n",
              "2             2  ...         3\n",
              "3             3  ...         3\n",
              "4             4  ...         3\n",
              "..          ...  ...       ...\n",
              "994         994  ...         2\n",
              "995         995  ...         2\n",
              "996         996  ...         2\n",
              "997         997  ...         2\n",
              "998         998  ...         2\n",
              "\n",
              "[999 rows x 4 columns]"
            ]
          },
          "metadata": {},
          "execution_count": 4
        }
      ]
    },
    {
      "cell_type": "code",
      "metadata": {
        "execution": {
          "iopub.execute_input": "2021-08-27T17:01:07.09707Z",
          "iopub.status.busy": "2021-08-27T17:01:07.096719Z",
          "iopub.status.idle": "2021-08-27T17:01:07.101356Z",
          "shell.execute_reply": "2021-08-27T17:01:07.100185Z",
          "shell.execute_reply.started": "2021-08-27T17:01:07.097039Z"
        },
        "id": "zhb0mT-Jcerb"
      },
      "source": [
        "\n",
        "from tensorflow.keras.preprocessing.image import ImageDataGenerator\n"
      ],
      "execution_count": 5,
      "outputs": []
    },
    {
      "cell_type": "code",
      "metadata": {
        "execution": {
          "iopub.execute_input": "2021-08-27T17:01:09.349177Z",
          "iopub.status.busy": "2021-08-27T17:01:09.348788Z",
          "iopub.status.idle": "2021-08-27T17:01:09.353923Z",
          "shell.execute_reply": "2021-08-27T17:01:09.352689Z",
          "shell.execute_reply.started": "2021-08-27T17:01:09.34914Z"
        },
        "id": "QN01wjnIcerd"
      },
      "source": [
        "get_data = ImageDataGenerator(rescale=1/255,shear_range=0.2,horizontal_flip=True,\n",
        "    vertical_flip=True)"
      ],
      "execution_count": 6,
      "outputs": []
    },
    {
      "cell_type": "code",
      "metadata": {
        "execution": {
          "iopub.execute_input": "2021-08-27T17:19:13.238985Z",
          "iopub.status.busy": "2021-08-27T17:19:13.23858Z",
          "iopub.status.idle": "2021-08-27T17:19:13.568036Z",
          "shell.execute_reply": "2021-08-27T17:19:13.567238Z",
          "shell.execute_reply.started": "2021-08-27T17:19:13.238945Z"
        },
        "id": "pP-C_urMcere",
        "colab": {
          "base_uri": "https://localhost:8080/"
        },
        "outputId": "1ccf09d0-5806-4b83-a639-4498a3851732"
      },
      "source": [
        "\n",
        "train1 = get_data.flow_from_directory('/content/drive/MyDrive/Colab Notebooks/dataset_dev_2_64_mb/kag2',\n",
        "                                     target_size=(224,224)\n",
        "                                     ,batch_size=1)\n",
        "\n",
        "train2 = get_data.flow_from_directory('/content/drive/MyDrive/Colab Notebooks/dataset_dev_2_64_mb/crop_images',\n",
        "                                      \n",
        "                                     target_size=(224,224)\n",
        "                                      \n",
        "                                     ,batch_size=1)\n",
        "\n",
        "\n",
        "#using 'some more images' as a test data\n",
        "\n",
        "test = get_data.flow_from_directory('/content/drive/MyDrive/Colab Notebooks/dataset_dev_2_64_mb/some_more_images',\n",
        "                                     target_size=(224,224),batch_size=1)\n",
        "\n",
        "\n",
        "\n",
        "\n",
        "\n"
      ],
      "execution_count": 7,
      "outputs": [
        {
          "output_type": "stream",
          "name": "stdout",
          "text": [
            "Found 804 images belonging to 5 classes.\n",
            "Found 201 images belonging to 5 classes.\n",
            "Found 50 images belonging to 1 classes.\n"
          ]
        }
      ]
    },
    {
      "cell_type": "code",
      "metadata": {
        "execution": {
          "iopub.execute_input": "2021-08-27T17:01:16.357228Z",
          "iopub.status.busy": "2021-08-27T17:01:16.356906Z",
          "iopub.status.idle": "2021-08-27T17:01:16.361506Z",
          "shell.execute_reply": "2021-08-27T17:01:16.360532Z",
          "shell.execute_reply.started": "2021-08-27T17:01:16.357198Z"
        },
        "id": "fiOLitEpcerh"
      },
      "source": [
        "from tensorflow.keras.applications.resnet50 import ResNet50"
      ],
      "execution_count": 8,
      "outputs": []
    },
    {
      "cell_type": "code",
      "metadata": {
        "execution": {
          "iopub.execute_input": "2021-08-27T17:01:22.249262Z",
          "iopub.status.busy": "2021-08-27T17:01:22.248921Z",
          "iopub.status.idle": "2021-08-27T17:01:26.489365Z",
          "shell.execute_reply": "2021-08-27T17:01:26.488177Z",
          "shell.execute_reply.started": "2021-08-27T17:01:22.249231Z"
        },
        "id": "x-Bwx5j9cerl"
      },
      "source": [
        "resnet_model =ResNet50(include_top=False,input_shape=(224,224,3))"
      ],
      "execution_count": 9,
      "outputs": []
    },
    {
      "cell_type": "code",
      "metadata": {
        "execution": {
          "iopub.execute_input": "2021-08-27T17:01:26.496708Z",
          "iopub.status.busy": "2021-08-27T17:01:26.494489Z",
          "iopub.status.idle": "2021-08-27T17:01:26.509688Z",
          "shell.execute_reply": "2021-08-27T17:01:26.50887Z",
          "shell.execute_reply.started": "2021-08-27T17:01:26.496665Z"
        },
        "id": "tREyMLGhcerm"
      },
      "source": [
        "for layers in resnet_model.layers:\n",
        "    layers.trainable=False\n",
        "    "
      ],
      "execution_count": 10,
      "outputs": []
    },
    {
      "cell_type": "code",
      "metadata": {
        "execution": {
          "iopub.execute_input": "2021-08-27T17:01:26.517062Z",
          "iopub.status.busy": "2021-08-27T17:01:26.515438Z",
          "iopub.status.idle": "2021-08-27T17:01:26.526537Z",
          "shell.execute_reply": "2021-08-27T17:01:26.525593Z",
          "shell.execute_reply.started": "2021-08-27T17:01:26.517021Z"
        },
        "id": "Xghy4guBcerp"
      },
      "source": [
        "#resnet_model.summary()"
      ],
      "execution_count": 11,
      "outputs": []
    },
    {
      "cell_type": "code",
      "metadata": {
        "execution": {
          "iopub.execute_input": "2021-08-27T17:01:26.52833Z",
          "iopub.status.busy": "2021-08-27T17:01:26.527942Z",
          "iopub.status.idle": "2021-08-27T17:01:26.536885Z",
          "shell.execute_reply": "2021-08-27T17:01:26.5361Z",
          "shell.execute_reply.started": "2021-08-27T17:01:26.528279Z"
        },
        "id": "ICnc2VR8cerr"
      },
      "source": [
        "from tensorflow.keras.layers import Dense,Flatten\n",
        "from tensorflow.keras.models import Model"
      ],
      "execution_count": 12,
      "outputs": []
    },
    {
      "cell_type": "code",
      "metadata": {
        "execution": {
          "iopub.execute_input": "2021-08-27T17:01:29.257189Z",
          "iopub.status.busy": "2021-08-27T17:01:29.256873Z",
          "iopub.status.idle": "2021-08-27T17:01:29.277082Z",
          "shell.execute_reply": "2021-08-27T17:01:29.276166Z",
          "shell.execute_reply.started": "2021-08-27T17:01:29.257154Z"
        },
        "id": "sGD8gd7lcert",
        "colab": {
          "base_uri": "https://localhost:8080/"
        },
        "outputId": "84ef51e7-1631-4134-eaa2-ac31d6b05156"
      },
      "source": [
        "resnet_flat = Flatten()(resnet_model.output)\n",
        "last_layer =  Dense(5,activation='softmax')(resnet_flat)\n",
        "last_layer"
      ],
      "execution_count": 13,
      "outputs": [
        {
          "output_type": "execute_result",
          "data": {
            "text/plain": [
              "<KerasTensor: shape=(None, 5) dtype=float32 (created by layer 'dense')>"
            ]
          },
          "metadata": {},
          "execution_count": 13
        }
      ]
    },
    {
      "cell_type": "code",
      "metadata": {
        "execution": {
          "iopub.execute_input": "2021-08-27T17:01:51.616895Z",
          "iopub.status.busy": "2021-08-27T17:01:51.616552Z",
          "iopub.status.idle": "2021-08-27T17:01:51.63402Z",
          "shell.execute_reply": "2021-08-27T17:01:51.633212Z",
          "shell.execute_reply.started": "2021-08-27T17:01:51.616842Z"
        },
        "id": "iUOSqBGzcerv"
      },
      "source": [
        "my_resnet_model = Model(inputs=resnet_model.input , outputs=last_layer,)\n",
        "#my_resnet_model.summary()"
      ],
      "execution_count": 14,
      "outputs": []
    },
    {
      "cell_type": "code",
      "metadata": {
        "execution": {
          "iopub.execute_input": "2021-08-27T17:02:24.018403Z",
          "iopub.status.busy": "2021-08-27T17:02:24.018086Z",
          "iopub.status.idle": "2021-08-27T17:02:24.036668Z",
          "shell.execute_reply": "2021-08-27T17:02:24.035601Z",
          "shell.execute_reply.started": "2021-08-27T17:02:24.018373Z"
        },
        "id": "-Dav1QO5cerw"
      },
      "source": [
        "\n",
        "reshis = my_resnet_model.compile(loss='categorical_crossentropy',\n",
        "    metrics=['accuracy'],optimizer=Adam(0.0001))"
      ],
      "execution_count": 15,
      "outputs": []
    },
    {
      "cell_type": "code",
      "metadata": {
        "execution": {
          "iopub.execute_input": "2021-08-27T17:02:25.237295Z",
          "iopub.status.busy": "2021-08-27T17:02:25.236966Z",
          "iopub.status.idle": "2021-08-27T17:14:19.573718Z",
          "shell.execute_reply": "2021-08-27T17:14:19.572915Z",
          "shell.execute_reply.started": "2021-08-27T17:02:25.237265Z"
        },
        "id": "KgKbFWpScery",
        "colab": {
          "base_uri": "https://localhost:8080/"
        },
        "outputId": "061640df-3448-4980-8aad-d8c1df2cb5ac"
      },
      "source": [
        "reshis = my_resnet_model.fit_generator(train1,epochs=50)\n"
      ],
      "execution_count": 16,
      "outputs": [
        {
          "output_type": "stream",
          "name": "stderr",
          "text": [
            "/usr/local/lib/python3.7/dist-packages/keras/engine/training.py:1972: UserWarning: `Model.fit_generator` is deprecated and will be removed in a future version. Please use `Model.fit`, which supports generators.\n",
            "  warnings.warn('`Model.fit_generator` is deprecated and '\n"
          ]
        },
        {
          "output_type": "stream",
          "name": "stdout",
          "text": [
            "Epoch 1/50\n",
            "804/804 [==============================] - 29s 29ms/step - loss: 2.0655 - accuracy: 0.2525\n",
            "Epoch 2/50\n",
            "804/804 [==============================] - 23s 29ms/step - loss: 1.9270 - accuracy: 0.3271\n",
            "Epoch 3/50\n",
            "804/804 [==============================] - 23s 29ms/step - loss: 1.6930 - accuracy: 0.3694\n",
            "Epoch 4/50\n",
            "804/804 [==============================] - 23s 29ms/step - loss: 1.5772 - accuracy: 0.4067\n",
            "Epoch 5/50\n",
            "804/804 [==============================] - 23s 29ms/step - loss: 1.5093 - accuracy: 0.4391\n",
            "Epoch 6/50\n",
            "804/804 [==============================] - 23s 29ms/step - loss: 1.4807 - accuracy: 0.4478\n",
            "Epoch 7/50\n",
            "804/804 [==============================] - 23s 29ms/step - loss: 1.3784 - accuracy: 0.4577\n",
            "Epoch 8/50\n",
            "804/804 [==============================] - 23s 29ms/step - loss: 1.4099 - accuracy: 0.4913\n",
            "Epoch 9/50\n",
            "804/804 [==============================] - 23s 29ms/step - loss: 1.4193 - accuracy: 0.4664\n",
            "Epoch 10/50\n",
            "804/804 [==============================] - 23s 29ms/step - loss: 1.2965 - accuracy: 0.5236\n",
            "Epoch 11/50\n",
            "804/804 [==============================] - 23s 29ms/step - loss: 1.4137 - accuracy: 0.4938\n",
            "Epoch 12/50\n",
            "804/804 [==============================] - 23s 29ms/step - loss: 1.3142 - accuracy: 0.4988\n",
            "Epoch 13/50\n",
            "804/804 [==============================] - 24s 29ms/step - loss: 1.2941 - accuracy: 0.5261\n",
            "Epoch 14/50\n",
            "804/804 [==============================] - 24s 29ms/step - loss: 1.1001 - accuracy: 0.5721\n",
            "Epoch 15/50\n",
            "804/804 [==============================] - 23s 29ms/step - loss: 1.1450 - accuracy: 0.5510\n",
            "Epoch 16/50\n",
            "804/804 [==============================] - 24s 29ms/step - loss: 1.1922 - accuracy: 0.5572\n",
            "Epoch 17/50\n",
            "804/804 [==============================] - 24s 29ms/step - loss: 1.2053 - accuracy: 0.5684\n",
            "Epoch 18/50\n",
            "804/804 [==============================] - 23s 29ms/step - loss: 1.0437 - accuracy: 0.6007\n",
            "Epoch 19/50\n",
            "804/804 [==============================] - 23s 29ms/step - loss: 1.0571 - accuracy: 0.6182\n",
            "Epoch 20/50\n",
            "804/804 [==============================] - 23s 29ms/step - loss: 0.9971 - accuracy: 0.6157\n",
            "Epoch 21/50\n",
            "804/804 [==============================] - 23s 29ms/step - loss: 1.0771 - accuracy: 0.6132\n",
            "Epoch 22/50\n",
            "804/804 [==============================] - 23s 29ms/step - loss: 1.0161 - accuracy: 0.6331\n",
            "Epoch 23/50\n",
            "804/804 [==============================] - 23s 29ms/step - loss: 1.0351 - accuracy: 0.6132\n",
            "Epoch 24/50\n",
            "804/804 [==============================] - 23s 29ms/step - loss: 1.0106 - accuracy: 0.6281\n",
            "Epoch 25/50\n",
            "804/804 [==============================] - 23s 29ms/step - loss: 0.8984 - accuracy: 0.6381\n",
            "Epoch 26/50\n",
            "804/804 [==============================] - 23s 29ms/step - loss: 0.9827 - accuracy: 0.6381\n",
            "Epoch 27/50\n",
            "804/804 [==============================] - 23s 29ms/step - loss: 0.9529 - accuracy: 0.6480\n",
            "Epoch 28/50\n",
            "804/804 [==============================] - 23s 29ms/step - loss: 0.8397 - accuracy: 0.6915\n",
            "Epoch 29/50\n",
            "804/804 [==============================] - 24s 29ms/step - loss: 0.8770 - accuracy: 0.6679\n",
            "Epoch 30/50\n",
            "804/804 [==============================] - 23s 29ms/step - loss: 0.8246 - accuracy: 0.7015\n",
            "Epoch 31/50\n",
            "804/804 [==============================] - 23s 29ms/step - loss: 0.8605 - accuracy: 0.6841\n",
            "Epoch 32/50\n",
            "804/804 [==============================] - 23s 29ms/step - loss: 0.8389 - accuracy: 0.6940\n",
            "Epoch 33/50\n",
            "804/804 [==============================] - 23s 29ms/step - loss: 0.8946 - accuracy: 0.6754\n",
            "Epoch 34/50\n",
            "804/804 [==============================] - 23s 29ms/step - loss: 0.8057 - accuracy: 0.7090\n",
            "Epoch 35/50\n",
            "804/804 [==============================] - 23s 29ms/step - loss: 0.7123 - accuracy: 0.7388\n",
            "Epoch 36/50\n",
            "804/804 [==============================] - 23s 29ms/step - loss: 0.7728 - accuracy: 0.7164\n",
            "Epoch 37/50\n",
            "804/804 [==============================] - 23s 29ms/step - loss: 0.7367 - accuracy: 0.7201\n",
            "Epoch 38/50\n",
            "804/804 [==============================] - 23s 29ms/step - loss: 0.8135 - accuracy: 0.7114\n",
            "Epoch 39/50\n",
            "804/804 [==============================] - 23s 29ms/step - loss: 0.8272 - accuracy: 0.6953\n",
            "Epoch 40/50\n",
            "804/804 [==============================] - 23s 29ms/step - loss: 0.7109 - accuracy: 0.7301\n",
            "Epoch 41/50\n",
            "804/804 [==============================] - 23s 29ms/step - loss: 0.7116 - accuracy: 0.7289\n",
            "Epoch 42/50\n",
            "804/804 [==============================] - 23s 29ms/step - loss: 0.6898 - accuracy: 0.7400\n",
            "Epoch 43/50\n",
            "804/804 [==============================] - 23s 29ms/step - loss: 0.6607 - accuracy: 0.7525\n",
            "Epoch 44/50\n",
            "804/804 [==============================] - 23s 29ms/step - loss: 0.6882 - accuracy: 0.7289\n",
            "Epoch 45/50\n",
            "804/804 [==============================] - 23s 29ms/step - loss: 0.7057 - accuracy: 0.7425\n",
            "Epoch 46/50\n",
            "804/804 [==============================] - 23s 29ms/step - loss: 0.7124 - accuracy: 0.7525\n",
            "Epoch 47/50\n",
            "804/804 [==============================] - 23s 29ms/step - loss: 0.6555 - accuracy: 0.7562\n",
            "Epoch 48/50\n",
            "804/804 [==============================] - 23s 29ms/step - loss: 0.6476 - accuracy: 0.7500\n",
            "Epoch 49/50\n",
            "804/804 [==============================] - 23s 29ms/step - loss: 0.6280 - accuracy: 0.7562\n",
            "Epoch 50/50\n",
            "804/804 [==============================] - 23s 29ms/step - loss: 0.6656 - accuracy: 0.7525\n"
          ]
        }
      ]
    },
    {
      "cell_type": "code",
      "metadata": {
        "colab": {
          "base_uri": "https://localhost:8080/",
          "height": 296
        },
        "id": "UtuVnesdmjFI",
        "outputId": "82dbb07e-de54-4763-d843-d35a9ee79c11"
      },
      "source": [
        "#get the details form the history object\n",
        "acc = reshis.history['accuracy']\n",
        "# val_acc = reshis.history['val_accuracy']\n",
        "loss = reshis.history['loss']\n",
        "# val_loss = reshis.history['val_loss']\n",
        "epochs = range(1, len(acc) + 1)\n",
        "#Train and validation accuracy\n",
        "plt.plot(epochs, acc, 'b', label='Training accurarcy')\n",
        "# plt.plot(epochs, val_acc, 'r', label='Validation accurarcy')\n",
        "# plt.title(' ResNet50 - Training and Validation accurarcy')\n",
        "plt.xlabel(\"Number of Epochs\")\n",
        "plt.ylabel(\"Accuracy\")\n",
        "plt.legend()\n",
        "plt.grid()\n",
        "plt.legend()"
      ],
      "execution_count": 20,
      "outputs": [
        {
          "output_type": "execute_result",
          "data": {
            "text/plain": [
              "<matplotlib.legend.Legend at 0x7fb6f57b9f10>"
            ]
          },
          "metadata": {},
          "execution_count": 20
        },
        {
          "output_type": "display_data",
          "data": {
            "image/png": "[encoded data removed]",
            "text/plain": [
              "<Figure size 432x288 with 1 Axes>"
            ]
          },
          "metadata": {
            "needs_background": "light"
          }
        }
      ]
    },
    {
      "cell_type": "code",
      "metadata": {
        "colab": {
          "base_uri": "https://localhost:8080/",
          "height": 313
        },
        "id": "AuxJEWYtr8Nw",
        "outputId": "ec897e06-4532-4656-f2ba-87f882addf29"
      },
      "source": [
        "plt.figure()\n",
        "#Train and validation loss\n",
        "plt.plot(epochs, loss, 'b', label='Training loss')\n",
        "# plt.plot(epochs, val_loss, 'r', label='Validation loss')\n",
        "plt.title('ResNet50 - Training loss')\n",
        "plt.xlabel(\"Number of Epochs\")\n",
        "plt.ylabel(\"Loss\")\n",
        "plt.grid()\n",
        "plt.legend()\n",
        "\n",
        "# plt.savefig(\"/content/drive/MyDrive/Colab Notebooks/Fruit Classification Notebook/plots/50_ep_Resnet50_Loss.png\")"
      ],
      "execution_count": 21,
      "outputs": [
        {
          "output_type": "execute_result",
          "data": {
            "text/plain": [
              "<matplotlib.legend.Legend at 0x7fb6f67690d0>"
            ]
          },
          "metadata": {},
          "execution_count": 21
        },
        {
          "output_type": "display_data",
          "data": {
            "image/png": "[encoded data removed]",
            "text/plain": [
              "<Figure size 432x288 with 1 Axes>"
            ]
          },
          "metadata": {
            "needs_background": "light"
          }
        }
      ]
    },
    {
      "cell_type": "markdown",
      "metadata": {
        "execution": {
          "iopub.execute_input": "2021-08-27T17:18:28.133022Z",
          "iopub.status.busy": "2021-08-27T17:18:28.132682Z",
          "iopub.status.idle": "2021-08-27T17:18:41.758152Z",
          "shell.execute_reply": "2021-08-27T17:18:41.757335Z",
          "shell.execute_reply.started": "2021-08-27T17:18:28.132988Z"
        },
        "id": "xujvNzfVcerz"
      },
      "source": [
        "******Model Accuracy on Known Data"
      ]
    },
    {
      "cell_type": "code",
      "metadata": {
        "execution": {
          "iopub.execute_input": "2021-08-27T17:20:23.169721Z",
          "iopub.status.busy": "2021-08-27T17:20:23.169391Z",
          "iopub.status.idle": "2021-08-27T17:20:37.791983Z",
          "shell.execute_reply": "2021-08-27T17:20:37.790869Z",
          "shell.execute_reply.started": "2021-08-27T17:20:23.169689Z"
        },
        "id": "r_avHrX1cer6",
        "colab": {
          "base_uri": "https://localhost:8080/"
        },
        "outputId": "2f0da3b3-d770-4fe9-87c6-3b65f23d71b9"
      },
      "source": [
        "my_resnet_model.evaluate(train1)\n"
      ],
      "execution_count": 22,
      "outputs": [
        {
          "output_type": "stream",
          "name": "stdout",
          "text": [
            "804/804 [==============================] - 24s 29ms/step - loss: 1.1733 - accuracy: 0.5249\n"
          ]
        },
        {
          "output_type": "execute_result",
          "data": {
            "text/plain": [
              "[1.1733191013336182, 0.5248756408691406]"
            ]
          },
          "metadata": {},
          "execution_count": 22
        }
      ]
    },
    {
      "cell_type": "code",
      "metadata": {
        "execution": {
          "iopub.execute_input": "2021-08-27T17:23:11.590354Z",
          "iopub.status.busy": "2021-08-27T17:23:11.589899Z",
          "iopub.status.idle": "2021-08-27T17:23:15.047537Z",
          "shell.execute_reply": "2021-08-27T17:23:15.046741Z",
          "shell.execute_reply.started": "2021-08-27T17:23:11.590314Z"
        },
        "id": "UlsZmE2bcer7",
        "colab": {
          "base_uri": "https://localhost:8080/"
        },
        "outputId": "5d0b8f0b-2b37-4f58-b917-b25aba30f1d0"
      },
      "source": [
        "my_resnet_model.evaluate_generator(train2)"
      ],
      "execution_count": 23,
      "outputs": [
        {
          "output_type": "stream",
          "name": "stderr",
          "text": [
            "/usr/local/lib/python3.7/dist-packages/keras/engine/training.py:2006: UserWarning: `Model.evaluate_generator` is deprecated and will be removed in a future version. Please use `Model.evaluate`, which supports generators.\n",
            "  warnings.warn('`Model.evaluate_generator` is deprecated and '\n"
          ]
        },
        {
          "output_type": "execute_result",
          "data": {
            "text/plain": [
              "[1.1425929069519043, 0.5273631811141968]"
            ]
          },
          "metadata": {},
          "execution_count": 23
        }
      ]
    },
    {
      "cell_type": "markdown",
      "metadata": {
        "id": "Kh7yccEecer8"
      },
      "source": [
        ""
      ]
    },
    {
      "cell_type": "code",
      "metadata": {
        "execution": {
          "iopub.execute_input": "2021-08-27T17:45:17.642506Z",
          "iopub.status.busy": "2021-08-27T17:45:17.642172Z",
          "iopub.status.idle": "2021-08-27T17:45:19.9191Z",
          "shell.execute_reply": "2021-08-27T17:45:19.918357Z",
          "shell.execute_reply.started": "2021-08-27T17:45:17.642476Z"
        },
        "id": "TNRRMPKecer9"
      },
      "source": [
        "my_resnet_model.evaluate(test)"
      ],
      "execution_count": null,
      "outputs": []
    },
    {
      "cell_type": "code",
      "metadata": {
        "id": "pzOEDIxAcer9"
      },
      "source": [
        ""
      ],
      "execution_count": null,
      "outputs": []
    }
  ]
}